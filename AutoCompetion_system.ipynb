{
  "cells": [
    {
      "cell_type": "code",
      "execution_count": null,
      "metadata": {
        "id": "5SEf3-e2xyqZ"
      },
      "outputs": [],
      "source": [
        "\n",
        "import numpy as np\n",
        "import pandas as pd\n",
        "import re\n",
        "import pickle\n",
        "import random\n",
        "from tqdm import tqdm_notebook\n",
        "import torch\n",
        "from torch import nn\n",
        "import torch.nn.functional as F\n"
      ]
    },
    {
      "cell_type": "code",
      "execution_count": null,
      "metadata": {
        "colab": {
          "base_uri": "https://localhost:8080/"
        },
        "id": "vZqXSMFDyg7j",
        "outputId": "9c237240-d57b-4633-cf98-42773c08f961"
      },
      "outputs": [
        {
          "data": {
            "text/plain": [
              "<torch._C.Generator at 0x7e55aae570f0>"
            ]
          },
          "execution_count": 49,
          "metadata": {},
          "output_type": "execute_result"
        }
      ],
      "source": [
        "SEED=2019 #so that o/p will be same when we run multiple times\n",
        "torch.manual_seed(SEED)"
      ]
    },
    {
      "cell_type": "code",
      "execution_count": null,
      "metadata": {
        "id": "UOfwOFdly08W"
      },
      "outputs": [],
      "source": []
    },
    {
      "cell_type": "markdown",
      "metadata": {
        "id": "9drrICxUy2DH"
      },
      "source": [
        "### **Load Dataset**"
      ]
    },
    {
      "cell_type": "code",
      "execution_count": null,
      "metadata": {
        "id": "wgsU03Xky4qy"
      },
      "outputs": [],
      "source": [
        "with open(\"dialogs_dataset\",\"rb\") as f:#this dataset is just the subset of taskmaster dataset bcs google colab may not handle whole data\n",
        "    dialogs=pickle.load(f)"
      ]
    },
    {
      "cell_type": "code",
      "execution_count": null,
      "metadata": {
        "colab": {
          "base_uri": "https://localhost:8080/"
        },
        "id": "duN4Qr2PzFQQ",
        "outputId": "da8aef68-bcc1-49a3-af94-8b864676397e"
      },
      "outputs": [
        {
          "data": {
            "text/plain": [
              "64776"
            ]
          },
          "execution_count": 51,
          "metadata": {},
          "output_type": "execute_result"
        }
      ],
      "source": [
        "len(dialogs)"
      ]
    },
    {
      "cell_type": "code",
      "execution_count": null,
      "metadata": {
        "colab": {
          "base_uri": "https://localhost:8080/"
        },
        "id": "tXxSzDqMz35S",
        "outputId": "63a7fcfa-fbd9-47b5-90b5-b8f801f712ce"
      },
      "outputs": [
        {
          "data": {
            "text/plain": [
              "[\" no, I don't think so\",\n",
              " 'Thanks! Do you have a cost estimate?',\n",
              " \"I haven't used my Uber credit this month, have I?\",\n",
              " 'Edwards South Gate Stadium',\n",
              " 'I can do that',\n",
              " 'Hey, I need movie tickets for two for tonight',\n",
              " 'Sounds good, when are they going to be able to take a look at my truck?',\n",
              " \"I don't want want to break the bank so Get a speical if they have it\",\n",
              " 'What is the total? ',\n",
              " 'I would like all crust toppers on this large thin pizza']"
            ]
          },
          "execution_count": 52,
          "metadata": {},
          "output_type": "execute_result"
        }
      ],
      "source": [
        "random.sample(dialogs,10)"
      ]
    },
    {
      "cell_type": "code",
      "execution_count": null,
      "metadata": {
        "id": "DpUPB7XP0Sld"
      },
      "outputs": [],
      "source": []
    },
    {
      "cell_type": "markdown",
      "metadata": {
        "id": "FZj5SlAe0WOh"
      },
      "source": [
        "## 3) Preprocessing and exploring the text data"
      ]
    },
    {
      "cell_type": "code",
      "execution_count": null,
      "metadata": {
        "id": "8JgZ7qMC0e4L"
      },
      "outputs": [],
      "source": []
    },
    {
      "cell_type": "markdown",
      "metadata": {
        "id": "I8CcC-as0hpR"
      },
      "source": [
        "3.1 Text cleaning\n",
        "\n"
      ]
    },
    {
      "cell_type": "code",
      "execution_count": null,
      "metadata": {
        "id": "VIWr5DK40kaF"
      },
      "outputs": [],
      "source": [
        "dialogs_clean=[]\n",
        "for i in dialogs:\n",
        "  #remove everything except alphabets\n",
        "  i=re.sub(r\"[^a-zA-Z]\",\" \",i)\n",
        "  i=i.lower()\n",
        "  dialogs_clean.append(i)"
      ]
    },
    {
      "cell_type": "code",
      "execution_count": null,
      "metadata": {
        "colab": {
          "base_uri": "https://localhost:8080/"
        },
        "id": "731wKv511DEj",
        "outputId": "fe65c317-3a10-4e58-a0af-14da05986264"
      },
      "outputs": [
        {
          "data": {
            "text/plain": [
              "[' thanks for trying',\n",
              " ' can you tell me the different types of milk they offer ',\n",
              " 'ok  that sounds good',\n",
              " 'i would never think to order that  but i m sure it s great',\n",
              " 'yes  ask if they have italian sausage  i may get a meat lover kind of pizza if they have enough type of meat',\n",
              " ' do you want anything  you can order yourself something if you want',\n",
              " 'korger in portsmouth',\n",
              " 'yes  that s fine',\n",
              " 'its ok  i will probably go saturday',\n",
              " 'well i m coming from newark airport and need a ride to teaneck nj']"
            ]
          },
          "execution_count": 54,
          "metadata": {},
          "output_type": "execute_result"
        }
      ],
      "source": [
        "random.sample(dialogs_clean,10)"
      ]
    },
    {
      "cell_type": "code",
      "execution_count": null,
      "metadata": {
        "id": "gSYYMZQm1d7i"
      },
      "outputs": [],
      "source": []
    },
    {
      "cell_type": "markdown",
      "metadata": {
        "id": "3RtozST61j4z"
      },
      "source": [
        "# 3.2 Finding Word count\n",
        "-to find rear and repeating words\n"
      ]
    },
    {
      "cell_type": "code",
      "execution_count": null,
      "metadata": {
        "colab": {
          "base_uri": "https://localhost:8080/"
        },
        "id": "LON0646_1m8G",
        "outputId": "043cbf28-e663-4e81-f1ef-3a7e5c0a00bd"
      },
      "outputs": [
        {
          "name": "stdout",
          "output_type": "stream",
          "text": [
            "10559\n"
          ]
        }
      ],
      "source": [
        "all_words=\" \".join(dialogs_clean).split()\n",
        "word_dict={}\n",
        "for word in all_words:\n",
        "  if word in word_dict:\n",
        "    word_dict[word]+=1\n",
        "  else:\n",
        "    word_dict[word]=1\n",
        "print(len(word_dict))"
      ]
    },
    {
      "cell_type": "code",
      "execution_count": null,
      "metadata": {
        "id": "VEezSTXM2hJG"
      },
      "outputs": [],
      "source": [
        "# prepare a dataframe\n",
        "words_df=pd.DataFrame({'word':list(word_dict.keys()),'count':list(word_dict.values())})\n",
        "#sort values in increaing of count\n",
        "words_df=words_df.sort_values(by=['count'])\n",
        "# reset dataframe index\n",
        "words_df=words_df.reset_index(drop=True)"
      ]
    },
    {
      "cell_type": "code",
      "execution_count": null,
      "metadata": {
        "colab": {
          "base_uri": "https://localhost:8080/"
        },
        "id": "MQmZC0fK3YAh",
        "outputId": "d0b9c1d4-0568-43bf-e4a5-ee868c5e641d"
      },
      "outputs": [
        {
          "data": {
            "text/plain": [
              "10559"
            ]
          },
          "execution_count": 57,
          "metadata": {},
          "output_type": "execute_result"
        }
      ],
      "source": [
        "len(words_df)"
      ]
    },
    {
      "cell_type": "code",
      "execution_count": null,
      "metadata": {
        "colab": {
          "base_uri": "https://localhost:8080/",
          "height": 363
        },
        "id": "Lwlg-_N03Kng",
        "outputId": "04575053-e489-4a12-e6c1-2c897b1ca30e"
      },
      "outputs": [
        {
          "data": {
            "application/vnd.google.colaboratory.intrinsic+json": {
              "summary": "{\n  \"name\": \"words_df\",\n  \"rows\": 10559,\n  \"fields\": [\n    {\n      \"column\": \"word\",\n      \"properties\": {\n        \"dtype\": \"string\",\n        \"num_unique_values\": 10559,\n        \"samples\": [\n          \"reservatoin\",\n          \"alma\",\n          \"speical\"\n        ],\n        \"semantic_type\": \"\",\n        \"description\": \"\"\n      }\n    },\n    {\n      \"column\": \"count\",\n      \"properties\": {\n        \"dtype\": \"number\",\n        \"std\": 478,\n        \"min\": 1,\n        \"max\": 25607,\n        \"num_unique_values\": 425,\n        \"samples\": [\n          7709,\n          76,\n          195\n        ],\n        \"semantic_type\": \"\",\n        \"description\": \"\"\n      }\n    }\n  ]\n}",
              "type": "dataframe",
              "variable_name": "words_df"
            },
            "text/html": [
              "\n",
              "  <div id=\"df-4c3061d4-6d4f-4b19-8a0b-a1040ba2570f\" class=\"colab-df-container\">\n",
              "    <div>\n",
              "<style scoped>\n",
              "    .dataframe tbody tr th:only-of-type {\n",
              "        vertical-align: middle;\n",
              "    }\n",
              "\n",
              "    .dataframe tbody tr th {\n",
              "        vertical-align: top;\n",
              "    }\n",
              "\n",
              "    .dataframe thead th {\n",
              "        text-align: right;\n",
              "    }\n",
              "</style>\n",
              "<table border=\"1\" class=\"dataframe\">\n",
              "  <thead>\n",
              "    <tr style=\"text-align: right;\">\n",
              "      <th></th>\n",
              "      <th>word</th>\n",
              "      <th>count</th>\n",
              "    </tr>\n",
              "  </thead>\n",
              "  <tbody>\n",
              "    <tr>\n",
              "      <th>0</th>\n",
              "      <td>tabs</td>\n",
              "      <td>1</td>\n",
              "    </tr>\n",
              "    <tr>\n",
              "      <th>1</th>\n",
              "      <td>mangos</td>\n",
              "      <td>1</td>\n",
              "    </tr>\n",
              "    <tr>\n",
              "      <th>2</th>\n",
              "      <td>acquarium</td>\n",
              "      <td>1</td>\n",
              "    </tr>\n",
              "    <tr>\n",
              "      <th>3</th>\n",
              "      <td>lucille</td>\n",
              "      <td>1</td>\n",
              "    </tr>\n",
              "    <tr>\n",
              "      <th>4</th>\n",
              "      <td>sizzler</td>\n",
              "      <td>1</td>\n",
              "    </tr>\n",
              "    <tr>\n",
              "      <th>5</th>\n",
              "      <td>funky</td>\n",
              "      <td>1</td>\n",
              "    </tr>\n",
              "    <tr>\n",
              "      <th>6</th>\n",
              "      <td>goodyear</td>\n",
              "      <td>1</td>\n",
              "    </tr>\n",
              "    <tr>\n",
              "      <th>7</th>\n",
              "      <td>separately</td>\n",
              "      <td>1</td>\n",
              "    </tr>\n",
              "    <tr>\n",
              "      <th>8</th>\n",
              "      <td>heist</td>\n",
              "      <td>1</td>\n",
              "    </tr>\n",
              "    <tr>\n",
              "      <th>9</th>\n",
              "      <td>revere</td>\n",
              "      <td>1</td>\n",
              "    </tr>\n",
              "  </tbody>\n",
              "</table>\n",
              "</div>\n",
              "    <div class=\"colab-df-buttons\">\n",
              "\n",
              "  <div class=\"colab-df-container\">\n",
              "    <button class=\"colab-df-convert\" onclick=\"convertToInteractive('df-4c3061d4-6d4f-4b19-8a0b-a1040ba2570f')\"\n",
              "            title=\"Convert this dataframe to an interactive table.\"\n",
              "            style=\"display:none;\">\n",
              "\n",
              "  <svg xmlns=\"http://www.w3.org/2000/svg\" height=\"24px\" viewBox=\"0 -960 960 960\">\n",
              "    <path d=\"M120-120v-720h720v720H120Zm60-500h600v-160H180v160Zm220 220h160v-160H400v160Zm0 220h160v-160H400v160ZM180-400h160v-160H180v160Zm440 0h160v-160H620v160ZM180-180h160v-160H180v160Zm440 0h160v-160H620v160Z\"/>\n",
              "  </svg>\n",
              "    </button>\n",
              "\n",
              "  <style>\n",
              "    .colab-df-container {\n",
              "      display:flex;\n",
              "      gap: 12px;\n",
              "    }\n",
              "\n",
              "    .colab-df-convert {\n",
              "      background-color: #E8F0FE;\n",
              "      border: none;\n",
              "      border-radius: 50%;\n",
              "      cursor: pointer;\n",
              "      display: none;\n",
              "      fill: #1967D2;\n",
              "      height: 32px;\n",
              "      padding: 0 0 0 0;\n",
              "      width: 32px;\n",
              "    }\n",
              "\n",
              "    .colab-df-convert:hover {\n",
              "      background-color: #E2EBFA;\n",
              "      box-shadow: 0px 1px 2px rgba(60, 64, 67, 0.3), 0px 1px 3px 1px rgba(60, 64, 67, 0.15);\n",
              "      fill: #174EA6;\n",
              "    }\n",
              "\n",
              "    .colab-df-buttons div {\n",
              "      margin-bottom: 4px;\n",
              "    }\n",
              "\n",
              "    [theme=dark] .colab-df-convert {\n",
              "      background-color: #3B4455;\n",
              "      fill: #D2E3FC;\n",
              "    }\n",
              "\n",
              "    [theme=dark] .colab-df-convert:hover {\n",
              "      background-color: #434B5C;\n",
              "      box-shadow: 0px 1px 3px 1px rgba(0, 0, 0, 0.15);\n",
              "      filter: drop-shadow(0px 1px 2px rgba(0, 0, 0, 0.3));\n",
              "      fill: #FFFFFF;\n",
              "    }\n",
              "  </style>\n",
              "\n",
              "    <script>\n",
              "      const buttonEl =\n",
              "        document.querySelector('#df-4c3061d4-6d4f-4b19-8a0b-a1040ba2570f button.colab-df-convert');\n",
              "      buttonEl.style.display =\n",
              "        google.colab.kernel.accessAllowed ? 'block' : 'none';\n",
              "\n",
              "      async function convertToInteractive(key) {\n",
              "        const element = document.querySelector('#df-4c3061d4-6d4f-4b19-8a0b-a1040ba2570f');\n",
              "        const dataTable =\n",
              "          await google.colab.kernel.invokeFunction('convertToInteractive',\n",
              "                                                    [key], {});\n",
              "        if (!dataTable) return;\n",
              "\n",
              "        const docLinkHtml = 'Like what you see? Visit the ' +\n",
              "          '<a target=\"_blank\" href=https://colab.research.google.com/notebooks/data_table.ipynb>data table notebook</a>'\n",
              "          + ' to learn more about interactive tables.';\n",
              "        element.innerHTML = '';\n",
              "        dataTable['output_type'] = 'display_data';\n",
              "        await google.colab.output.renderOutput(dataTable, element);\n",
              "        const docLink = document.createElement('div');\n",
              "        docLink.innerHTML = docLinkHtml;\n",
              "        element.appendChild(docLink);\n",
              "      }\n",
              "    </script>\n",
              "  </div>\n",
              "\n",
              "\n",
              "<div id=\"df-5ede214c-cd50-4459-a7b1-7a39d5ed47b8\">\n",
              "  <button class=\"colab-df-quickchart\" onclick=\"quickchart('df-5ede214c-cd50-4459-a7b1-7a39d5ed47b8')\"\n",
              "            title=\"Suggest charts\"\n",
              "            style=\"display:none;\">\n",
              "\n",
              "<svg xmlns=\"http://www.w3.org/2000/svg\" height=\"24px\"viewBox=\"0 0 24 24\"\n",
              "     width=\"24px\">\n",
              "    <g>\n",
              "        <path d=\"M19 3H5c-1.1 0-2 .9-2 2v14c0 1.1.9 2 2 2h14c1.1 0 2-.9 2-2V5c0-1.1-.9-2-2-2zM9 17H7v-7h2v7zm4 0h-2V7h2v10zm4 0h-2v-4h2v4z\"/>\n",
              "    </g>\n",
              "</svg>\n",
              "  </button>\n",
              "\n",
              "<style>\n",
              "  .colab-df-quickchart {\n",
              "      --bg-color: #E8F0FE;\n",
              "      --fill-color: #1967D2;\n",
              "      --hover-bg-color: #E2EBFA;\n",
              "      --hover-fill-color: #174EA6;\n",
              "      --disabled-fill-color: #AAA;\n",
              "      --disabled-bg-color: #DDD;\n",
              "  }\n",
              "\n",
              "  [theme=dark] .colab-df-quickchart {\n",
              "      --bg-color: #3B4455;\n",
              "      --fill-color: #D2E3FC;\n",
              "      --hover-bg-color: #434B5C;\n",
              "      --hover-fill-color: #FFFFFF;\n",
              "      --disabled-bg-color: #3B4455;\n",
              "      --disabled-fill-color: #666;\n",
              "  }\n",
              "\n",
              "  .colab-df-quickchart {\n",
              "    background-color: var(--bg-color);\n",
              "    border: none;\n",
              "    border-radius: 50%;\n",
              "    cursor: pointer;\n",
              "    display: none;\n",
              "    fill: var(--fill-color);\n",
              "    height: 32px;\n",
              "    padding: 0;\n",
              "    width: 32px;\n",
              "  }\n",
              "\n",
              "  .colab-df-quickchart:hover {\n",
              "    background-color: var(--hover-bg-color);\n",
              "    box-shadow: 0 1px 2px rgba(60, 64, 67, 0.3), 0 1px 3px 1px rgba(60, 64, 67, 0.15);\n",
              "    fill: var(--button-hover-fill-color);\n",
              "  }\n",
              "\n",
              "  .colab-df-quickchart-complete:disabled,\n",
              "  .colab-df-quickchart-complete:disabled:hover {\n",
              "    background-color: var(--disabled-bg-color);\n",
              "    fill: var(--disabled-fill-color);\n",
              "    box-shadow: none;\n",
              "  }\n",
              "\n",
              "  .colab-df-spinner {\n",
              "    border: 2px solid var(--fill-color);\n",
              "    border-color: transparent;\n",
              "    border-bottom-color: var(--fill-color);\n",
              "    animation:\n",
              "      spin 1s steps(1) infinite;\n",
              "  }\n",
              "\n",
              "  @keyframes spin {\n",
              "    0% {\n",
              "      border-color: transparent;\n",
              "      border-bottom-color: var(--fill-color);\n",
              "      border-left-color: var(--fill-color);\n",
              "    }\n",
              "    20% {\n",
              "      border-color: transparent;\n",
              "      border-left-color: var(--fill-color);\n",
              "      border-top-color: var(--fill-color);\n",
              "    }\n",
              "    30% {\n",
              "      border-color: transparent;\n",
              "      border-left-color: var(--fill-color);\n",
              "      border-top-color: var(--fill-color);\n",
              "      border-right-color: var(--fill-color);\n",
              "    }\n",
              "    40% {\n",
              "      border-color: transparent;\n",
              "      border-right-color: var(--fill-color);\n",
              "      border-top-color: var(--fill-color);\n",
              "    }\n",
              "    60% {\n",
              "      border-color: transparent;\n",
              "      border-right-color: var(--fill-color);\n",
              "    }\n",
              "    80% {\n",
              "      border-color: transparent;\n",
              "      border-right-color: var(--fill-color);\n",
              "      border-bottom-color: var(--fill-color);\n",
              "    }\n",
              "    90% {\n",
              "      border-color: transparent;\n",
              "      border-bottom-color: var(--fill-color);\n",
              "    }\n",
              "  }\n",
              "</style>\n",
              "\n",
              "  <script>\n",
              "    async function quickchart(key) {\n",
              "      const quickchartButtonEl =\n",
              "        document.querySelector('#' + key + ' button');\n",
              "      quickchartButtonEl.disabled = true;  // To prevent multiple clicks.\n",
              "      quickchartButtonEl.classList.add('colab-df-spinner');\n",
              "      try {\n",
              "        const charts = await google.colab.kernel.invokeFunction(\n",
              "            'suggestCharts', [key], {});\n",
              "      } catch (error) {\n",
              "        console.error('Error during call to suggestCharts:', error);\n",
              "      }\n",
              "      quickchartButtonEl.classList.remove('colab-df-spinner');\n",
              "      quickchartButtonEl.classList.add('colab-df-quickchart-complete');\n",
              "    }\n",
              "    (() => {\n",
              "      let quickchartButtonEl =\n",
              "        document.querySelector('#df-5ede214c-cd50-4459-a7b1-7a39d5ed47b8 button');\n",
              "      quickchartButtonEl.style.display =\n",
              "        google.colab.kernel.accessAllowed ? 'block' : 'none';\n",
              "    })();\n",
              "  </script>\n",
              "</div>\n",
              "\n",
              "    </div>\n",
              "  </div>\n"
            ],
            "text/plain": [
              "         word  count\n",
              "0        tabs      1\n",
              "1      mangos      1\n",
              "2   acquarium      1\n",
              "3     lucille      1\n",
              "4     sizzler      1\n",
              "5       funky      1\n",
              "6    goodyear      1\n",
              "7  separately      1\n",
              "8       heist      1\n",
              "9      revere      1"
            ]
          },
          "execution_count": 58,
          "metadata": {},
          "output_type": "execute_result"
        }
      ],
      "source": [
        "words_df.head(10) #rear tokens"
      ]
    },
    {
      "cell_type": "code",
      "execution_count": null,
      "metadata": {
        "colab": {
          "base_uri": "https://localhost:8080/",
          "height": 363
        },
        "id": "hhHXakJj5JX4",
        "outputId": "f8e19dd7-5c85-4bf7-c2bc-3bb46073bba8"
      },
      "outputs": [
        {
          "data": {
            "application/vnd.google.colaboratory.intrinsic+json": {
              "summary": "{\n  \"name\": \"words_df\",\n  \"rows\": 10,\n  \"fields\": [\n    {\n      \"column\": \"word\",\n      \"properties\": {\n        \"dtype\": \"string\",\n        \"num_unique_values\": 10,\n        \"samples\": [\n          \"the\",\n          \"is\",\n          \"you\"\n        ],\n        \"semantic_type\": \"\",\n        \"description\": \"\"\n      }\n    },\n    {\n      \"column\": \"count\",\n      \"properties\": {\n        \"dtype\": \"number\",\n        \"std\": 5623,\n        \"min\": 6713,\n        \"max\": 25607,\n        \"num_unique_values\": 10,\n        \"samples\": [\n          15414,\n          6938,\n          12215\n        ],\n        \"semantic_type\": \"\",\n        \"description\": \"\"\n      }\n    }\n  ]\n}",
              "type": "dataframe"
            },
            "text/html": [
              "\n",
              "  <div id=\"df-3b62610b-e54c-4fa8-916f-6baad1c94466\" class=\"colab-df-container\">\n",
              "    <div>\n",
              "<style scoped>\n",
              "    .dataframe tbody tr th:only-of-type {\n",
              "        vertical-align: middle;\n",
              "    }\n",
              "\n",
              "    .dataframe tbody tr th {\n",
              "        vertical-align: top;\n",
              "    }\n",
              "\n",
              "    .dataframe thead th {\n",
              "        text-align: right;\n",
              "    }\n",
              "</style>\n",
              "<table border=\"1\" class=\"dataframe\">\n",
              "  <thead>\n",
              "    <tr style=\"text-align: right;\">\n",
              "      <th></th>\n",
              "      <th>word</th>\n",
              "      <th>count</th>\n",
              "    </tr>\n",
              "  </thead>\n",
              "  <tbody>\n",
              "    <tr>\n",
              "      <th>10549</th>\n",
              "      <td>s</td>\n",
              "      <td>6713</td>\n",
              "    </tr>\n",
              "    <tr>\n",
              "      <th>10550</th>\n",
              "      <td>is</td>\n",
              "      <td>6938</td>\n",
              "    </tr>\n",
              "    <tr>\n",
              "      <th>10551</th>\n",
              "      <td>for</td>\n",
              "      <td>7709</td>\n",
              "    </tr>\n",
              "    <tr>\n",
              "      <th>10552</th>\n",
              "      <td>it</td>\n",
              "      <td>8943</td>\n",
              "    </tr>\n",
              "    <tr>\n",
              "      <th>10553</th>\n",
              "      <td>that</td>\n",
              "      <td>11060</td>\n",
              "    </tr>\n",
              "    <tr>\n",
              "      <th>10554</th>\n",
              "      <td>you</td>\n",
              "      <td>12215</td>\n",
              "    </tr>\n",
              "    <tr>\n",
              "      <th>10555</th>\n",
              "      <td>a</td>\n",
              "      <td>13391</td>\n",
              "    </tr>\n",
              "    <tr>\n",
              "      <th>10556</th>\n",
              "      <td>to</td>\n",
              "      <td>14003</td>\n",
              "    </tr>\n",
              "    <tr>\n",
              "      <th>10557</th>\n",
              "      <td>the</td>\n",
              "      <td>15414</td>\n",
              "    </tr>\n",
              "    <tr>\n",
              "      <th>10558</th>\n",
              "      <td>i</td>\n",
              "      <td>25607</td>\n",
              "    </tr>\n",
              "  </tbody>\n",
              "</table>\n",
              "</div>\n",
              "    <div class=\"colab-df-buttons\">\n",
              "\n",
              "  <div class=\"colab-df-container\">\n",
              "    <button class=\"colab-df-convert\" onclick=\"convertToInteractive('df-3b62610b-e54c-4fa8-916f-6baad1c94466')\"\n",
              "            title=\"Convert this dataframe to an interactive table.\"\n",
              "            style=\"display:none;\">\n",
              "\n",
              "  <svg xmlns=\"http://www.w3.org/2000/svg\" height=\"24px\" viewBox=\"0 -960 960 960\">\n",
              "    <path d=\"M120-120v-720h720v720H120Zm60-500h600v-160H180v160Zm220 220h160v-160H400v160Zm0 220h160v-160H400v160ZM180-400h160v-160H180v160Zm440 0h160v-160H620v160ZM180-180h160v-160H180v160Zm440 0h160v-160H620v160Z\"/>\n",
              "  </svg>\n",
              "    </button>\n",
              "\n",
              "  <style>\n",
              "    .colab-df-container {\n",
              "      display:flex;\n",
              "      gap: 12px;\n",
              "    }\n",
              "\n",
              "    .colab-df-convert {\n",
              "      background-color: #E8F0FE;\n",
              "      border: none;\n",
              "      border-radius: 50%;\n",
              "      cursor: pointer;\n",
              "      display: none;\n",
              "      fill: #1967D2;\n",
              "      height: 32px;\n",
              "      padding: 0 0 0 0;\n",
              "      width: 32px;\n",
              "    }\n",
              "\n",
              "    .colab-df-convert:hover {\n",
              "      background-color: #E2EBFA;\n",
              "      box-shadow: 0px 1px 2px rgba(60, 64, 67, 0.3), 0px 1px 3px 1px rgba(60, 64, 67, 0.15);\n",
              "      fill: #174EA6;\n",
              "    }\n",
              "\n",
              "    .colab-df-buttons div {\n",
              "      margin-bottom: 4px;\n",
              "    }\n",
              "\n",
              "    [theme=dark] .colab-df-convert {\n",
              "      background-color: #3B4455;\n",
              "      fill: #D2E3FC;\n",
              "    }\n",
              "\n",
              "    [theme=dark] .colab-df-convert:hover {\n",
              "      background-color: #434B5C;\n",
              "      box-shadow: 0px 1px 3px 1px rgba(0, 0, 0, 0.15);\n",
              "      filter: drop-shadow(0px 1px 2px rgba(0, 0, 0, 0.3));\n",
              "      fill: #FFFFFF;\n",
              "    }\n",
              "  </style>\n",
              "\n",
              "    <script>\n",
              "      const buttonEl =\n",
              "        document.querySelector('#df-3b62610b-e54c-4fa8-916f-6baad1c94466 button.colab-df-convert');\n",
              "      buttonEl.style.display =\n",
              "        google.colab.kernel.accessAllowed ? 'block' : 'none';\n",
              "\n",
              "      async function convertToInteractive(key) {\n",
              "        const element = document.querySelector('#df-3b62610b-e54c-4fa8-916f-6baad1c94466');\n",
              "        const dataTable =\n",
              "          await google.colab.kernel.invokeFunction('convertToInteractive',\n",
              "                                                    [key], {});\n",
              "        if (!dataTable) return;\n",
              "\n",
              "        const docLinkHtml = 'Like what you see? Visit the ' +\n",
              "          '<a target=\"_blank\" href=https://colab.research.google.com/notebooks/data_table.ipynb>data table notebook</a>'\n",
              "          + ' to learn more about interactive tables.';\n",
              "        element.innerHTML = '';\n",
              "        dataTable['output_type'] = 'display_data';\n",
              "        await google.colab.output.renderOutput(dataTable, element);\n",
              "        const docLink = document.createElement('div');\n",
              "        docLink.innerHTML = docLinkHtml;\n",
              "        element.appendChild(docLink);\n",
              "      }\n",
              "    </script>\n",
              "  </div>\n",
              "\n",
              "\n",
              "<div id=\"df-b81bd408-b8ed-4307-bb7b-cf9c89147702\">\n",
              "  <button class=\"colab-df-quickchart\" onclick=\"quickchart('df-b81bd408-b8ed-4307-bb7b-cf9c89147702')\"\n",
              "            title=\"Suggest charts\"\n",
              "            style=\"display:none;\">\n",
              "\n",
              "<svg xmlns=\"http://www.w3.org/2000/svg\" height=\"24px\"viewBox=\"0 0 24 24\"\n",
              "     width=\"24px\">\n",
              "    <g>\n",
              "        <path d=\"M19 3H5c-1.1 0-2 .9-2 2v14c0 1.1.9 2 2 2h14c1.1 0 2-.9 2-2V5c0-1.1-.9-2-2-2zM9 17H7v-7h2v7zm4 0h-2V7h2v10zm4 0h-2v-4h2v4z\"/>\n",
              "    </g>\n",
              "</svg>\n",
              "  </button>\n",
              "\n",
              "<style>\n",
              "  .colab-df-quickchart {\n",
              "      --bg-color: #E8F0FE;\n",
              "      --fill-color: #1967D2;\n",
              "      --hover-bg-color: #E2EBFA;\n",
              "      --hover-fill-color: #174EA6;\n",
              "      --disabled-fill-color: #AAA;\n",
              "      --disabled-bg-color: #DDD;\n",
              "  }\n",
              "\n",
              "  [theme=dark] .colab-df-quickchart {\n",
              "      --bg-color: #3B4455;\n",
              "      --fill-color: #D2E3FC;\n",
              "      --hover-bg-color: #434B5C;\n",
              "      --hover-fill-color: #FFFFFF;\n",
              "      --disabled-bg-color: #3B4455;\n",
              "      --disabled-fill-color: #666;\n",
              "  }\n",
              "\n",
              "  .colab-df-quickchart {\n",
              "    background-color: var(--bg-color);\n",
              "    border: none;\n",
              "    border-radius: 50%;\n",
              "    cursor: pointer;\n",
              "    display: none;\n",
              "    fill: var(--fill-color);\n",
              "    height: 32px;\n",
              "    padding: 0;\n",
              "    width: 32px;\n",
              "  }\n",
              "\n",
              "  .colab-df-quickchart:hover {\n",
              "    background-color: var(--hover-bg-color);\n",
              "    box-shadow: 0 1px 2px rgba(60, 64, 67, 0.3), 0 1px 3px 1px rgba(60, 64, 67, 0.15);\n",
              "    fill: var(--button-hover-fill-color);\n",
              "  }\n",
              "\n",
              "  .colab-df-quickchart-complete:disabled,\n",
              "  .colab-df-quickchart-complete:disabled:hover {\n",
              "    background-color: var(--disabled-bg-color);\n",
              "    fill: var(--disabled-fill-color);\n",
              "    box-shadow: none;\n",
              "  }\n",
              "\n",
              "  .colab-df-spinner {\n",
              "    border: 2px solid var(--fill-color);\n",
              "    border-color: transparent;\n",
              "    border-bottom-color: var(--fill-color);\n",
              "    animation:\n",
              "      spin 1s steps(1) infinite;\n",
              "  }\n",
              "\n",
              "  @keyframes spin {\n",
              "    0% {\n",
              "      border-color: transparent;\n",
              "      border-bottom-color: var(--fill-color);\n",
              "      border-left-color: var(--fill-color);\n",
              "    }\n",
              "    20% {\n",
              "      border-color: transparent;\n",
              "      border-left-color: var(--fill-color);\n",
              "      border-top-color: var(--fill-color);\n",
              "    }\n",
              "    30% {\n",
              "      border-color: transparent;\n",
              "      border-left-color: var(--fill-color);\n",
              "      border-top-color: var(--fill-color);\n",
              "      border-right-color: var(--fill-color);\n",
              "    }\n",
              "    40% {\n",
              "      border-color: transparent;\n",
              "      border-right-color: var(--fill-color);\n",
              "      border-top-color: var(--fill-color);\n",
              "    }\n",
              "    60% {\n",
              "      border-color: transparent;\n",
              "      border-right-color: var(--fill-color);\n",
              "    }\n",
              "    80% {\n",
              "      border-color: transparent;\n",
              "      border-right-color: var(--fill-color);\n",
              "      border-bottom-color: var(--fill-color);\n",
              "    }\n",
              "    90% {\n",
              "      border-color: transparent;\n",
              "      border-bottom-color: var(--fill-color);\n",
              "    }\n",
              "  }\n",
              "</style>\n",
              "\n",
              "  <script>\n",
              "    async function quickchart(key) {\n",
              "      const quickchartButtonEl =\n",
              "        document.querySelector('#' + key + ' button');\n",
              "      quickchartButtonEl.disabled = true;  // To prevent multiple clicks.\n",
              "      quickchartButtonEl.classList.add('colab-df-spinner');\n",
              "      try {\n",
              "        const charts = await google.colab.kernel.invokeFunction(\n",
              "            'suggestCharts', [key], {});\n",
              "      } catch (error) {\n",
              "        console.error('Error during call to suggestCharts:', error);\n",
              "      }\n",
              "      quickchartButtonEl.classList.remove('colab-df-spinner');\n",
              "      quickchartButtonEl.classList.add('colab-df-quickchart-complete');\n",
              "    }\n",
              "    (() => {\n",
              "      let quickchartButtonEl =\n",
              "        document.querySelector('#df-b81bd408-b8ed-4307-bb7b-cf9c89147702 button');\n",
              "      quickchartButtonEl.style.display =\n",
              "        google.colab.kernel.accessAllowed ? 'block' : 'none';\n",
              "    })();\n",
              "  </script>\n",
              "</div>\n",
              "\n",
              "    </div>\n",
              "  </div>\n"
            ],
            "text/plain": [
              "       word  count\n",
              "10549     s   6713\n",
              "10550    is   6938\n",
              "10551   for   7709\n",
              "10552    it   8943\n",
              "10553  that  11060\n",
              "10554   you  12215\n",
              "10555     a  13391\n",
              "10556    to  14003\n",
              "10557   the  15414\n",
              "10558     i  25607"
            ]
          },
          "execution_count": 59,
          "metadata": {},
          "output_type": "execute_result"
        }
      ],
      "source": [
        "words_df.tail(10) #frequent"
      ]
    },
    {
      "cell_type": "code",
      "execution_count": null,
      "metadata": {
        "id": "4fLF4pP65Uwh"
      },
      "outputs": [],
      "source": []
    },
    {
      "cell_type": "markdown",
      "metadata": {
        "id": "EPmRqxKd5WXZ"
      },
      "source": [
        "# find and replace rear words with \"unknown\" token"
      ]
    },
    {
      "cell_type": "code",
      "execution_count": null,
      "metadata": {
        "id": "hmufsmSB5cqf"
      },
      "outputs": [],
      "source": [
        "#this is to reduce vocabulary size and that will inturn speed up the training process bcs the model will have smaller set of vocabulary to give an o/p in each time step\n",
        "# user specified threhold value\n",
        "rare_threh=4\n",
        "# get % of rare words in vocabulary\n",
        "rare_words_count=len(words_df[words_df['count']<rare_threh]['word'])\n",
        "total_words_count=len(words_df)\n",
        "rare_dist=rare_words_count/total_words_count\n",
        "rare_cover=words_df[words_df['count']<rare_threh]['count'].sum()/words_df['count'].sum()"
      ]
    },
    {
      "cell_type": "code",
      "execution_count": null,
      "metadata": {
        "colab": {
          "base_uri": "https://localhost:8080/"
        },
        "id": "11SOfCUM7hva",
        "outputId": "e9ff547c-18ea-4078-c43b-4e67656065ec"
      },
      "outputs": [
        {
          "name": "stdout",
          "output_type": "stream",
          "text": [
            "Rare words distribution in vocabulary:67.73\n",
            "Rare words coverage in the corpus:2.06\n"
          ]
        }
      ],
      "source": [
        "print(f\"Rare words distribution in vocabulary:{rare_dist*100:.2f}\")\n",
        "print(f\"Rare words coverage in the corpus:{rare_cover*100:.2f}\")"
      ]
    },
    {
      "cell_type": "code",
      "execution_count": null,
      "metadata": {
        "colab": {
          "base_uri": "https://localhost:8080/"
        },
        "id": "KNeEcIidKX4W",
        "outputId": "908439f6-9b4c-4d7c-c73e-c259cecfccc2"
      },
      "outputs": [
        {
          "name": "stdout",
          "output_type": "stream",
          "text": [
            "['tabs', 'mangos', 'acquarium', 'lucille', 'sizzler', 'funky', 'goodyear', 'separately', 'heist', 'revere', 'liam', 'nesson', 'voice', 'purgacito', 'salvadorian', 'brisas', 'westing', 'muh', 'somebody', 'knoxville', 'rotor', 'kayne', 'prperly', 'selecting', 'arms', 'luckily', 'attleboro', 'prove', 'reef', 'belinda', 'musician', 'cancelation', 'dg', 'availablity', 'ballgame', 'jj', 'bayside', 'reasons', 'crumble', 'shakira', 'edition', 'saline', 'receiving', 'stag', 'cakebread', 'rented', 'celica', 'ness', 'cafora', 'portsmouth', 'korger', 'admit', 'hammerhead', 'ful', 'bonanzo', 'beasts', 'crimes', 'grindelwald', 'caffichino', 'ordere', 'leap', 'lucas', 'margueritas', 'cock', 'eden', 'genres', 'driskill', 'indecisive', 'emagine', 'brissago', 'saturn', 'evergree', 'coversation', 'idk', 'reeady', 'thingy', 'creekes', 'maserati', 'ghibhi', 'marguerita', 'mainstrasse', 'scotti', 'smalls', 'victorian', 'frappucinno', 'situations', 'authorization', 'gakus', 'spinasse', 'liner', 'redone', 'cinnabon', 'stack', 'lt', 'comped', 'hosted', 'heavier', 'beauty', 'osso', 'vogue', 'essex', 'peaks', 'trained', 'felix', 'hawthorn', 'chopsticks', 'sizzle', 'dinning', 'eastside', 'hah', 'hankering', 'jansen', 'forcing', 'tomaoes', 'opposite', 'commuting', 'measurement', 'human', 'width', 'elaina', 'cupped', 'mcdonough', 'tons', 'conway', 'hireing', 'cinnmon', 'batteries', 'shojis', 'minor', 'ned', 'peppemint', 'satruday', 'stine', 'edison', 'shoud', 'pice', 'harshly', 'astro', 'cottonwood', 'degree', 'whose', 'julian', 'maharaja', 'freind', 'mallard', 'milliken', 'windsor', 'ppr', 'vincent', 'dispatched', 'rod', 'threw', 'honds', 'stays', 'reboot', 'stoping', 'restarting', 'trail', 'army', 'intantly', 'eachtoher', 'layout', 'afreaid', 'gaslamp', 'delicios', 'blk', 'walleye', 'fumes', 'hesperia', 'ramos', 'quattro', 'stagioni', 'hahahaha', 'comforting', 'wondered', 'berttuccis', 'odrer', 'mornig', 'hae', 'thsank', 'receicev', 'ssally', 'thasnk', 'ppx', 'ame', 'ordr', 'motobike', 'credic', 'rendition', 'cafeteria', 'ramada', 'castleton', 'quincy', 'tortilla', 'lupe', 'compromised', 'professionals', 'sugarfish', 'sections', 'kang', 'dented', 'rofl', 'pushing', 'bart', 'ringold', 'gods', 'cupboard', 'smiled', 'signage', 'apoinment', 'appoiment', 'ian', 'marg', 'goodnite', 'purschase', 'aftermath', 'tickers', 'messenger', 'stray', 'discussions', 'benefit', 'relationship', 'souffl', 'cammy', 'compartment', 'rubber', 'potro', 'pricings', 'pushes', 'germantonwn', 'tropical', 'parmeson', 'ferg', 'tropicana', 'psu', 'harold', 'burns', 'corperate', 'understanding', 'cyborg', 'learning', 'nature', 'proper', 'adapt', 'society', 'blast', 'guiness', 'killer', 'maze', 'cafee', 'hermosa', 'chikin', 'dufus', 'keystone', 'imported', 'riesling', 'blanc', 'sauvignon', 'bellagios', 'grounds', 'uberluxsuv', 'ridehsare', 'nhl', 'straigh', 'wealthy', 'arrow', 'race', 'tc', 'lydia', 'awsome', 'cucos', 'commissioner', 'rabbit', 'candlelit', 'siroskii', 'vineyard', 'gervasi', 'ticksts', 'upsale', 'desribe', 'minivans', 'talulas', 'hellow', 'rousemont', 'plaeas', 'lecture', 'stodgy', 'stallion', 'westboro', 'violinist', 'rambling', 'papasito', 'brochures', 'fax', 'gouging', 'electronics', 'electonic', 'okc', 'cox', 'systems', 'solano', 'gget', 'fnacy', 'clearfield', 'needn', 'tori', 'byee', 'dickinson', 'wynn', 'frapacino', 'outlet', 'rarely', 'harmed', 'stripped', 'impacting', 'waive', 'aobut', 'net', 'sherin', 'ant', 'weathervanes', 'capt', 'results', 'gordman', 'mccall', 'safer', 'pagosa', 'gwendolyn', 'youtatiana', 'baker', 'motzerella', 'error', 'circumstances', 'chees', 'cardinal', 'hydration', 'smiley', 'bowel', 'darrow', 'strabucks', 'tsukiji', 'viet', 'jasmine', 'align', 'skittles', 'altamonte', 'shaw', 'bidwell', 'oolong', 'tusk', 'wiz', 'uni', 'colony', 'cookeville', 'substitiute', 'rapidly', 'carmelina', 'shell', 'mcwillow', 'emmanuel', 'lima', 'drenched', 'pancheros', 'sweaty', 'spread', 'fender', 'immediate', 'retain', 'loyola', 'anchorage', 'mexico', 'enchiladas', 'triangle', 'additionally', 'beto', 'merlin', 'expenisve', 'finest', 'afloat', 'figueroa', 'billings', 'sterring', 'perkins', 'gates', 'oi', 'aooner', 'admiral', 'limburg', 'cher', 'loyalty', 'eel', 'knees', 'patronize', 'cattlemans', 'agitated', 'lie', 'virtual', 'rare', 'tippy', 'killens', 'debiting', 'theouh', 'strunk', 'wilkshire', 'ua', 'cuz', 'frills', 'youve', 'brillo', 'bloomingdale', 'tuscan', 'spghetti', 'breaker', 'folds', 'chen', 'mexicano', 'mabry', 'confim', 'unusually', 'tamarindo', 'calamari', 'crest', 'fulfill', 'whitesburg', 'vallejo', 'woulda', 'rainy', 'keyless', 'misfiring', 'taxes', 'franzones', 'cassie', 'vending', 'considered', 'domios', 'passage', 'infusion', 'billowing', 'shaken', 'ver', 'giannis', 'widows', 'gonzalez', 'bored', 'adjusted', 'zekes', 'mariners', 'promise', 'biga', 'grey', 'rochelle', 'roadside', 'tested', 'ameristar', 'meh', 'billing', 'idiot', 'rammed', 'juanito', 'calda', 'showtales', 'bolt', 'macrooni', 'macorroni', 'clearest', 'noticing', 'bpr', 'sensation', 'survive', 'pepperone', 'ballast', 'mochafrom', 'treasury', 'chcolate', 'exra', 'drizzel', 'choclate', 'vegatables', 'timer', 'scolar', 'prixe', 'veering', 'candelight', 'honking', 'sugarlands', 'nominee', 'stephens', 'costume', 'stoned', 'munchies', 'haze', 'playful', 'emergany', 'hurtful', 'maxima', 'containing', 'pastrami', 'overflow', 'premiere', 'crv', 'wobbling', 'munchie', 'dollywood', 'disappears', 'graduates', 'gunbarrel', 'tennessee', 'shooken', 'knapp', 'amazonas', 'premeire', 'bijou', 'companie', 'frazzled', 'watertown', 'damages', 'rancheros', 'drifts', 'axles', 'chinatown', 'melazane', 'cited', 'hu', 'craeft', 'tami', 'urbana', 'caused', 'pretzels', 'vee', 'hy', 'hesitate', 'bussiness', 'nothng', 'servicer', 'niles', 'meijer', 'peeps', 'vinny', 'complementary', 'inexpensive', 'mildly', 'reveived', 'voucher', 'hiya', 'dogs', 'nadine', 'scrubbing', 'pouring', 'reminded', 'imperial', 'capacities', 'carrying', 'monk', 'economy', 'advanced', 'whack', 'aide', 'captions', 'goint', 'southdale', 'reference', 'needful', 'hartfield', 'olas', 'contacting', 'emoji', 'grom', 'lawrenceburg', 'formation', 'latour', 'gardena', 'varity', 'spirits', 'android', 'yesh', 'pin', 'kamado', 'wedges', 'sambino', 'parmeasan', 'appetizer', 'pinnacle', 'pikeville', 'blackkklansman', 'mirage', 'wilcox', 'alvyn', 'irrelevant', 'apparently', 'models', 'effective', 'embarrassing', 'introducing', 'relly', 'uhhhhh', 'president', 'coleman', 'teavana', 'frapuccino', 'stix', 'consolidated', 'drivethrough', 'dubuque', 'funghi', 'carciofi', 'napoletano', 'delfina', 'edora', 'duh', 'rink', 'swine', 'assistants', 'savini', 'arcys', 'victors', 'victor', 'jacked', 'mastcard', 'scheels', 'guerneville', 'flood', 'businesses', 'sweeten', 'suzi', 'arches', 'screams', 'pronounce', 'busters', 'embrace', 'uncultured', 'skating', 'collins', 'csu', 'corpus', 'disable', 'christi', 'routing', 'stutters', 'submitt', 'newnan', 'daiya', 'dedicated', 'fetched', 'sanity', 'ratio', 'tapped', 'upsetting', 'rumble', 'mancy', 'spotlight', 'caliber', 'jurrasic', 'refills', 'temples', 'racket', 'packed', 'referees', 'extended', 'dumb', 'ubur', 'kelgren', 'awanas', 'railroad', 'kellogg', 'tofu', 'splends', 'compensate', 'fuss', 'takata', 'rhett', 'thomas', 'morel', 'frappuchinos', 'stapleton', 'talent', 'shareholder', 'dive', 'mahattan', 'hon', 'shoppingtown', 'oscars', 'sephora', 'blessings', 'struggles', 'appreicate', 'existing', 'powell', 'universtiy', 'ping', 'amber', 'annabelle', 'suze', 'sketchy', 'allesandro', 'nwa', 'delancey', 'kabob', 'milano', 'kokomo', 'browns', 'henrico', 'mccarran', 'rt', 'tabitha', 'assembly', 'rustic', 'uberlux', 'modestly', 'parade', 'bardia', 'wattlegrove', 'sinbad', 'caravans', 'straining', 'sarasota', 'fractured', 'vocal', 'riverwalk', 'pizzaeno', 'gastonia', 'winchells', 'pleasw', 'lise', 'halzenut', 'printer', 'knot', 'notified', 'bayou', 'carefully', 'thr', 'cramp', 'angle', 'sponsor', 'passaic', 'fortaleza', 'jalaplarge', 'vita', 'previously', 'cody', 'hig', 'ironwood', 'prepurchase', 'overkill', 'blasphemy', 'entail', 'goa', 'signals', 'hopkins', 'bwi', 'thurgood', 'mortons', 'whatsapp', 'medford', 'occc', 'laurelhurst', 'selma', 'speakers', 'teen', 'umbrella', 'potential', 'xes', 'fans', 'mack', 'modesto', 'notte', 'risle', 'sterling', 'olathe', 'dobson', 'palermo', 'lawn', 'agostinos', 'jacimos', 'nugget', 'macchato', 'pomodori', 'smokers', 'application', 'neccesary', 'towing', 'institution', 'longwood', 'modesta', 'opera', 'resaturant', 'beore', 'tiago', 'olivies', 'babysitting', 'doughroom', 'fanta', 'abercorn', 'olde', 'precice', 'lenna', 'jamestown', 'athenaeum', 'chautauqua', 'niagra', 'lookign', 'hussan', 'gang', 'chesse', 'thou', 'aye', 'winters', 'manufacture', 'column', 'repetitive', 'psi', 'ect', 'hooking', 'evans', 'conover', 'seaquest', 'northeast', 'remain', 'database', 'shutter', 'penne', 'choprah', 'availablele', 'pairing', 'adjusting', 'carburetor', 'wiped', 'audible', 'neighbourhood', 'centry', 'angi', 'angis', 'pity', 'eubank', 'hippie', 'bench', 'candado', 'youable', 'appropriately', 'pleaes', 'recomend', 'merlot', 'racing', 'virgil', 'hash', 'soya', 'fiori', 'spiga', 'bedford', 'weapon', 'snub', 'kindness', 'luger', 'arcades', 'rifles', 'threat', 'frequented', 'cushion', 'fold', 'claire', 'dislodge', 'atm', 'thanls', 'fuzion', 'resorts', 'natomas', 'emeryville', 'ccarr', 'tamarack', 'fifty', 'duke', 'bulls', 'opt', 'mainstream', 'jolene', 'crunchier', 'tvs', 'lambodari', 'june', 'ummmmm', 'fgo', 'anteatery', 'patsy', 'arguing', 'clubs', 'broadmoor', 'drawing', 'brady', 'thas', 'barboursville', 'eola', 'gaspares', 'determine', 'nas', 'fig', 'shaded', 'toppin', 'rsvp', 'kates', 'klondike', 'mayfaire', 'timothy', 'whitefish', 'mooney', 'jamboree', 'peopl', 'godzilla', 'gymnastics', 'ashtray', 'tiers', 'abigail', 'ported', 'ashlan', 'fade', 'equally', 'tye', 'dye', 'dust', 'stock', 'gimmick', 'anniversy', 'reserveration', 'moss', 'entering', 'geeze', 'smh', 'rhe', 'poke', 'toronto', 'federal', 'lynchburg', 'navigate', 'unintuitive', 'samurai', 'knott', 'tanque', 'assis', 'provides', 'beefs', 'wrapping', 'dover', 'carlisle', 'metropolitan', 'conseco', 'inlaws', 'kitsap', 'speer', 'autonomus', 'addison', 'alegria', 'linq', 'palladio', 'force', 'awakens', 'notorious', 'strikes', 'borrow', 'ammunition', 'fallbrook', 'marzano', 'pomodoro', 'waaayyyy', 'downers', 'clairmont', 'waltmart', 'bandidos', 'dos', 'lively', 'kettle', 'foundu', 'cinco', 'pizaa', 'stir', 'awe', 'punch', 'conan', 'barbarian', 'stonestown', 'samosa', 'tomoatoes', 'mondo', 'braveheart', 'chauhan', 'pittsfield', 'parting', 'gifts', 'clanking', 'wander', 'timeline', 'giovanna', 'soma', 'pleasent', 'cumming', 'whinning', 'blancos', 'cherrie', 'potomac', 'terri', 'kingsbridge', 'wrecking', 'wave', 'convertible', 'soho', 'jai', 'baton', 'rouge', 'celebrity', 'register', 'movements', 'bridgetown', 'roadster', 'mckinnen', 'cranberries', 'bufflo', 'mitchell', 'humanly', 'wo', 'garland', 'tiickets', 'reds', 'budapest', 'genre', 'nakatomi', 'intentions', 'toca', 'curiosity', 'fulfilled', 'pleases', 'somethign', 'recorded', 'buckhead', 'ged', 'journey', 'phones', 'frenchfires', 'barclay', 'disconnect', 'monthly', 'romeo', 'grandview', 'dakota', 'delux', 'buttery', 'jabos', 'criterion', 'jumanji', 'champps', 'iris', 'lawrinson', 'ravenna', 'thaank', 'donw', 'download', 'margaret', 'unexpected', 'defintaly', 'xterra', 'gaku', 'krisinski', 'plugging', 'bonnet', 'survice', 'mirrors', 'rodi', 'enjoys', 'extraordinary', 'ak', 'goldenrod', 'tiempo', 'romulus', 'bernie', 'sanders', 'visor', 'cranks', 'colisuem', 'esports', 'sava', 'raddison', 'airbag', 'hawk', 'cooper', 'drags', 'pushed', 'whatsoever', 'relatives', 'messing', 'marketfair', 'murrieta', 'availalble', 'bruce', 'blazer', 'switches', 'felspar', 'garnet', 'ana', 'valerian', 'swaying', 'alpha', 'snapper', 'snappy', 'bencotto', 'lulumall', 'lindsey', 'sighted', 'anthing', 'espresoo', 'managers', 'fed', 'understandable', 'cinna', 'avaiable', 'litres', 'litre', 'mists', 'jessepi', 'condos', 'agead', 'kamaole', 'asia', 'segundo', 'rosecrans', 'tarasco', 'pigs', 'daddy', 'junkiez', 'pittson', 'coopers', 'lame', 'caretta', 'fishy', 'pruitt', 'sweeteners', 'shannon', 'yukon', 'carnell', 'wailea', 'tobasco', 'presence', 'lilac', 'shawl', 'preparation', 'seabar', 'prytania', 'support', 'mpc', 'blow', 'soften', 'continued', 'flatbread', 'existence', 'looke', 'carmichael', 'def', 'accommodations', 'chilled', 'surroundings', 'tokens', 'meadowood', 'aces', 'nab', 'exit', 'theycharge', 'neine', 'alas', 'ogden', 'helpcome', 'expereince', 'popularity', 'resteraunts', 'graeat', 'admire', 'ware', 'rocker', 'grapevine', 'crossiants', 'teenager', 'brussel', 'eager', 'meadowwood', 'depend', 'attractions', 'ache', 'wonderpark', 'linguisa', 'pigeon', 'elgin', 'sutton', 'resolved', 'indy', 'mocchiato', 'restruant', 'feautres', 'caban', 'seatac', 'cabana', 'garfield', 'seminar', 'rewarded', 'hahahha', 'dating', 'secluded', 'pathfinder', 'argus', 'ninja', 'adams', 'slc', 'morgan', 'diagnosed', 'annex', 'solutionss', 'pretend', 'completes', 'venetian', 'bood', 'nutrition', 'powerhouse', 'auggie', 'prospect', 'goodrich', 'prep', 'cheesey', 'imaginative', 'limits', 'bali', 'windsheld', 'palos', 'verdes', 'routers', 'efficent', 'resturaunt', 'defender', 'aim', 'bluebonnet', 'rigth', 'english', 'goobdbye', 'host', 'mutter', 'lambert', 'reselves', 'continental', 'sup', 'thre', 'spa', 'posh', 'discovery', 'massage', 'semi', 'chedule', 'ulti', 'aero', 'katella', 'matin', 'woul', 'corking', 'position', 'mohegan', 'attendees', 'hd', 'replies', 'azzip', 'westsider', 'miserable', 'becase', 'dupont', 'guitar', 'artesia', 'squeeking', 'connoisseur', 'generated', 'stromboli', 'menards', 'spices', 'smashburger', 'minton', 'hopped', 'pavillion', 'frankenstein', 'erio', 'spiro', 'saue', 'dubois', 'incedent', 'regretful', 'timeframe', 'kebab', 'soldier', 'enhancements', 'demon', 'neon', 'davisville', 'einstein', 'christos', 'piezilla', 'orem', 'spits', 'ughh', 'emergent', 'stink', 'shucks', 'steal', 'matinees', 'registration', 'actualy', 'jerry', 'chirashi', 'shish', 'killed', 'pappadeaux', 'learn', 'locanda', 'primanti', 'pepperon', 'gladys', 'hmph', 'recovery', 'lawton', 'rollups', 'perimeter', 'mercedez', 'immortal', 'justison', 'siff', 'rocking', 'nonsense', 'adresse', 'anonumus', 'ripley', 'cathedral', 'weekly', 'isabell', 'whos', 'reliant', 'gracias', 'mucho', 'antphyscotic', 'expressway', 'affairs', 'wonders', 'generations', 'beleive', 'swating', 'extremley', 'clara', 'someones', 'pupils', 'dialeted', 'goldstandard', 'outburst', 'term', 'eith', 'appointmen', 'drafty', 'huts', 'blacksuv', 'persian', 'reviewed', 'wok', 'shock', 'tosses', 'chickens', 'apprehensive', 'vel', 'pirani', 'solving', 'lined', 'reads', 'jacket', 'visaon', 'niwano', 'abe', 'hana', 'lime', 'winona', 'castle', 'momiji', 'maranara', 'palate', 'marshmellows', 'blong', 'slowest', 'squeaks', 'bounces', 'bump', 'abruptply', 'whitehall', 'glenn', 'battlefield', 'population', 'susana', 'hinode', 'borgen', 'roommates', 'magunga', 'turnersburg', 'morris', 'montgommery', 'dion', 'nineteen', 'piers', 'hong', 'chun', 'realllly', 'statesville', 'hanger', 'henrietta', 'donate', 'extraveganzza', 'oldtown', 'crawling', 'sip', 'tuffy', 'perreroni', 'taxis', 'geja', 'clearly', 'irritated', 'otoyo', 'otaku', 'tatami', 'lamps', 'fail', 'tussads', 'selena', 'jsut', 'searching', 'ko', 'momofuku', 'hourly', 'overhaul', 'glen', 'fanciest', 'loma', 'spout', 'terrifying', 'mckinney', 'mcbrides', 'prattville', 'yoshida', 'silano', 'bertucci', 'bethel', 'countries', 'captioning', 'navarre', 'destihl', 'torn', 'piedmont', 'innovation', 'barco', 'aston', 'moriah', 'sugarloaf', 'jamaica', 'snellville', 'danbury', 'gallagher', 'bumping', 'benchmark', 'zaytoon', 'grazie', 'pleasantville', 'northpark', 'revenue', 'clinic', 'horrid', 'gelacius', 'savage', 'answering', 'hopkinsville', 'barringtons', 'suited', 'ichiro', 'seur', 'snuck', 'provel', 'stranger', 'pescara', 'crosswalk', 'hawiann', 'accesible', 'parmer', 'cucumbers', 'sport', 'pielogy', 'welp', 'wouls', 'anderson', 'zanies', 'kingsport', 'dukes', 'glovebox', 'pounding', 'lourie', 'sausge', 'multigrain', 'viable', 'availbility', 'oz', 'vt', 'caribsea', 'sugarfree', 'demand', 'releases', 'squid', 'pierro', 'granada', 'taillights', 'babysit', 'pumpking', 'dissapointed', 'downstair', 'suburban', 'jaicee', 'mummers', 'applepay', 'refundable', 'madear', 'hunt', 'roslyn', 'mines', 'lurches', 'mechanically', 'buzzing', 'appointmenet', 'prize', 'gamble', 'bethlehem', 'sands', 'customers', 'igor', 'matrix', 'echo', 'marinera', 'hyde', 'european', 'mighty', 'expires', 'tours', 'blade', 'ignoring', 'downtoan', 'overheats', 'nodoguro', 'ichiban', 'lily', 'knight', 'glaze', 'spritz', 'eugene', 'schnitzer', 'unber', 'locator', 'secretary', 'perfer', 'viente', 'farms', 'cracking', 'joints', 'investigators', 'atlas', 'snapping', 'landers', 'hotter', 'intellignet', 'err', 'birchville', 'applied', 'defrost', 'settles', 'gaskins', 'cappunccino', 'enhances', 'vegi', 'lurching', 'strangely', 'firing', 'perizia', 'grandpa', 'reputable', 'slept', 'chanlers', 'jordie', 'gem', 'regards', 'pinging', 'surgery', 'uc', 'twisted', 'litterally', 'engline', 'bug', 'somethng', 'jamesons', 'muhcfs', 'wnat', 'toon', 'saab', 'barrys', 'mushoom', 'hernandez', 'supremes', 'lanbaan', 'southglenn', 'peeve', 'jetblue', 'printed', 'boardman', 'austintown', 'candian', 'sll', 'finner', 'ell', 'sony', 'copper', 'middletown', 'bbgo', 'synchronize', 'enabled', 'hawian', 'zaui', 'clattering', 'caroline', 'egidio', 'vanessa', 'anthoy', 'wayfare', 'stefani', 'germanotta', 'wales', 'panini', 'trattori', 'sandwhich', 'martini', 'hrm', 'jiggers', 'spinners', 'tenders', 'treats', 'pepperioni', 'squeezing', 'belly', 'pisk', 'izzas', 'southcoast', 'levy', 'gables', 'colonnade', 'bliss', 'lindbergh', 'alexandria', 'imo', 'quest', 'sigourney', 'rica', 'duty', 'officially', 'channello', 'erwin', 'gojo', 'chammas', 'zona', 'taurinus', 'wynwood', 'mud', 'lashish', 'yanni', 'neport', 'perch', 'tougher', 'hen', 'antique', 'canaveral', 'melbourne', 'woodmoor', 'matawan', 'snickers', 'bulbs', 'anxious', 'maritime', 'brioche', 'elkhorn', 'panisse', 'lit', 'uys', 'mancino', 'gencarelli', 'fredericks', 'macchiatto', 'regan', 'refreshing', 'math', 'penns', 'groupl', 'benevento', 'belfair', 'tanger', 'coliseum', 'hallandale', 'gulfstream', 'whcih', 'prohibition', 'secaucus', 'matching', 'expanding', 'horse', 'julios', 'bookt', 'informations', 'latta', 'garde', 'avant', 'butters', 'sprites', 'kung', 'lansing', 'roaadtrip', 'cacn', 'fu', 'airline', 'lil', 'baking', 'video', 'davlo', 'deatails', 'parmesion', 'arthor', 'pinnable', 'depp', 'alondra', 'curse', 'holes', 'bernardo', 'present', 'leone', 'repairing', 'vacant', 'nolensville', 'rialto', 'parallax', 'frabbucino', 'valentinos', 'suitecase', 'rockefeller', 'ebbitt', 'washing', 'founding', 'pattern', 'uahn', 'llorona', 'copies', 'siena', 'prosecco', 'diavola', 'verne', 'jp', 'inland', 'marta', 'bernadino', 'baha', 'fom', 'pepperroni', 'wellll', 'margeritte', 'hancock', 'reasonably', 'comparing', 'malley', 'specified', 'capriccio', 'smiling', 'considering', 'mater', 'lovejoy', 'keglers', 'btx', 'marsha', 'asleep', 'falling', 'kempsville', 'erie', 'mkx', 'shorlty', 'contained', 'briar', 'refund', 'walgreens', 'marquis', 'viejo', 'aliso', 'windy', 'hie', 'millie', 'involving', 'sill', 'julio', 'wrote', 'disappointed', 'eew', 'defogger', 'scupper', 'afernoon', 'crips', 'almonds', 'resurfacing', 'ish', 'choce', 'hav', 'nutritional', 'gong', 'machines', 'futuristic', 'wobbly', 'vents', 'noodle', 'aww', 'oley', 'sorrento', 'ace', 'informing', 'rucker', 'crabapple', 'jade', 'dominios', 'platforms', 'blockbusters', 'burnside', 'elephants', 'logo', 'bleeding', 'chock', 'florence', 'ritas', 'purist', 'springwood', 'dulles', 'despecables', 'refrigerated', 'tropics', 'shores', 'mickelson', 'jt', 'emission', 'flunking', 'alamitos', 'emissions', 'varick', 'landmac', 'autolock', 'bumble', 'imbd', 'dignity', 'ordinary', 'anythng', 'painful', 'garcia', 'moonroof', 'tt', 'glenbook', 'hips', 'sz', 'urgh', 'sooo', 'costly', 'cradlerock', 'charmichael', 'cleaner', 'throckmorton', 'williams', 'buca', 'german', 'babbo', 'wendys', 'condoms', 'viper', 'stlye', 'fordham', 'riviera', 'sissys', 'shouldnt', 'cadwalladers', 'independence', 'fitness', 'dope', 'twelve', 'dans', 'bongo', 'invitees', 'atherton', 'nittany', 'seuss', 'wednedsay', 'eastchase', 'upland', 'biago', 'heping', 'salto', 'danishes', 'hackensack', 'estates', 'deadpool', 'effingham', 'nor', 'susy', 'buffering', 'casablanca', 'drank', 'middleburg', 'reload', 'platinum', 'timings', 'enquire', 'redlands', 'blakely', 'maiden', 'player', 'sweeter', 'kingsburg', 'hoffman', 'markie', 'hamilton', 'gf', 'eno', 'allgauer', 'paoli', 'greetings', 'closter', 'ghost', 'raving', 'requesting', 'institute', 'victorvile', 'temperatures', 'maintence', 'edward', 'cast', 'sussex', 'comparison', 'ocotillo', 'whines', 'gnocci', 'classes', 'legroom', 'rosemont', 'huber', 'guntersville', 'decafe', 'virgin', 'domestic', 'manalapan', 'raceway', 'freehold', 'prescreenings', 'excuse', 'lyon', 'spartan', 'vancouver', 'millhurst', 'fifteenth', 'elevator', 'purse', 'conducive', 'dumonde', 'coupe', 'hes', 'romano', 'homegirl', 'vacuum', 'ramones', 'hel', 'trevor', 'micky', 'bishops', 'jilly', 'spellman', 'vera', 'otis', 'elementary', 'stead', 'jims', 'lodi', 'yorkville', 'weeknight', 'neice', 'otheres', 'staling', 'hellam', 'themas', 'leonardos', 'menue', 'chien', 'inbox', 'tiger', 'corker', 'wirth', 'theodore', 'russo', 'ol', 'valparaiso', 'laporte', 'adjacent', 'smoky', 'tortino', 'internal', 'lilly', 'dealers', 'jalopeno', 'sodium', 'pizzzas', 'hypertension', 'mozarella', 'parties', 'si', 'maiz', 'subordinates', 'veers', 'preassigned', 'adriatico', 'chapos', 'tiffen', 'udapi', 'pathway', 'displays', 'hilary', 'brandy', 'autocorrect', 'strathmore', 'kent', 'belongings', 'cinebistro', 'yamomma', 'iv', 'delano', 'warn', 'appontment', 'alberstons', 'cocunut', 'coul', 'eire', 'sandie', 'merrimon', 'puck', 'wofgang', 'natsume', 'stevens', 'lon', 'anza', 'lawenceville', 'perferbly', 'forsyth', 'tonighq', 'forsure', 'kearney', 'tipping', 'completing', 'tuned', 'republique', 'cottage', 'roccos', 'nashoba', 'readynow', 'advertising', 'frustrated', 'unemployment', 'toms', 'autoshop', 'sorrentino', 'ndeed', 'margrita', 'engineering', 'carol', 'forced', 'alignments', 'rockstar', 'deli', 'octopus', 'unoriginal', 'rushed', 'participate', 'silk', 'rainforest', 'transport', 'teaneck', 'devil', 'divison', 'merlion', 'studying', 'daean', 'mutual', 'julianna', 'summerlin', 'classico', 'braun', 'urget', 'connor', 'epicentre', 'disgusting', 'louies', 'buena', 'barb', 'cvs', 'waterbury', 'torte', 'cole', 'luciano', 'apopka', 'effecting', 'berkely', 'kemah', 'pc', 'da', 'mediterian', 'bubblegum', 'unusul', 'jax', 'carlitos', 'trinity', 'annuvesary', 'jewelery', 'uta', 'professor', 'goood', 'wasnt', 'products', 'retaurant', 'projection', 'uses', 'ibrahim', 'bemidji', 'chem', 'laboring', 'cass', 'beachhead', 'macaroy', 'arugla', 'silverish', 'gray', 'upfront', 'prescott', 'convertable', 'righty', 'towson', 'gruyere', 'squeals', 'reunion', 'camelback', 'canale', 'buckley', 'moms', 'pacifica', 'expo', 'fathom', 'contemplating', 'sight', 'pee', 'tend', 'audio', 'toal', 'frederick', 'halfpint', 'gannet', 'ecu', 'couthouse', 'pitt', 'fell', 'infront', 'youi', 'bartlett', 'fraido', 'overfill', 'sigh', 'truly', 'estiamated', 'fortune', 'propeller', 'rosemie', 'periods', 'commander', 'cara', 'saks', 'ayako', 'dietery', 'tommorrow', 'bombs', 'sin', 'ord', 'training', 'departures', 'dante', 'sappys', 'searched', 'mm', 'hastings', 'poison', 'starry', 'indonesian', 'alembic', 'bucket', 'thornton', 'fourty', 'meduium', 'hotdogs', 'wet', 'odyssey', 'mias', 'redemption', 'caviar', 'humdinger', 'pile', 'woman', 'surfin', 'benjamin', 'awang', 'rancher', 'plantation', 'senda', 'clunk', 'momoa', 'villager', 'mercury', 'tailpipe', 'elitch', 'cffee', 'poppyseed', 'marshmallows', 'shoots', 'geesh', 'receippt', 'oof', 'pavilions', 'starfish', 'perk', 'cortez', 'pico', 'murasaki', 'schedules', 'dunn', 'hellob', 'hideaway', 'xtreme', 'yaris', 'thosuand', 'story', 'armargosa', 'vicinity', 'november', 'dee', 'livi', 'goodmorning', 'skokie', 'itialian', 'itailan', 'marziliis', 'funnel', 'arrage', 'soups', 'ybor', 'nassau', 'pepperoini', 'rewatching', 'ancher', 'parmesean', 'imdb', 'bahama', 'motivating', 'zeek', 'convincing', 'jury', 'wasilla', 'queasy', 'gato', 'appearing', 'toluca', 'hookin', 'gaspers', 'hardrock', 'ticketing', 'stonewalls', 'mimosas', 'meritage', 'tomatoe', 'offices', 'spills', 'ripped', 'rogan', 'seth', 'superbad', 'hatchback', 'creation', 'capsicums', 'christiansburg', 'yu', 'interactive', 'smithfield', 'brightleaf', 'tracks', 'newly', 'dips', 'conform', 'pristine', 'surcharge', 'assumption', 'madness', 'pretentious', 'twits', 'captian', 'eclipse', 'fellini', 'ciccia', 'glandale', 'harkings', 'svc', 'variation', 'uberselect', 'meson', 'rucola', 'noone', 'esquire', 'slim', 'gurgling', 'chocolte', 'chicory', 'duchess', 'cirby', 'moline', 'jonnies', 'abrams', 'ingredient', 'xyz', 'lands', 'airports', 'wegman', 'elmira', 'sensei', 'chartreuse', 'kate', 'doubt', 'diabetic', 'visuals', 'budgets', 'horrors', 'puffy', 'solidly', 'drift', 'bottled', 'breve', 'highlander', 'failing', 'appeared', 'decadent', 'jenkintown', 'positively', 'spoons', 'preserve', 'sald', 'harlem', 'themes', 'aliens', 'mucci', 'sheet', 'abother', 'chugging', 'oscar', 'ethos', 'fran', 'shaft', 'vw', 'conservatory', 'arapahoe', 'backcountry', 'verdura', 'napoletana', 'northvale', 'angry', 'capitan', 'thant', 'cleaners', 'predator', 'ripe', 'kennewick', 'edit', 'grosster', 'inches', 'oasted', 'spanking', 'situated', 'pissed', 'jalisco', 'afer', 'retirement', 'brasserie', 'dario', 'charcuterie', 'atmospheric', 'sprinter', 'hibiscus', 'anther', 'morehead', 'recomendation', 'plotlines', 'coordinate', 'leads', 'facilitate', 'dove', 'pandini', 'pill', 'sausauge', 'pizzagna', 'browse', 'massey', 'pepers', 'ethel', 'nonnie', 'bbqsauce', 'piaci', 'chestertown', 'crosse', 'onalaska', 'ciatti', 'wpould', 'mediume', 'collection', 'collecting', 'tamatos', 'orded', 'marzcapon', 'appleton', 'lactase', 'fisher', 'hayes', 'mando', 'luigis', 'sink', 'penny', 'italiano', 'tutto', 'tatsu', 'pinching', 'gionino', 'mead', 'siesta', 'haytt', 'insight', 'ellis', 'monzeralla', 'grende', 'palladium', 'lonesome', 'transmition', 'spinning', 'blitzed', 'heya', 'bazaar', 'greenpoint', 'rule', 'instagram', 'performance', 'uninvited', 'impossible', 'luncheon', 'jaunt', 'crib', 'cigars', 'magical', 'dangerously', 'jafters', 'americanos', 'realigned', 'mia', 'caldara', 'coldbrew', 'cvr', 'sopac', 'rossatis', 'milder', 'wirh', 'tacovore', 'flavorful', 'ram', 'flamming', 'carolla', 'toro', 'rounded', 'inteligent', 'expired', 'sticker', 'dominick', 'uggh', 'naples', 'appoitment', 'deference', 'griffin', 'longhorns', 'legion', 'hsve', 'mouli', 'billboard', 'pefect', 'kentwood', 'baseline', 'hunan', 'kirk', 'butterfield', 'caravan', 'technology', 'implement', 'operation', 'aoril', 'shes', 'explosion', 'raj', 'atmospere', 'dab', 'carburator', 'acres', 'complication', 'thir', 'searing', 'judging', 'dippin', 'silently', 'creepy', 'shocking', 'hting', 'zelda', 'compatible', 'oxnard', 'bahubali', 'mahabarathm', 'hated', 'mesquite', 'interfere', 'fork', 'classics', 'doughnuts', 'restraunts', 'zizzznos', 'powerful', 'splurging', 'faye', 'alil', 'brindle', 'origionally', 'orchids', 'rewarm', 'bruins', 'billie', 'butler', 'hieghts', 'nicely', 'wasting', 'cappacino', 'sloans', 'beall', 'ubermo', 'harsher', 'phenomenal', 'tivkets', 'woodfired', 'button', 'tundra', 'glazed', 'capp', 'horton', 'braintree', 'davidson', 'jaquan', 'sprinkled', 'dickerson', 'christy', 'ent', 'someome', 'hahah', 'oleys', 'nuimber', 'reddish', 'brownish', 'enterance', 'astros', 'unavailable', 'connors', 'elpaso', 'roundabout', 'elantra', 'lawson', 'cheyenne', 'hoti', 'pino', 'marlowes', 'reese', 'calabrian', 'fontina', 'aside', 'norval', 'rosatis', 'scaring', 'norvie', 'om', 'antica', 'cates', 'mikuni', 'hubers', 'shout', 'doctors', 'sweetness', 'errr', 'parthenon', 'tin', 'ahm', 'elise', 'lotus', 'daily', 'finds', 'ringling', 'surcharges', 'yer', 'pisano', 'pleas', 'italiian', 'boxed', 'retrieve', 'tact', 'hoses', 'luhrs', 'milburn', 'charlene', 'deervalley', 'arrowhead', 'tills', 'miamisburg', 'marketstreet', 'lampo', 'largethen', 'fillmore', 'quotes', 'juan', 'stratford', 'transformers', 'knife', 'heres', 'begal', 'pricy', 'grandkids', 'huntingdon', 'larkspur', 'definately', 'ric', 'cucamonga', 'forbes', 'missus', 'cavities', 'fitting', 'arctic', 'auditorium', 'escapes', 'sunshine', 'orginial', 'azusa', 'tulare', 'bonifacio', 'ziggy', 'louisiana', 'fridays', 'bowen', 'albemarle', 'padding', 'squishy', 'aunts', 'redrock', 'foamed', 'deb', 'farley', 'birthdays', 'ks', 'ahhh', 'accumulate', 'abc', 'preoccupied', 'stressing', 'torreo', 'gio', 'reccommend', 'emergecy', 'azure', 'tenaya', 'metallic', 'phyrme', 'chis', 'drag', 'arizmendi', 'bot', 'afteroon', 'carlsbad', 'mashroom', 'exacly', 'ads', 'inconsistent', 'sienna', 'deflating', 'wanda', 'ridden', 'screamin', 'exterior', 'lance', 'speilburg', 'dependable', 'fathers', 'rephrase', 'kimton', 'fixable', 'penzoil', 'evaporating', 'history', 'riverfront', 'council', 'marsh', 'sanibel', 'hatter', 'tourist', 'flingers', 'lopez', 'sonobana', 'happpend', 'picasso', 'ohhhh', 'vanille', 'tinker', 'poing', 'bluebeard', 'formaggia', 'vibrant', 'pomona', 'itellegent', 'cupon', 'stress', 'italia', 'montebello', 'angelika', 'sample', 'libaray', 'effiel', 'towel', 'anly', 'frightened', 'mjr', 'bq', 'bala', 'delorenzos', 'okey', 'sounda', 'pancakes', 'booze', 'kyou', 'nacho', 'hteaw', 'chavel', 'rotating', 'mattersen', 'solved', 'sincerely', 'roxanne', 'mailing', 'bialy', 'crossgates', 'tcl', 'kyle', 'waterford', 'albright', 'ehhh', 'mindy', 'pooling', 'peppo', 'delete', 'groton', 'fruita', 'bleu', 'wmany', 'informatoin', 'amphora', 'sharedlyft', 'luxurary', 'lincohn', 'cgi', 'fairlakes', 'marrifield', 'kingstown', 'greenway', 'apache', 'honesty', 'wanto', 'maddy', 'users', 'fetta', 'jefferys', 'nerves', 'felicia', 'whiskey', 'slug', 'paring', 'raymond', 'tinted', 'roboto', 'halibut', 'adviser', 'vibrate', 'wrecks', 'updating', 'heey', 'normans', 'kovick', 'pitch', 'dobble', 'dlike', 'extravaganzza', 'whens', 'snowy', 'roads', 'diced', 'horny', 'goar', 'feasterville', 'paulina', 'newman', 'veranda', 'baba', 'ghannouj', 'anthem', 'micro', 'sd', 'italo', 'crunching', 'ravine', 'sunglasses', 'barrett', 'granbury', 'junkies', 'dixon', 'morels', 'iad', 'arcadia', 'iffy', 'shiny', 'deployments', 'crawfish', 'pul', 'alerts', 'io', 'blech', 'anemic', 'imbecile', 'pox', 'inflation', 'publix', 'unsw', 'witness', 'lfyt', 'brisket', 'independent', 'dixie', 'occassion', 'consistently', 'macayo', 'molina', 'leafies', 'superman', 'jioint', 'lodo', 'avatar', 'restauant', 'louisa', 'catering', 'succeeds', 'reorder', 'cesars', 'braddock', 'fallow', 'mcdonougha', 'applewood', 'vegetairan', 'wegmans', 'runtime', 'vodka', 'customized', 'piercings', 'forrester', 'tunnel', 'ample', 'spirited', 'gsa', 'enetertainment', 'zodo', 'twp', 'goleta', 'superior', 'redbones', 'republik', 'enviorment', 'theyre', 'fiftey', 'ridiculously', 'annervisery', 'rahpsody', 'cheek', 'goth', 'congress', 'lease', 'rosie', 'parmasan', 'inclduing', 'golfland', 'sunsplash', 'samamtary', 'slower', 'dearborn', 'consent', 'gun', 'clarendon', 'wonky', 'kimmel', 'workout', 'measures', 'waterpump', 'dropbox', 'wasamazing', 'ninety', 'seventy', 'ampitheatre', 'zerozero', 'marker', 'evenining', 'razzis', 'salvatores', 'lists', 'cheektowaga', 'attitude', 'porterhouses', 'tesla', 'rollercoaster', 'tortiose', 'hostel', 'procedure', 'disappoints', 'gwu', 'souce', 'jacey', 'defiantly', 'portillo', 'bryce', 'cinc', 'tenish', 'pepporni', 'chives', 'jetro', 'spacious', 'torinos', 'tomrrow', 'brad', 'gto', 'puchase', 'richton', 'utica', 'governors', 'domo', 'kyota', 'ka', 'ctr', 'conv', 'assumed', 'reccomend', 'ordeing', 'willit', 'kfc', 'zeigler', 'nonna', 'presses', 'kosuke', 'domenico', 'cat', 'phil', 'toppping', 'thatll', 'heroes', 'crying', 'tinsiltown', 'comcast', 'browsing', 'martins', 'stalla', 'americana', 'congrats', 'sausalito', 'cheerwine', 'layton', 'everybody', 'hines', 'airlines', 'microwave', 'fremont', 'kamonegi', 'populate', 'billed', 'safeco', 'realistic', 'brigantine', 'bo', 'beau', 'tar', 'pacmutual', 'coyote', 'communicating', 'fo', 'tarzan', 'argentina', 'parilla', 'gaucho', 'minnetrista', 'shower', 'worship', 'makeup', 'pagliacci', 'milford', 'morrow', 'seasonings', 'abour', 'swinging', 'tripes', 'yoou', 'lts', 'clinking', 'schmid', 'ts', 'contain', 'napolis', 'ria', 'yeh', 'fuqua', 'suggesstions', 'ottava', 'southland', 'whiting', 'shutdown', 'amiss', 'vapid', 'rang', 'award', 'christ', 'dolphins', 'lobsters', 'sadistic', 'omfg', 'jobs', 'reveiws', 'seemingly', 'differs', 'availabilities', 'rev', 'briefly', 'pauses', 'winding', 'bertha', 'incident', 'contains', 'experiment', 'highlands', 'starved', 'nog', 'fishermans', 'tir', 'warf', 'grams', 'slugs', 'slimy', 'nasty', 'cousins', 'buggers', 'cocnut', 'oooo', 'sheryl', 'greenacres', 'bagels', 'breakroom', 'tii', 'javachip', 'texture', 'cavetelli', 'akiko', 'enclosed', 'wedge', 'hummus', 'meatsa', 'omitted', 'cicco', 'cinemax', 'remake', 'rattiling', 'allison', 'zoe', 'catherine', 'lombardi', 'panico', 'afternoons', 'yankees', 'millenium', 'saha', 'accomac', 'progress', 'pagliaccis', 'pod', 'dvd', 'millen', 'passionfish', 'inconvenience', 'scoops', 'tak', 'ethe', 'valdez', 'cute', 'crisper', 'abnormal', 'eighth', 'offput', 'appetite', 'turtle', 'opentable', 'upcharge', 'abbott', 'lemonaide', 'smitty', 'remainder', 'humming', 'figures', 'extea', 'annd', 'nearset', 'intercontinental', 'magnificent', 'cannery', 'junior', 'shoppe', 'verizon', 'amphitheater', 'cooler', 'events', 'keilbasa', 'linguicia', 'smartphone', 'laptop', 'starubcks', 'morganville', 'drake', 'allie', 'bok', 'mandarins', 'biola', 'fruits', 'theathers', 'pro', 'centralia', 'sarbucks', 'rhode', 'handtoss', 'napoleon', 'clerks', 'chilis', 'yard', 'informed', 'taster', 'leading', 'according', 'knowledge', 'petco', 'cove', 'jolla', 'gloves', 'taft', 'milonius', 'vendue', 'janine', 'aqua', 'ubercab', 'shudders', 'zurich', 'movieland', 'donkey', 'germantown', 'ponce', 'dugan', 'cappucchino', 'europe', 'vital', 'proteins', 'collagen', 'warrenton', 'thrust', 'hatch', 'rattles', 'consists', 'colfax', 'rich', 'rendezvous', 'gladly', 'arrivals', 'essence', 'xlt', 'explorer', 'starbaucks', 'cleavland', 'cleavalnd', 'navigator', 'supper', 'detour', 'greeneville', 'humm', 'liketo', 'complain', 'answered', 'maru', 'memo', 'hide', 'references', 'haun', 'cheeze', 'langbaan', 'blanket', 'humor', 'emotional', 'ballantine', 'impact', 'whiplash', 'megan', 'nines', 'rowdy', 'concerning', 'barclays', 'giants', 'constant', 'bellagio', 'frances', 'bitter', 'philmore', 'comparisson', 'carabba', 'dumplings', 'cranbery', 'leucadia', 'bash', 'pricier', 'against', 'comales', 'centennial', 'papi', 'cudahy', 'condesa', 'begins', 'inferno', 'sorted', 'toulouse', 'headquarter', 'jamacian', 'varieties', 'gerlach', 'federalies', 'nametags', 'hugs', 'allstate', 'napoleano', 'darnestown', 'reapis', 'laemmle', 'lived', 'buds', 'midday', 'entered', 'nopalito', 'randomly', 'msg', 'almomd', 'accompanying', 'rapsody', 'refreshment', 'barrelhouse', 'pleaase', 'reservatoin', 'regard', 'marketing', 'project', 'approve', 'tomori', 'rings', 'volt', 'andel', 'joshua', 'glenstone', 'redirecting', 'shield', 'mcvay', 'deer', 'gota', 'cineplex', 'stroudsburg', 'corbin', 'wit', 'yelling', 'getta', 'vard', 'maker', 'compressor', 'heavenly', 'imput', 'crumbly', 'hooray', 'simmons', 'bellybuster', 'rosario', 'valve', 'compression', 'citadel', 'cheezy', 'covina', 'hurts', 'waiters', 'coney', 'decorations', 'bw', 'attendants', 'firepit', 'managed', 'establishments', 'celestial', 'cellphone', 'bullock', 'ryan', 'reynold', 'resevere', 'circles', 'puddle', 'workers', 'pepperonin', 'ohn', 'sais', 'quoi', 'raws', 'prefferered', 'greenbrook', 'americans', 'trailblazer', 'words', 'discussing', 'matters', 'networking', 'shoulders', 'extension', 'reflection', 'secrets', 'flipping', 'describing', 'je', 'insisted', 'nopa', 'heavens', 'catfish', 'chane', 'monitoring', 'continues', 'youth', 'source', 'uw', 'pittsford', 'av', 'prairieville', 'shitty', 'rhombus', 'sustainability', 'practices', 'forcast', 'havae', 'ex', 'lump', 'staten', 'godiva', 'romana', 'clanging', 'cartoon', 'nevermine', 'spell', 'twins', 'seville', 'boot', 'alejandro', 'craft', 'deming', 'recommending', 'gator', 'charter', 'aride', 'ferrari', 'thaat', 'bf', 'respond', 'victorio', 'diabetes', 'grindstone', 'responsible', 'reseraunt', 'nw', 'sever', 'secondary', 'absinthe', 'kezar', 'marchessa', 'bearings', 'kenny', 'imes', 'wrecker', 'elvis', 'uriah', 'heap', 'rocketman', 'elton', 'floyd', 'clever', 'cittrel', 'rid', 'proctor', 'sacrifice', 'rep', 'blica', 'pinellas', 'tails', 'coated', 'bisque', 'instantly', 'sloan', 'waltham', 'cautious', 'luxuries', 'neptune', 'factor', 'vanti', 'chocalate', 'freshley', 'vereity', 'latt', 'twofold', 'significant', 'getter', 'advertised', 'limoncello', 'breather', 'stumped', 'delite', 'scenic', 'skylines', 'newest', 'controlling', 'lifetime', 'bricks', 'rapscallion', 'skinner', 'wha', 'battlestar', 'hobby', 'dined', 'vs', 'chopped', 'kahala', 'saussage', 'prosciuto', 'asilyn', 'obon', 'stuft', 'hearthside', 'portal', 'karma', 'shiitake', 'olivia', 'electric', 'preposterous', 'flames', 'bah', 'micheal', 'kosmic', 'madelines', 'sonesta', 'dank', 'burma', 'prestigious', 'infrequently', 'noticeable', 'acommodate', 'regarding', 'msy', 'rolodex', 'antipasto', 'catalan', 'feb', 'cappachino', 'redwood', 'indicator', 'spite', 'emmons', 'souse', 'ihop', 'irlo', 'bronson', 'bowtie', 'jut', 'offroad', 'sturdier', 'pl', 'lorenzo', 'menomonie', 'secret', 'magpie', 'tracey', 'march', 'traditionally', 'reduce', 'minimum', 'loreto', 'erase', 'llc', 'veterans', 'levittown', 'babbling', 'fairyland', 'fowler', 'pizzaway', 'longing', 'advised', 'commercials', 'philip', 'roth', 'poeple', 'jr', 'uberpremium', 'alma', 'herndon', 'blurry', 'recap', 'ilet', 'indicated', 'scottsville', 'orde', 'topeka', 'mamacita', 'bronze', 'taylorsville', 'tung', 'jajang', 'lastly', 'bush', 'mackenie', 'eighty', 'metered', 'argyle', 'monnalisa', 'aurelios', 'interact', 'kinship', 'neeed', 'skin', 'behaving', 'truffles', 'porcini', 'pecorino', 'sardo', 'reggiano', 'luce', 'nostalgia', 'correcting', 'hoverbus', 'doggle', 'conformation', 'synthetic', 'government', 'jing', 'chuan', 'broiler', 'anthonys', 'dickey', 'lucilles', 'montclair', 'faulty', 'pizze', 'convoy', 'animal', 'eve', 'pulaski', 'montrose', 'yusho', 'totoraku', 'alexia', 'nuevo', 'charger', 'midlothian', 'rangers', 'portobello', 'hoe', 'kietzki', 'lanie', 'greenpeppers', 'fiji', 'yakyudori', 'jhons', 'mira', 'intentioned', 'unhelpful', 'drover', 'stories', 'melt', 'frapaachino', 'tooth', 'mandolin', 'authenticity', 'answers', 'awell', 'relaxation', 'prefect', 'paulie', 'damon', 'tavol', 'ta', 'servers', 'inc', 'soo', 'assistanike', 'burrata', 'katlin', 'jalepe', 'urgency', 'gasguet', 'mahogany', 'buddha', 'rodizio', 'plantains', 'matches', 'coop', 'nellis', 'weaverville', 'esresso', 'vaguely', 'bat', 'cave', 'swim', 'pond', 'ingo', 'conditions', 'wobble', 'damaging', 'ekse', 'waits', 'shoppes', 'locals', 'tio', 'mmy', 'foind', 'eb', 'tot', 'menifee', 'ogringal', 'garlice', 'clianro', 'tomatos', 'fod', 'oinons', 'sise', 'moutain', 'restaurans', 'comp', 'pacient', 'comming', 'taliesin', 'popmpton', 'blown', 'heating', 'tornado', 'gramercy', 'carte', 'itching', 'aroogas', 'vfw', 'evelyn', 'stoplights', 'vicky', 'vale', 'mineo', 'meyer', 'username', 'peppermill', 'norwich', 'bridgeton', 'cesar', 'chavez', 'chandler', 'cupping', 'lua', 'gmx', 'clair', 'fandengo', 'primos', 'sitted', 'mineral', 'waters', 'carrots', 'squash', 'dip', 'homemade', 'diana', 'carrot', 'brimstone', 'travolta', 'sequoia', 'soluitions', 'blocking', 'perlini', 'grated', 'bumpy', 'applesauce', 'towns', 'soluntions', 'employees', 'backside', 'plant', 'grills', 'footprint', 'carbon', 'families', 'ichibon', 'gastropub', 'aswell', 'troubadour', 'possum', 'inspecion', 'inspector', 'provider', 'tokui', 'crave', 'daughters', 'affect', 'regretted', 'sb', 'assortment', 'invest', 'stratosphere', 'poblana', 'carne', 'sporkie', 'asada', 'schaumburg', 'chelmsford', 'gulp', 'golbert', 'lycoming', 'muncy', 'sixty', 'yacht', 'gte', 'suasage', 'gravity', 'malleys', 'diffrence', 'brookshire', 'hoped', 'estrellita', 'commis', 'comments', 'davenport', 'centro', 'moines', 'taiwanese', 'hartsfield', 'stuart', 'jeremy', 'sporting', 'accelorate', 'enjoyable', 'tribeca', 'attentions', 'dunno', 'yabbi', 'katsu', 'shiro', 'backseat', 'titanic', 'busaba', 'foxy', 'sourced', 'auntiecathie', 'managable', 'seater', 'finn', 'whataboutburger', 'chaya', 'drago', 'laville', 'defective', 'airbags', 'samir', 'tickest', 'machitto', 'lasur', 'winston', 'drizzled', 'siris', 'applebes', 'bridgewater', 'denton', 'teasley', 'parkchester', 'tingly', 'tango', 'selectxl', 'panel', 'dimming', 'buffets', 'richardson', 'exception', 'ignored', 'godfather', 'distracted', 'forwarding', 'girly', 'prouding', 'hesitant', 'td', 'consecutive', 'lazizza', 'prague', 'rangeline', 'doritos', 'myles', 'kollitz', 'kalanianaole', 'kai', 'thrown', 'azteca', 'nbc', 'fake', 'fayette', 'veto', 'desmoines', 'cafeterias', 'owuld', 'commend', 'miguel', 'magpies', 'coach', 'neapolitan', 'visting', 'thelinden', 'multiplex', 'chama', 'gaucha', 'middlesex', 'teacher', 'meatless', 'border', 'oredered', 'shave', 'shaped', 'ounce', 'peporonni', 'ceremony', 'mariano', 'honor', 'sensible', 'schooler', 'vespucci', 'ollies', 'wean', 'mondays', 'cobo', 'historical', 'romare', 'bearden', 'cardamon', 'thees', 'ti', 'pineaple', 'celtics', 'skylight', 'preffred', 'estate', 'autoshops', 'orginal', 'missy', 'buzz', 'arrington', 'viewin', 'climate', 'fitch', 'matthew', 'williard', 'stellhorn', 'fairlane', 'linos', 'melisse', 'syrupy', 'lenox', 'shouls', 'grandfather', 'inherited', 'suffer', 'buzzfeed', 'cursed', 'dictate', 'genius', 'mabels', 'pallido', 'mcuh', 'kale', 'mediumonions', 'prefered', 'knocked', 'bind', 'sputter', 'lelli', 'background', 'pleasing', 'chops', 'mah', 'boisterous', 'sukothai', 'danielle', 'meditterannean', 'sriracha', 'rims', 'ears', 'surprisse', 'dilevred', 'lighthearted', 'edmond', 'wank', 'feasible', 'renold', 'period', 'jimmie', 'leeds', 'spoilers', 'chilie', 'breadstick', 'pearls', 'chrysler', 'pt', 'cruiser', 'omni', 'harmony', 'tuesdsy', 'capola', 'greenville', 'hackamoore', 'helpfulness', 'allignment', 'makepeace', 'thamk', 'pirate', 'pistol', 'val', 'daly', 'awkward', 'chirping', 'choco', 'exists', 'flies', 'bugs', 'nuisance', 'fantatsic', 'aviator', 'everday', 'stem', 'adrian', 'personalized', 'pleasr', 'xxxxxxxxx', 'lenoir', 'mauro', 'possilbe', 'cantini', 'rounds', 'pizzaeria', 'noice', 'persimmon', 'cupcake', 'moderate', 'lucielles', 'harvard', 'stolen', 'akron', 'aomething', 'charlies', 'pinkitzel', 'rope', 'turnover', 'giovannies', 'grecian', 'joh', 'ns', 'clinkerdaggers', 'hits', 'kohls', 'diiferent', 'swiss', 'famiglia', 'verymuch', 'halfway', 'crane', 'smokes', 'ease', 'poplar', 'defeat', 'laramie', 'dollop', 'slamming', 'landston', 'hostetter', 'unlock', 'geno', 'dig', 'cherie', 'pti', 'meter', 'release', 'letche', 'craigsplainin', 'stavros', 'dreary', 'zing', 'muffies', 'younger', 'intelligient', 'blessing', 'crosstown', 'gulch', 'purses', 'fron', 'harrier', 'incompetent', 'cinnimon', 'hotmule', 'amway', 'unflavored', 'leaked', 'hum', 'bowls', 'refusing', 'mega', 'shoal', 'popped', 'iphone', 'littleton', 'somee', 'googlexa', 'manati', 'doral', 'definitly', 'almalfi', 'argh', 'nighthawk', 'monroe', 'dhidfhsdofih', 'bethesda', 'richness', 'finances', 'slide', 'princess', 'gasket', 'dealt', 'mitch', 'donahue', 'jodi', 'pequods', 'hos', 'counts', 'drinkers', 'overheard', 'malone', 'propose', 'maialina', 'marge', 'blip', 'bloop', 'wrapped', 'piezons', 'environmentally', 'garbage', 'bff', 'conducting', 'stroll', 'ghet', 'brining', 'grandson', 'jacobson', 'ovens', 'mountings', 'weak', 'felt', 'approved', 'reeba', 'mints', 'halsted', 'pressured', 'hasler', 'acquaman', 'jamaican', 'lessen', 'covell', 'senor', 'frogs', 'bandido', 'yau', 'wierdos', 'whirring', 'expedite', 'generous', 'carrollton', 'cinnasquares', 'cheezybread', 'rosebud', 'infection', 'appreciation', 'breweries', 'xpress', 'hilldale', 'crabs', 'hunger', 'lcation', 'acworth', 'fedex', 'crappy', 'millbury', 'obtain', 'states', 'oaktree', 'paint', 'shold', 'reschudle', 'authetic', 'alergy', 'klamata', 'whistle', 'vennila', 'fayettville', 'confidently', 'franklyn', 'madhouse', 'preparing', 'bridal', 'stirred', 'goverment', 'fuzio', 'relocate', 'florist', 'carseat', 'arroyo', 'instea', 'nya', 'kachka', 'rugrats', 'russian', 'yay', 'rusting', 'ayers', 'duffy', 'chahinkapa', 'sacked', 'connections', 'wahpeton', 'glenwood', 'flats', 'esle', 'dressings', 'condensed', 'twisty', 'springville', 'southeast', 'alrighty', 'qualify', 'couch', 'capozzi', 'mock', 'darlene', 'peices', 'actally', 'cellular', 'preferring', 'cesears', 'johnman', 'speical', 'speaking', 'rely', 'bambino', 'teas', 'extravaganza', 'coldwater', 'noah', 'highliner', 'vroman', 'whine', 'pasco', 'strongly', 'cookery', 'soule', 'higgins', 'eagan', 'reeces', 'motsa', 'lotsa', 'verandah', 'brixx', 'nucleus', 'alittle', 'kiowa', 'becasue', 'milos', 'productive', 'input', 'xxxxxxxxxxx', 'palmyra', 'behard', 'pointless', 'pets', 'slows', 'switching', 'combinations', 'cinnemagic', 'syrop', 'peanutbutter', 'beale', 'squirts', 'wf', 'thames', 'designated', 'colleagues', 'midway', 'shakey', 'reconsider', 'fyre', 'tet', 'lenzini', 'cah', 'thabnk', 'southington', 'izakaya', 'returning', 'coastal', 'siccilian', 'centreville', 'spins', 'pianaanple', 'deleware', 'tonght', 'baguette', 'ordeded', 'yhey', 'pappas', 'sicialiain', 'seperate', 'sidewalk', 'negotiate', 'cani', 'elf', 'binghampton', 'smoother', 'georges', 'cahuenga', 'passat', 'itll', 'fernando', 'carpaccio', 'mekong', 'intermediate', 'gentleman', 'masaman', 'kun', 'biryani', 'stuttering', 'longport', 'palak', 'rattly', 'serpentine', 'boutique', 'klagge', 'influence', 'technically', 'sawmill', 'madisonville', 'mathius', 'ostra', 'regis', 'jayme', 'strongsville', 'chi', 'unhealthy', 'nabrasa', 'catches', 'boynton', 'dicarlo', 'iwill', 'taverna', 'yoon', 'steps', 'restsurant', 'thaw', 'spl', 'kyma', 'cleared', 'cosita', 'restarted', 'zatinya', 'campfire', 'greasy', 'makeit', 'tikki', 'appealing', 'retreat', 'niagara', 'stephen', 'reformation', 'samples', 'frapaccino', 'jannet', 'shoe', 'deplaning', 'perferrably', 'promoted', 'insulates', 'atl', 'harvest', 'scores', 'delegated', 'puddles', 'cooks', 'malcom', 'sigsby', 'jonesboro', 'butt', 'metra', 'festus', 'fanstastic', 'stardust', 'masala', 'westwind', 'harrision', 'sugared', 'filters', 'pyles', 'cappuchinpo', 'stephan', 'dominoz', 'flora', 'sause', 'lucia', 'lynbrook', 'stunning', 'drizzles', 'comment', 'machiatos', 'restaurnt', 'citium', 'insead', 'genal', 'hiram', 'paneer', 'minh', 'specializing', 'clifton', 'paramount', 'avalable', 'roomy', 'windsheild', 'thorough', 'manually', 'simplest', 'greenridge', 'somethin', 'frabuccino', 'moshulu', 'activate', 'ugghhh', 'chocoloate', 'wawa', 'warriors', 'pleased', 'agreement', 'margharita', 'parx', 'crossant', 'delighted', 'pleaser', 'doc', 'bookbinders', 'importantly', 'crush', 'toe', 'holster', 'seal', 'appoints', 'cardinfo', 'apoligize', 'availaible', 'belvedere', 'unc', 'unbelievable', 'withpizza', 'waikele', 'implemented', 'pershing', 'berlin', 'tortellini', 'operational', 'bardman', 'campbell', 'totinos', 'scarlet', 'coloniol', 'pleasantly', 'crossed', 'malls', 'accidentally', 'remote', 'factors', 'toney', 'ugg', 'clicker', 'tale', 'optima', 'tad', 'thaiphoon', 'salvos', 'vinnys', 'rocket', 'lucerne', 'smyrna', 'hpd', 'capri', 'invitations', 'sets', 'accordingly', 'jin', 'magiano', 'ucsf', 'courtney', 'caplingers', 'evenings', 'elderly', 'mazzio', 'mannequin', 'axel', 'momma', 'optometrist', 'plead', 'scottish', 'cheesecakes', 'flavorings', 'restauranting', 'gt', 'redmond', 'nku', 'broadview', 'prescription', 'lupita', 'nyango', 'cimena', 'mansions', 'cosmo', 'gallatine', 'pending', 'marzonnis', 'unloading', 'bergstrom', 'salsa', 'ribalta', 'batman', 'sharpstown', 'mounted', 'nathan', 'hugo', 'cvt', 'castaway', 'mist', 'seoul', 'xerxes', 'indispensable', 'kbbq', 'latee', 'pizzario', 'turnal', 'entrees', 'insane', 'daegee', 'revenge', 'drives', 'machiado', 'alpharetta', 'bearing', 'consultation', 'marley', 'mounting', 'difficulty', 'fleur', 'pizzq', 'crows', 'nest', 'stylish', 'crdveer', 'violence', 'fresco', 'xvs', 'indicates', 'solenoid', 'cx', 'mina', 'er', 'dverer', 'installing', 'blanco', 'ticks', 'sandwiched', 'intellegent', 'culvers', 'commitment', 'possbile', 'struts', 'hyaundi', 'glenmont', 'obd', 'precautions', 'chimed', 'oxy', 'leather', 'materials', 'constellation', 'ty', 'beaver', 'torque', 'np', 'pantano', 'cinemacafe', 'cancled', 'oakton', 'goshen', 'ticketmaster', 'symon', 'hose', 'racks', 'platter', 'offensive', 'dam', 'material', 'cel', 'ughhh', 'zaza', 'warranity', 'maintain', 'television', 'acommadate', 'hult', 'wah', 'overcharge', 'binge', 'jon', 'bernthal', 'stains', 'garauntee', 'stopes', 'ahed', 'episode', 'profile', 'cappuccinos', 'delays', 'dtw', 'legends', 'stable', 'pencil', 'cartoonish', 'vietnam', 'ceaser', 'daytime', 'pizzza', 'winnetka', 'calhoun', 'specilizes', 'tantalum', 'northwoods', 'coiming', 'plots', 'unboarding', 'indicate', 'puruit', 'carlilse', 'wobbles', 'angelos', 'soudn', 'incredibles', 'mintues', 'miyako', 'impossibles', 'darker', 'needle', 'temperance', 'robbie', 'oriental', 'duds', 'clunky', 'citywalk', 'skimmed', 'tinselton', 'medea', 'eds', 'corvallis', 'reson', 'pleasantown', 'nominated', 'method', 'mazzios', 'nbot', 'levens', 'porecino', 'tiess', 'benedict', 'excom', 'coastline', 'morristown', 'drivin', 'appease', 'cracled', 'humble', 'scheme', 'rigazzi', 'matched', 'kohl', 'sumptuous', 'worrisome', 'ew', 'hub', 'crayola', 'exercise', 'cases', 'cetronia', 'glowing', 'nasville', 'radnor', 'dressy', 'banning', 'tempted', 'woodfield', 'reservoir', 'kep', 'strings', 'upbeat', 'ouzu', 'availabilites', 'harker', 'incessant', 'coins', 'hank', 'cruz', 'ramapo', 'milaukee', 'fallen', 'australian', 'downown', 'maumee', 'efficient', 'sommolier', 'balacing', 'craziness', 'ibs', 'showcase', 'underwear', 'vegans', 'edible', 'miso', 'flavours', 'kinf', 'viewings', 'volcano', 'lakeland', 'beggars', 'whattaya', 'plz', 'wich', 'downtowner', 'cloest', 'beam', 'painting', 'stillhouse', 'penguins', 'parmesian', 'nearing', 'hulen', 'complaining', 'signaled', 'warby', 'martinelli', 'positanos', 'distillery', 'hr', 'seviced', 'delivers', 'boat', 'oredr', 'bellow', 'liana', 'redfish', 'anvy', 'turck', 'caprese', 'diference', 'eff', 'channellos', 'donatello', 'recommends', 'invites', 'lid', 'kangaroo', 'intresting', 'franchise', 'kedai', 'eataly', 'macchiatos', 'guard', 'dundee', 'smit', 'levels', 'comunication', 'mochi', 'happytown', 'gretchen', 'makan', 'adil', 'tsai', 'mei', 'research', 'zalla', 'rowe', 'hereditary', 'soju', 'sinclair', 'cubbybear', 'poppers', 'portalnd', 'marry', 'passcode', 'kicking', 'chevys', 'kisha', 'tokurei', 'gardenview', 'boylston', 'unhappy', 'homer', 'brag', 'cavs', 'fleming', 'torchy', 'waleeto', 'flax', 'described', 'brighton', 'bev', 'dusting', 'nemo', 'bald', 'ark', 'wiseguy', 'bey', 'longest', 'contamination', 'paulo', 'butterfly', 'pioneer', 'psychological', 'shelton', 'desperatly', 'tesson', 'manayunk', 'margetarita', 'leeway', 'murray', 'burlington', 'azzuria', 'wonderfully', 'arthur', 'various', 'slivers', 'chenal', 'agoura', 'idled', 'halfs', 'kie', 'miramar', 'liu', 'moks', 'renato', 'carrabas', 'homecoming', 'fulbright', 'classier', 'loca', 'carabbas', 'forecast', 'suppliers', 'wallace', 'barber', 'matchbox', 'upate', 'toyotas', 'caramalized', 'barlic', 'bluetooth', 'hog', 'mg', 'cgv', 'texting', 'markham', 'ivan', 'kato', 'southport', 'earlest', 'walls', 'millbrae', 'pdx', 'divisidero', 'tita', 'beaumont', 'blanca', 'divided', 'passed', 'celia', 'aviation', 'capacity', 'separation', 'ultima', 'helga', 'veronica', 'canlis', 'suits', 'sepulveda', 'buddhakan', 'undertsand', 'truxton', 'manor', 'absurdity', 'perfection', 'perform', 'slutty', 'clint', 'attire', 'campisis', 'differential', 'trumbull', 'eveneing', 'mixer', 'interstate', 'morgantown', 'albania', 'homework', 'atheneum', 'frankfort', 'vazzy', 'lagrange', 'callow', 'darughter', 'convinent', 'williamson', 'teenage', 'valvoline', 'written', 'romanacci', 'woodway', 'vinegar', 'confident', 'media', 'elissa', 'sunny', 'nightly', 'lewisville', 'mystery', 'drunks', 'patxi', 'zanker', 'beaytiful', 'someday', 'distractions', 'await', 'karrie', 'alwas', 'televisions', 'tipsy', 'suprize', 'tues', 'takecare', 'experimental', 'dean', 'unpack', 'waffles', 'spotify', 'rubicon', 'banchie', 'insist', 'gennaro', 'swamped', 'melinda', 'opryland', 'condo', 'guiseppe', 'mustard', 'ski', 'maui', 'baccon', 'fly', 'rey', 'cattleman', 'madeline', 'locked', 'gerhard', 'museam', 'tricky', 'colonial', 'whisky', 'marietta', 'vallet', 'candle', 'heartburn', 'motcha', 'sushibar', 'carb', 'peninsula', 'jolting', 'neutral', 'volare', 'symphony', 'operating', 'fargo', 'afterward', 'patina', 'although', 'cashier', 'cranbera', 'adress', 'stronger', 'canal', 'foode', 'fam', 'nordic', 'speedometer', 'mchenry', 'touched', 'suddenly', 'engage', 'colleague', 'holly', 'relaxed', 'pikes', 'mikes', 'tha', 'tht', 'phialdelphia', 'guide', 'approximately', 'unbearable', 'woodbridge', 'newton', 'tapping', 'negotiable', 'tenth', 'squeeling', 'sat', 'ketchup', 'capsicum', 'veinte', 'jonestown', 'irving', 'erin', 'ar', 'ticketed', 'eagle', 'tempting', 'cv', 'previews', 'balsamic', 'cozier', 'married', 'thor', 'cart', 'cicero', 'holding', 'minivan', 'unreasonable', 'gaithersburg', 'hagley', 'shela', 'paradise', 'taurus', 'powers', 'nashua', 'chunkys', 'osaka', 'connie', 'alexander', 'bruschetta', 'rotten', 'management', 'automechanic', 'rhine', 'township', 'realign', 'cap', 'effect', 'reg', 'british', 'alternative', 'hardly', 'estimator', 'grandmother', 'northwest', 'knowledgeable', 'utah', 'farther', 'sorellina', 'starke', 'preorder', 'mariposa', 'wyoming', 'causing', 'imagination', 'advise', 'westin', 'jumping', 'landmarks', 'squared', 'leigh', 'archlight', 'providing', 'tops', 'runner', 'medication', 'benihana', 'bu', 'turbo', 'elder', 'linguica', 'spago', 'barn', 'drivable', 'mentioning', 'rondley', 'supply', 'bravo', 'resolve', 'flamingo', 'scratching', 'chocolaty', 'kswiss', 'narcotics', 'sisters', 'farmer', 'pequod', 'racho', 'foreign', 'vallarta', 'puerto', 'graham', 'aspect', 'doubletree', 'rodeo', 'substituted', 'enticing', 'pitz', 'gimme', 'molly', 'ronald', 'boxes', 'ut', 'packing', 'prefers', 'hearty', 'rained', 'rick', 'science', 'colosseum', 'fairfax', 'sasauge', 'fore', 'seaworld', 'chuckles', 'commercial', 'surrounding', 'turmeric', 'citizen', 'vary', 'tu', 'rita', 'positive', 'mateo', 'pace', 'augusta', 'monitor', 'ethiopian', 'weaver', 'verde', 'starring', 'bros', 'carmax', 'delaware', 'montague', 'ba', 'postpone', 'canopy', 'ronnie', 'stutter', 'shape', 'accel', 'encino', 'audi', 'ay', 'suite', 'mocka', 'esther', 'busiest', 'failed', 'interrupting', 'rabe', 'greens', 'holidays', 'pinneapple', 'click', 'backfiring', 'beg', 'uchi', 'marginal', 'sauage', 'incredibly', 'prob', 'listing', 'yogurt', 'caffeinated', 'anchor', 'farmers', 'chilli', 'peele', 'frapps', 'avaialble', 'sutphin', 'jerk', 'sunrise', 'anybody', 'harm', 'russell', 'franks', 'egyptian', 'olympia', 'default', 'clank', 'grub', 'overly', 'rail', 'travelling', 'cows', 'begin', 'puke', 'rpm', 'koko', 'chiken', 'naah', 'bremerton', 'apointment', 'dream', 'commissary', 'striking', 'advice', 'cedars', 'hillcrest', 'incredible', 'methods', 'esthers', 'soscol', 'midrange', 'aab', 'decatur', 'hearthfire', 'salena', 'realized', 'flemings', 'palo', 'southpark', 'act', 'fe', 'ollie', 'stan', 'dance', 'arasap', 'sundays', 'camera', 'shuddering', 'parlor', 'martha', 'frappecino', 'elbow', 'calorie', 'applebees', 'teppan', 'razorback', 'forks', 'heather', 'sweetner', 'witch', 'avalon', 'mistro', 'hazlenut', 'ashland', 'joel', 'shellfish', 'incase', 'ballard', 'beep', 'path', 'artusi', 'wards', 'danny', 'nobles', 'es', 'cru', 'noir', 'promo', 'eventually', 'mistakes', 'msp', 'landshark', 'warner', 'lexus', 'soccer', 'outlaw', 'kansas', 'soup', 'england', 'exteme', 'lne', 'countryside', 'forgo', 'beans', 'jambalaya', 'rosedale', 'malfunctioning', 'pats', 'report', 'alicia', 'bass', 'bun', 'fuel', 'darcy', 'kalamata', 'cadillac', 'somethings', 'rusty', 'rico', 'transfer', 'accepts', 'ways', 'hula', 'encounter', 'pizzerias', 'ribeye', 'backwards', 'mke', 'aha', 'uci', 'aloha', 'brooks', 'garth', 'vic', 'ucf', 'lead', 'superb', 'johnston', 'ubering', 'yale', 'kick', 'antonios', 'fond', 'larosa', 'rules', 'basketball', 'fattening', 'refresh', 'tuscon', 'imola', 'redeem', 'saving', 'felecia', 'bull', 'wauwatosa', 'athletic', 'desperately', 'rave', 'wax', 'easter', 'beacon', 'magianos', 'renaissance', 'employee', 'prairie', 'mississippi', 'capuccino', 'angus', 'martial', 'sugarhouse', 'versa', 'spoken', 'dollar', 'wuld', 'diverse', 'moo', 'steel', 'appearance', 'fiance', 'asain', 'corns', 'taht', 'ncg', 'decorate', 'inheritance', 'automatic', 'revving', 'engaging', 'hawiaan', 'yoga', 'shakewell', 'undertand', 'convenience', 'volkswagen', 'cops', 'mistake', 'urth', 'gvsu', 'splashes', 'brookfield', 'thursdays', 'golf', 'snow', 'fucking', 'chances', 'peddler', 'highschool', 'naw', 'cypress', 'doctor', 'peace', 'seatings', 'watery', 'vision', 'wrecked', 'nowadays', 'solid', 'sweetgrass', 'strawberry', 'hitting', 'eastman', 'preferrable', 'prepared', 'wentzville', 'junky', 'jcp', 'trailer', 'chocolates', 'performing', 'liquor', 'roca', 'entry', 'northgate', 'giulia', 'modify', 'penneys', 'karl', 'hissing', 'afterbake', 'butchers', 'crafted', 'aboutthe', 'sumter', 'sonny', 'lobo', 'rockville', 'seaside', 'porch', 'balancing', 'farewell', 'carter', 'conroe', 'wraps', 'plently', 'brands', 'patient', 'gregory', 'tequila', 'chooses', 'specialties', 'worker', 'intend', 'complicated', 'occasionally', 'altogether', 'randall', 'mueller', 'hebron', 'statue', 'texts', 'sammy', 'raptis', 'saturdays', 'croissants', 'lunchtime', 'marriot', 'whipp', 'broke', 'played', 'carlton', 'phillips', 'ritz', 'robin', 'wallingford', 'sahara', 'garlics', 'sum', 'ruin', 'cascade', 'chugged', 'zone', 'koto', 'female', 'madam', 'vehicles', 'tests', 'understood', 'franciscan', 'prior', 'raton', 'fondue', 'evan', 'below', 'filet', 'legacy', 'fresca', 'joyce', 'breakthrough', 'hnl', 'roosevelt', 'disappointment', 'rise', 'lisle', 'grape', 'walked', 'codes', 'entails', 'title', 'disturb', 'arent', 'cosaro', 'hawiian', 'amazon', 'military', 'katherine', 'clarify', 'moody', 'vouchers', 'calabria', 'federici', 'cho', 'personalize', 'petty', 'panera', 'pakistani', 'poor', 'hometown', 'jay', 'hesitating', 'th', 'somehting', 'btw', 'cheescake', 'snowman', 'soymilk', 'focused', 'shutting', 'unlucky', 'beppo', 'giovannis', 'rootbeer', 'ventii', 'adoption', 'shelter', 'greenwood', 'katz', 'cosmos', 'mignon', 'tour', 'entertain', 'cucumber', 'restroom', 'parkland', 'hamburg', 'br', 'wendy', 'motel', 'summary', 'confirming', 'mochas', 'pikachu', 'detective', 'venture', 'recipe', 'asks', 'versus', 'lakeshore', 'radisson', 'blu', 'rosemary', 'donatos', 'mariachi', 'fratelli', 'tomorow', 'babies', 'brownies', 'drunken', 'abraham', 'particularly', 'margaritas', 'midland', 'carnalicious', 'odf', 'loaners', 'fuse', 'angels', 'supercenter', 'moreland', 'paterson', 'suitable', 'carino', 'citizens', 'blind', 'waffle', 'holsworthy', 'foamy', 'fredericksburg', 'counting', 'cramped', 'amounts', 'se', 'pontiac', 'delightful', 'overcook', 'locally', 'aligned', 'retauranuts', 'louise', 'brasa', 'valle', 'carnivores', 'beyond', 'orchard', 'evanston', 'chipotle', 'frapachino', 'tapas', 'forth', 'replacement', 'spectacular', 'banks', 'cappy', 'jenner', 'sweetwater', 'mjs', 'stanley', 'javier', 'roundtable', 'furthest', 'grandrapids', 'ons', 'nails', 'unacceptable', 'coronado', 'billy', 'ward', 'promotions', 'nachos', 'risks', 'oils', 'palmer', 'dusty', 'meyers', 'clermont', 'maggianos', 'ethinac', 'doughy', 'vibes', 'pedro', 'topper', 'bourbon', 'lowell', 'basin', 'waking', 'sur', 'durango', 'anchovy', 'seventh', 'nicholasville', 'brandymore', 'benji', 'roswell', 'revs', 'cascara', 'disaster', 'candace', 'pour', 'bonanza', 'dungeon', 'treating', 'mn', 'alpine', 'jerking', 'appropriate', 'calzones', 'availabe', 'popcorns', 'tends', 'gentlemen', 'abruptly', 'popovers', 'bulb', 'maricela', 'unlimited', 'australia', 'members', 'gail', 'definetely', 'pomo', 'weston', 'hfc', 'carpooling', 'shark', 'seeking', 'dragonfruit', 'zelos', 'refresher', 'spaces', 'mohawk', 'tasks', 'errand', 'mgm', 'tremendous', 'damaged', 'quart', 'tempe', 'bells', 'brief', 'bed', 'identification', 'clay', 'ribbon', 'macaroni', 'valpo', 'scenery', 'joseph', 'okie', 'dokie', 'grown', 'albums', 'disabled', 'sunroof', 'sells', 'awfully', 'oddly', 'scheduler', 'potatoes', 'explain', 'vons', 'summarize', 'kennessaw', 'patterson', 'abs', 'hanks', 'blows', 'childhood', 'mexicana', 'lookout', 'painted', 'juices', 'signature', 'crowds', 'loss', 'martina', 'paso', 'eddie', 'nuggets', 'wick', 'sandler', 'screenshot', 'anythiing', 'ther', 'dropoff', 'almondmilk', 'valentino', 'youngest', 'asiago', 'sirloin', 'lg', 'bucca', 'yardhouse', 'betty', 'mocca', 'bjs', 'automobile', 'rearrange', 'northwestern', 'dca', 'izzy', 'conversations', 'chains', 'police', 'forgotten', 'bachelor', 'diligence', 'courthouse', 'acts', 'dulce', 'parliament', 'dent', 'rentals', 'unusual', 'glasses', 'advisor', 'ear', 'expenses', 'macchiati', 'alter', 'debt', 'cin', 'polis', 'wel', 'carbone', 'paranoid', 'wichita', 'delayed', 'kemp', 'doubleshot', 'weren', 'spectrum', 'recliners', 'warren', 'andrea', 'clovis', 'upset', 'monte', 'stat', 'ranked', 'persons', 'blossom', 'caught', 'switched', 'thaks', 'stacey', 'peddle', 'pharmacy', 'firestone', 'dong', 'impala', 'groups', 'lay', 'bleecker', 'cali', 'appear', 'fridge', 'suggested', 'thy', 'length', 'longhorn', 'oasis', 'artificial', 'reconfirm', 'ranges', 'donato', 'splendas', 'spartanburg', 'iron', 'camden', 'cava', 'carrabba', 'among', 'january', 'sheesh', 'crusted', 'macarthur', 'requires', 'evansville', 'hindershot', 'benefits', 'ambience', 'eastwood', 'alan', 'gorgeous', 'mountains', 'eatery', 'themed', 'spending', 'forester', 'adjustment', 'instant', 'immediatly', 'ellum', 'ended', 'resturants', 'allegro', 'recognize', 'coca', 'thnak', 'buttons', 'functioning', 'embarrassed', 'dose', 'ultrascreen', 'brian', 'krogers', 'brookline', 'craig', 'catered', 'seasons', 'policy', 'maplewood', 'ferraros', 'critical', 'death', 'goo', 'rogers', 'xo', 'spiced', 'pieology', 'cowfish', 'geddaboutit', 'prepaid', 'mumbai', 'portofino', 'gateway', 'careful', 'montogomery', 'pinhook', 'jolly', 'bellevue', 'format', 'suck', 'arkansas', 'sherman', 'scan', 'beside', 'rc', 'clearwater', 'mco', 'placentia', 'buren', 'loomis', 'rocky', 'electronic', 'sade', 'accomodation', 'confusion', 'pen', 'missoula', 'rising', 'compact', 'gigante', 'leon', 'cobb', 'priority', 'giftcard', 'depot', 'millersburg', 'connect', 'packs', 'happys', 'cutler', 'marquee', 'definitily', 'revolution', 'noticeably', 'bonita', 'misaligned', 'girlfriends', 'martin', 'vegeterian', 'regina', 'ehh', 'academy', 'margaritaville', 'mineiro', 'palms', 'ye', 'coat', 'playtime', 'padres', 'monaco', 'robot', 'kickingbird', 'straights', 'typically', 'throwing', 'fiserv', 'hendersonville', 'moses', 'aviable', 'teeter', 'sensor', 'stairs', 'registered', 'wilkesboro', 'ooof', 'elephant', 'haberdish', 'les', 'giordanos', 'delivering', 'pepperonni', 'vacaville', 'silly', 'rosa', 'ki', 'inspect', 'sucked', 'sementary', 'payments', 'ukiah', 'warranty', 'bakes', 'sixteen', 'paypal', 'intermittently', 'joke', 'harvey', 'hockey', 'tiny', 'woodhaven', 'gotham', 'prive', 'snag', 'remembering', 'cc', 'multiple', 'alchohol', 'friscos', 'parkview', 'tray', 'riverview', 'moore', 'pembrooke', 'useless', 'dammit', 'pavilion', 'paragon', 'lele', 'enjoying', 'wasted', 'kissimmee', 'buttered', 'bellingham', 'serenity', 'rats', 'actress', 'ideally', 'jimmy', 'shorter', 'backroom', 'cleaning', 'annapolis', 'nando', 'autozone', 'latina', 'accepted', 'dads', 'relaxing', 'greater', 'showed', 'mornings', 'sunroom', 'beyonce', 'ia', 'hounddog', 'lighter', 'nutmeg', 'westchester', 'arranged', 'missed', 'oishii', 'sardines', 'blinking', 'phuket', 'harris', 'scones', 'metreon', 'edge', 'success', 'ge', 'northern', 'robinson', 'crumbled', 'fil', 'jiffy', 'astor', 'cemetary', 'cruze', 'lube', 'medical', 'seperatly', 'biscuit', 'suitcase', 'daniels', 'ginos', 'bergen', 'northside', 'perks', 'tri', 'pothole', 'warnings', 'restaurent', 'claim', 'pinapples', 'hundred', 'executive', 'breathe', 'pal', 'dodger', 'bomb', 'fame', 'jill', 'coppola', 'blinks', 'madera', 'cinepolis', 'spouse', 'thinks', 'shrek', 'ahold', 'decision', 'ounces', 'visited', 'lauren', 'interview', 'substitutes', 'wilmot', 'boil', 'cha', 'norman', 'mac', 'coworker', 'sean', 'tommorow', 'snoqualmie', 'restaruant', 'brett', 'brendan', 'woodbury', 'overtime', 'identify', 'jedi', 'saves', 'nawab', 'ou', 'bryan', 'moccha', 'contacts', 'chummy', 'sparta', 'glendora', 'apples', 'chap', 'chocolatey', 'avail', 'sino', 'toast', 'tou', 'seniors', 'saddle', 'phryme', 'lawrence', 'trailers', 'ovalini', 'reminds', 'figuring', 'hobbit', 'posto', 'monkey', 'social', 'vietnamese', 'effort', 'mandy', 'direction', 'wouldnt', 'sake', 'crushed', 'suffice', 'restarant', 'cuts', 'ramsey', 'warmed', 'gordon', 'elmwood', 'champagne', 'matthews', 'ins', 'patty', 'cow', 'sfmoma', 'scots', 'slam', 'northtown', 'xtra', 'occurs', 'instructions', 'standby', 'altima', 'brass', 'gale', 'tuna', 'ash', 'lucy', 'ias', 'awaiting', 'everywhere', 'acutally', 'thousand', 'advantage', 'cassidy', 'oclock', 'rumbling', 'dire', 'walt', 'wished', 'q', 'spelled', 'hazard', 'staples', 'jenn', 'stripsteak', 'mario', 'aid', 'snap', 'duration', 'bombay', 'discussed', 'bailey', 'reata', 'standards', 'greenbook', 'pools', 'mason', 'periodically', 'tacky', 'emma', 'cop', 'nix', 'largo', 'latter', 'hawain', 'suspect', 'driveable', 'menton', 'gerard', 'cider', 'apartments', 'duece', 'shaky', 'fantasy', 'actors', 'zero', 'moca', 'obscure', 'gorgonzola', 'angelo', 'fajitas', 'infinity', 'furious', 'theirs', 'grinders', 'pressed', 'cocina', 'brunos', 'hillsboro', 'kathleen', 'smells', 'dennis', 'hawaian', 'astoria', 'screwed', 'cenima', 'jonathans', 'rivergate', 'angela', 'absolute', 'progressively', 'storm', 'burke', 'arlington', 'prix', 'streak', 'chuy', 'locking', 'pratt', 'trump', 'physical', 'hakkasan', 'topof', 'swirls', 'tinley', 'sna', 'sweetie', 'roaring', 'weirdest', 'wing', 'flint', 'mimi', 'milpitas', 'calabrese', 'otto', 'agenda', 'vineland', 'pair', 'branch', 'railing', 'spoil', 'london', 'misses', 'checkup', 'rutgers', 'deliever', 'wku', 'bragg', 'chill', 'anti', 'frog', 'relevant', 'actor', 'antico', 'keeping', 'substitutions', 'fullerton', 'lightly', 'observatory', 'griffith', 'fields', 'sleeve', 'surprising', 'phonebook', 'thibk', 'frozen', 'wimberly', 'severe', 'hybrid', 'soldotna', 'albert', 'alfrado', 'antiqua', 'cashew', 'centre', 'razzi', 'corners', 'levee', 'shazaam', 'calabasas', 'orono', 'barns', 'ohhh', 'morimoto', 'logical', 'vienna', 'owch', 'facing', 'fits', 'cooperate', 'planet', 'moon', 'holder', 'bishop', 'ella', 'leisurely', 'rdu', 'reusable', 'enter', 'travelodge', 'willow', 'iowa', 'accomodate', 'luminarias', 'zelo', 'stocked', 'nearer', 'chefs', 'reading', 'pecan', 'skyline', 'frappacinno', 'resolution', 'didnt', 'berkley', 'addresses', 'intern', 'ally', 'adjust', 'mechanical', 'approaching', 'belotti', 'hubby', 'maxwells', 'julia', 'supremo', 'inviting', 'wierd', 'homie', 'hoover', 'puppies', 'elmo', 'int', 'hush', 'stake', 'moda', 'sycamore', 'inverness', 'possibilities', 'amberjack', 'earn', 'taproom', 'grits', 'minty', 'ot', 'tomorrows', 'jorge', 'sandwiches', 'nash', 'ain', 'boka', 'scranton', 'sofia', 'gabriella', 'restrictions', 'denali', 'stewart', 'tiramisu', 'flagstaff', 'sprouts', 'wifi', 'dramas', 'areas', 'ambrabev', 'boone', 'buildings', 'shown', 'nick', 'finishes', 'burnt', 'jurassic', 'paradiso', 'bernadin', 'pit', 'twist', 'concessions', 'smoothie', 'mailbox', 'amo', 'jasper', 'completed', 'prius', 'donates', 'von', 'potluck', 'value', 'centerton', 'farmville', 'freedom', 'winchester', 'temecula', 'doris', 'embassy', 'emporium', 'swan', 'pound', 'ox', 'winning', 'entire', 'safely', 'licence', 'sorento', 'crawford', 'courtyard', 'bensalem', 'cpk', 'wolf', 'hampshire', 'overland', 'bone', 'scion', 'webster', 'monterey', 'encore', 'hyundai', 'pepperonie', 'towncenter', 'parmigiano', 'specality', 'salty', 'entree', 'briefing', 'regularly', 'malco', 'approx', 'magnifico', 'beats', 'lyfts', 'spam', 'necessarily', 'banging', 'tomotoes', 'freaking', 'series', 'wells', 'laugh', 'argentinian', 'ourselves', 'andrews', 'bricco', 'blinker', 'mandatory', 'eleven', 'previous', 'kiosk', 'cliff', 'cosmopolitan', 'cantina', 'knock', 'med', 'died', 'sex', 'collect', 'repeatedly', 'dick', 'juliet', 'winner', 'terms', 'jess', 'workplace', 'eyes', 'vendor', 'zucchini', 'flush', 'dorado', 'phew', 'intelligence', 'lettuce', 'ooo', 'refreshments', 'concession', 'broly', 'breaking', 'chalmers', 'musicians', 'sheila', 'amarillo', 'become', 'extramostbestest', 'unsweetened', 'warmer', 'soggy', 'uno', 'protein', 'nose', 'athens', 'whining', 'bent', 'missouri', 'sharie', 'watering', 'westlake', 'magnolia', 'leroy', 'authority', 'locate', 'duck', 'italy', 'trenton', 'bake', 'paducah', 'stk', 'turf', 'talked', 'extensive', 'cheval', 'shotgun', 'professional', 'basis', 'united', 'chilly', 'attached', 'z', 'gross', 'idle', 'simply', 'sons', 'reschedule', 'princeton', 'tyler', 'paris', 'sophie', 'industry', 'icon', 'showplace', 'eats', 'canyon', 'decelerate', 'imports', 'bricktown', 'explore', 'gmail', 'ne', 'program', 'allowed', 'rasika', 'albany', 'katy', 'roughly', 'loaded', 'tgi', 'memory', 'truluck', 'ewallet', 'buddies', 'complex', 'evap', 'interior', 'bits', 'prepay', 'exquisite', 'susie', 'lasalle', 'irish', 'passion', 'monster', 'burrito', 'boring', 'animated', 'forgetting', 'kimpton', 'stream', 'ronnies', 'documentary', 'roses', 'jerks', 'restuarants', 'resteraunt', 'ron', 'fetch', 'hirshhorn', 'kwok', 'suns', 'oceanside', 'wav', 'pickled', 'hero', 'byob', 'costa', 'neck', 'baptist', 'draw', 'division', 'grant', 'tanner', 'bronx', 'buddakan', 'delay', 'bumblebee', 'splitting', 'longview', 'shogun', 'neopolitan', 'parker', 'solve', 'cabin', 'extras', 'fuego', 'tiki', 'zachary', 'pls', 'bookstore', 'cappuchino', 'theme', 'hole', 'whipping', 'sec', 'jaime', 'holy', 'superhero', 'calzone', 'stores', 'contacted', 'tag', 'uhm', 'selections', 'ricky', 'pronto', 'national', 'nsu', 'pint', 'hmmmm', 'phipps', 'impression', 'recall', 'sherri', 'substitution', 'bloomfield', 'carwash', 'marea', 'sugary', 'icing', 'cauliflower', 'lb', 'stated', 'bout', 'hadn', 'pickups', 'timbers', 'rider', 'maryland', 'crisp', 'oakwood', 'wil', 'briefcase', 'match', 'etc', 'coordinating', 'age', 'supersized', 'idles', 'venue', 'covington', 'christine', 'griffon', 'lewiston', 'peak', 'screech', 'nypd', 'calm', 'vine', 'accelerating', 'jiro', 'hire', 'brazil', 'arcade', 'xxl', 'wiper', 'frisco', 'whipcream', 'awards', 'waikiki', 'estimation', 'insurance', 'carving', 'blowing', 'southlake', 'login', 'stuffy', 'unable', 'vanderbilt', 'adding', 'suitcases', 'bernardin', 'maam', 'admission', 'closes', 'rip', 'danko', 'filter', 'andy', 'belle', 'brings', 'asheville', 'groceries', 'westside', 'receipts', 'pocket', 'peanuts', 'blacks', 'nearly', 'guarantee', 'grateful', 'dragging', 'football', 'sneak', 'ages', 'delta', 'giorgio', 'clarion', 'silverspot', 'firm', 'drug', 'shuts', 'rob', 'diagnosis', 'easton', 'ri', 'piazza', 'updates', 'safety', 'flexible', 'imanas', 'alameda', 'pickle', 'shavings', 'freeze', 'mozzerella', 'fairview', 'luxe', 'zesty', 'trio', 'cancelled', 'scenario', 'uphill', 'allentown', 'w', 'wi', 'tv', 'whew', 'shortest', 'relay', 'economic', 'adventure', 'peking', 'fixe', 'forum', 'seeds', 'wal', 'yummy', 'loaf', 'wheeling', 'duo', 'moderately', 'donuts', 'richland', 'subtotal', 'pho', 'bonus', 'teaspoon', 'allright', 'graduation', 'mule', 'ted', 'shirt', 'follow', 'barely', 'loop', 'harder', 'originally', 'fixing', 'cruise', 'brewing', 'crank', 'comparable', 'regional', 'gotcha', 'brea', 'clam', 'lava', 'plano', 'mainly', 'china', 'balanced', 'pullman', 'fritz', 'redondo', 'ivy', 'jot', 'beat', 'moma', 'walton', 'smooth', 'criteria', 'quit', 'fourth', 'lakeline', 'session', 'membership', 'clue', 'stomach', 'drawer', 'machine', 'imagine', 'balance', 'selling', 'pinapple', 'juniper', 'earth', 'scott', 'grotto', 'sedan', 'chunky', 'nh', 'worcester', 'faneuil', 'opened', 'invited', 'shifting', 'sc', 'marie', 'handy', 'mlk', 'cherokee', 'ceasar', 'cobalt', 'awake', 'lynn', 'diners', 'rideshare', 'rebel', 'sing', 'horn', 'outrageous', 'biggie', 'hanging', 'marks', 'chevrolet', 'mustang', 'exclusive', 'shattuck', 'silas', 'tries', 'condition', 'cooling', 'kennedy', 'rains', 'keto', 'april', 'montgomery', 'ate', 'overheat', 'empty', 'helps', 'stellina', 'mooresville', 'kept', 'fancier', 'tech', 'handled', 'arranging', 'diamond', 'michelin', 'lasagna', 'studios', 'maps', 'opens', 'loose', 'layer', 'clothes', 'stephanie', 'snowstorm', 'steph', 'arc', 'shocks', 'peoria', 'shoes', 'johnathon', 'shelley', 'farmhouse', 'dried', 'tool', 'traction', 'feast', 'ladies', 'marshall', 'deco', 'et', 'pipe', 'olympic', 'listening', 'theather', 'lodge', 'useful', 'calls', 'mayfair', 'worn', 'cranberra', 'bridge', 'concern', 'uptown', 'vice', 'sanford', 'selby', 'walker', 'juice', 'blaine', 'crossroads', 'minced', 'fist', 'rushing', 'thrilled', 'restauraunt', 'sakia', 'levi', 'ziti', 'ending', 'bumps', 'sleep', 'buck', 'remaining', 'alto', 'installed', 'bud', 'depending', 'impressive', 'women', 'joy', 'forest', 'honest', 'bird', 'corkage', 'anticipate', 'bangkok', 'cemetery', 'scrap', 'tied', 'spinich', 'ceasars', 'shiloh', 'omit', 'relatively', 'pearlridge', 'thriller', 'emerald', 'giant', 'chosen', 'botanical', 'vibe', 'baristas', 'youre', 'southgate', 'steer', 'camino', 'recieved', 'clerk', 'nap', 'backup', 'appoinment', 'silverware', 'ruby', 'sales', 'lookup', 'ship', 'owned', 'belmont', 'vito', 'jumped', 'smokehouse', 'farm', 'stored', 'proof', 'toddler', 'becomes', 'brittany', 'cary', 'rosati', 'overdue', 'lori', 'pig', 'donut', 'drops', 'highland', 'alliance', 'highchairs', 'nicest', 'chesapeake', 'axle', 'leftover', 'brush', 'steven', 'equal', 'boca', 'bakersfield', 'hacienda', 'janet', 'majestic', 'albuquerque', 'tasting', 'requirements', 'georgetti', 'financial', 'met', 'land', 'jazz', 'brick', 'asparagus', 'heater', 'shelly', 'bobs', 'cinerama', 'handicap', 'norwalk', 'word', 'pd', 'gym', 'flakes', 'gene', 'bang', 'ventura', 'popping', 'practice', 'refuse', 'burbank', 'firebirds', 'sleepy', 'wreck', 'patience', 'yours', 'slipping', 'lasts', 'lattee', 'restaraunt', 'delicatessen', 'legs', 'suburbs', 'sidney', 'extreme', 'valicia', 'caffee', 'squeal', 'availble', 'selected', 'rotors', 'changing', 'confused', 'meadows', 'edmonds', 'passes', 'perry', 'sonoma', 'jackie', 'assisting', 'crenshaw', 'twists', 'bee', 'ad', 'pinot', 'score', 'loudly', 'fashioned', 'culver', 'syrub', 'towncar', 'marina', 'aunt', 'warrington', 'sundried', 'marin', 'jam', 'rows', 'solo', 'documents', 'traverse', 'airplane', 'potter', 'oliver', 'ocala', 'willowbrook', 'rib', 'eater', 'sausages', 'landing', 'starters', 'giordano', 'rapsedy', 'appt', 'hwy', 'nights', 'offerings', 'captive', 'barton', 'hasn', 'willis', 'barry', 'chan', 'amargosa', 'spark', 'sudden', 'helped', 'yah', 'greensboro', 'cassano', 'sarpino', 'responsive', 'provolone', 'carmike', 'urgently', 'cal', 'opinion', 'chester', 'engagement', 'ho', 'edina', 'bus', 'macciato', 'describe', 'straws', 'william', 'subs', 'na', 'vent', 'directed', 'courtesy', 'specializes', 'biaggi', 'harrison', 'cranberry', 'wide', 'yum', 'cheers', 'inspired', 'murphys', 'lines', 'forge', 'task', 'westford', 'englewood', 'leg', 'scifi', 'creative', 'facts', 'hip', 'bj', 'breath', 'mayo', 'temp', 'loews', 'jefferson', 'boar', 'winery', 'doll', 'greatly', 'rotate', 'cupertino', 'ferry', 'season', 'object', 'beers', 'riders', 'cork', 'flew', 'dayton', 'bern', 'plugs', 'davie']\n"
          ]
        }
      ],
      "source": [
        "#extract rare words in a list\n",
        "rare_words=words_df[words_df['count']<rare_threh]['word'].tolist()\n",
        "print(rare_words)\n"
      ]
    },
    {
      "cell_type": "markdown",
      "metadata": {
        "id": "CMcUrk5nK6Mg"
      },
      "source": [
        " the technique that we will use to replace the rare tokens with in the dataset with special token known as unknown token (\"<unk>\")"
      ]
    },
    {
      "cell_type": "code",
      "execution_count": null,
      "metadata": {
        "colab": {
          "base_uri": "https://localhost:8080/"
        },
        "id": "ve_49ZzRLVfZ",
        "outputId": "579785df-e01c-489c-a63f-55960c432511"
      },
      "outputs": [
        {
          "name": "stdout",
          "output_type": "stream",
          "text": [
            "day|book|\n"
          ]
        }
      ],
      "source": [
        "##Example\n",
        "#specify rare words\n",
        "r_words=[\"day\",\"book\"]\n",
        "#build pattern\n",
        "pattern=\"\"\n",
        "for i in r_words:\n",
        "  pattern+=\"{}|\".format(i)\n",
        "print(pattern)\n"
      ]
    },
    {
      "cell_type": "code",
      "execution_count": null,
      "metadata": {
        "colab": {
          "base_uri": "https://localhost:8080/"
        },
        "id": "jwpBjPodL7zM",
        "outputId": "de2f6b74-c93e-47ab-b496-406af004db3d"
      },
      "outputs": [
        {
          "name": "stdout",
          "output_type": "stream",
          "text": [
            "day|book\n"
          ]
        }
      ],
      "source": [
        "#removing last ele which is '|'\n",
        "pattern=pattern[:-1]\n",
        "print(pattern)"
      ]
    },
    {
      "cell_type": "code",
      "execution_count": null,
      "metadata": {
        "colab": {
          "base_uri": "https://localhost:8080/"
        },
        "id": "ZuHp1C47MEiy",
        "outputId": "17ce01c6-f259-4c14-c190-77f20b629ce0"
      },
      "outputs": [
        {
          "name": "stdout",
          "output_type": "stream",
          "text": [
            "its been a good <unk> after reading that\n",
            "<unk> in the morning\n"
          ]
        }
      ],
      "source": [
        "#replacing arre words with <unk>\n",
        "sents=[\"its been a good day after reading that\",\"book in the morning\"]\n",
        "for d in sents:\n",
        "  text=re.sub(pattern,\"<unk>\",d)\n",
        "  print(text)"
      ]
    },
    {
      "cell_type": "code",
      "execution_count": null,
      "metadata": {
        "id": "Fcfo3xSZOAmJ"
      },
      "outputs": [],
      "source": [
        "# # create a text pattern from rare words like word1|word2|word3\n",
        "# pattern=\"\"\n",
        "# for i in rare_words:\n",
        "#   pattern+=\"{}|\".format(i)\n",
        "# pattern=pattern[:-1]\n"
      ]
    },
    {
      "cell_type": "code",
      "execution_count": null,
      "metadata": {
        "colab": {
          "base_uri": "https://localhost:8080/",
          "height": 123,
          "referenced_widgets": [
            "2f9c50a4e1424525be44baf1867e2ae0",
            "64742b1b7beb4c4c85b239c3084cd8f2",
            "79c451672ba94d3eb246382c8860ccab",
            "1a284191aaa245e48c7c4f19f88c4675",
            "fe36ab74afae41feb290fc4633ebed20",
            "b3ac5b689d2a4b2dae41d2815fad5273",
            "5486a056b4704e5fa2d7fb6691d21793",
            "ea3d9e0170024a2aae4584ee09d0a5e2",
            "205acc9ccfda46b2ae8eae96af39ceca",
            "9bac8019543c481aaf488b8c0249605b",
            "4e897ef5210447aca513c41adc7e80d9"
          ]
        },
        "id": "LF4AaFzg1cEd",
        "outputId": "853bbd27-9004-462b-f772-87a42d431756"
      },
      "outputs": [
        {
          "name": "stderr",
          "output_type": "stream",
          "text": [
            "<ipython-input-17-53b3f7d844fe>:4: TqdmDeprecationWarning: This function will be removed in tqdm==5.0.0\n",
            "Please use `tqdm.notebook.tqdm` instead of `tqdm.tqdm_notebook`\n",
            "  for d in tqdm_notebook(dialogs_clean):\n"
          ]
        },
        {
          "data": {
            "application/vnd.jupyter.widget-view+json": {
              "model_id": "2f9c50a4e1424525be44baf1867e2ae0",
              "version_major": 2,
              "version_minor": 0
            },
            "text/plain": [
              "  0%|          | 0/64776 [00:00<?, ?it/s]"
            ]
          },
          "metadata": {},
          "output_type": "display_data"
        }
      ],
      "source": [
        "# #empty list\n",
        "# dialogs_clean_v2=[]\n",
        "\n",
        "# for d in tqdm_notebook(dialogs_clean):\n",
        "#   text=re.sub(pattern,\"<unk>\",d)\n",
        "#   dialogs_clean_v2.append(text)"
      ]
    },
    {
      "cell_type": "code",
      "execution_count": null,
      "metadata": {
        "colab": {
          "base_uri": "https://localhost:8080/",
          "height": 140,
          "referenced_widgets": [
            "a60a8a51281d436fa79a6a224407d586",
            "3b4278ce9466441f86b354f1941ea852",
            "e6fe49f9e7cd4e1f89567b50102d7e47",
            "dd3d342668934dbd905767835df5a96f",
            "0f1d9b0267d243bdbb4380ccb1863532",
            "ae0222229af649dea6d0f33e950bbc4e",
            "d2b92f95b6464169a13a9c0e8eec2616",
            "c620d486f91845e2b276f241548e7657",
            "02542c3504dd4f1196b564319805c6c3",
            "2defa7e946754116bc6baf4d94c9030f",
            "bb85b4f5551c49508bb66ff11e5d5898"
          ]
        },
        "id": "SoSUsbAP3gXj",
        "outputId": "4913b3a3-1976-4b12-857a-38875782614a"
      },
      "outputs": [
        {
          "name": "stderr",
          "output_type": "stream",
          "text": [
            "<ipython-input-65-ae034cc27adc>:5: TqdmDeprecationWarning: This function will be removed in tqdm==5.0.0\n",
            "Please use `tqdm.notebook.tqdm` instead of `tqdm.tqdm_notebook`\n",
            "  for d in tqdm_notebook(dialogs_clean):\n"
          ]
        },
        {
          "data": {
            "application/vnd.jupyter.widget-view+json": {
              "model_id": "a60a8a51281d436fa79a6a224407d586",
              "version_major": 2,
              "version_minor": 0
            },
            "text/plain": [
              "  0%|          | 0/64776 [00:00<?, ?it/s]"
            ]
          },
          "metadata": {},
          "output_type": "display_data"
        },
        {
          "name": "stdout",
          "output_type": "stream",
          "text": [
            "['hi  i m looking to book a table for korean <unk>', 'somewhere in southern nyc  maybe the east village ', ' we don t want to sit at the bar  but anywhere else is fine']\n"
          ]
        }
      ],
      "source": [
        "pattern = r'\\b(?:' + '|'.join(re.escape(word) for word in rare_words) + r')\\b'\n",
        "\n",
        "# Now proceed with the replacement as before\n",
        "dialogs_clean_v2 = []\n",
        "for d in tqdm_notebook(dialogs_clean):\n",
        "    text = re.sub(pattern, \"<unk>\", d)\n",
        "    dialogs_clean_v2.append(text)\n",
        "\n",
        "print(dialogs_clean_v2[:3])  # Print the first 3 elements for inspection"
      ]
    },
    {
      "cell_type": "code",
      "execution_count": null,
      "metadata": {
        "colab": {
          "base_uri": "https://localhost:8080/"
        },
        "id": "5bwbnfWFQWia",
        "outputId": "7d6b071c-ab0e-4c7e-fcea-d9b449be15a4"
      },
      "outputs": [
        {
          "data": {
            "text/plain": [
              "['does it serve traditional chinese dessert ',\n",
              " 'how much extra time to reach <unk>  ',\n",
              " 'ok lets reserve a table for dinner at <unk>',\n",
              " 'hello i need to get a car please',\n",
              " 'holiday inn chicago <unk> park <unk> <unk>  convention center drive  <unk> park  il',\n",
              " 'bowling alley  <unk> highway  <unk> park  il',\n",
              " 'what types of cars does uber have ',\n",
              " 'what s the price difference ',\n",
              " 'ok get me the cheapest please',\n",
              " 'ok then get me the next level']"
            ]
          },
          "execution_count": 67,
          "metadata": {},
          "output_type": "execute_result"
        }
      ],
      "source": [
        "dialogs_clean_v2[520:530]"
      ]
    },
    {
      "cell_type": "markdown",
      "metadata": {
        "id": "-3az439W2q2e"
      },
      "source": [
        "# 3 Data Preparation"
      ]
    },
    {
      "cell_type": "code",
      "execution_count": null,
      "metadata": {
        "id": "mhkS8Cqj2tet"
      },
      "outputs": [],
      "source": []
    },
    {
      "cell_type": "markdown",
      "metadata": {
        "id": "FEC9hNQ84Boz"
      },
      "source": [
        "3.1 prepare sequences"
      ]
    },
    {
      "cell_type": "code",
      "execution_count": null,
      "metadata": {
        "colab": {
          "base_uri": "https://localhost:8080/",
          "height": 448
        },
        "id": "MBBbe7EQ4FN6",
        "outputId": "d97368f0-1142-4856-b9d7-160164e1b93e"
      },
      "outputs": [
        {
          "data": {
            "text/plain": [
              "<Axes: >"
            ]
          },
          "execution_count": 68,
          "metadata": {},
          "output_type": "execute_result"
        },
        {
          "data": {
            "image/png": "[encoded data removed]",
            "text/plain": [
              "<Figure size 640x480 with 1 Axes>"
            ]
          },
          "metadata": {},
          "output_type": "display_data"
        }
      ],
      "source": [
        "#plot sequences length\n",
        "text_word_count=[]\n",
        "for i in dialogs_clean_v2:\n",
        "  text_word_count.append(len(i.split()))\n",
        "pd.Series(text_word_count).hist(bins=30,range=(0,30))"
      ]
    },
    {
      "cell_type": "code",
      "execution_count": null,
      "metadata": {
        "id": "IjnFNaa94zd3"
      },
      "outputs": [],
      "source": [
        "#fxn to create seq of equal len\n",
        "def create_seq(text,seq_len=5):\n",
        "  sequences=[]\n",
        "  if len(text.split())>seq_len:\n",
        "    for i in range(len(text.split())-seq_len):\n",
        "      seq=text.split()[i:i+seq_len]\n",
        "      sequences.append(\" \".join(seq))\n",
        "    return sequences\n",
        "  else:\n",
        "    return [text]"
      ]
    },
    {
      "cell_type": "code",
      "execution_count": null,
      "metadata": {
        "id": "GXQ_B_k05pcg"
      },
      "outputs": [],
      "source": [
        "# create seq of equal len\n",
        "seqs=[create_seq(i) for i in dialogs_clean_v2]"
      ]
    },
    {
      "cell_type": "code",
      "execution_count": null,
      "metadata": {
        "colab": {
          "base_uri": "https://localhost:8080/"
        },
        "id": "zQatDOqS509I",
        "outputId": "1b99b578-0e79-4311-f118-02971ce7a76b"
      },
      "outputs": [
        {
          "name": "stdout",
          "output_type": "stream",
          "text": [
            "['hi i m looking to', 'i m looking to book', 'm looking to book a', 'looking to book a table', 'to book a table for', 'book a table for korean', 'somewhere in southern nyc maybe', 'in southern nyc maybe the', 'southern nyc maybe the east', 'we don t want to']\n"
          ]
        }
      ],
      "source": [
        "print(seqs[:10])"
      ]
    },
    {
      "cell_type": "code",
      "execution_count": null,
      "metadata": {
        "id": "vSF9BMGH5-pd"
      },
      "outputs": [],
      "source": [
        "# merging in to single big list instead of list of list\n",
        "seqs=[item for sublist in seqs for item in sublist]\n",
        "# seqs=sum(seqs,[])"
      ]
    },
    {
      "cell_type": "code",
      "execution_count": null,
      "metadata": {
        "colab": {
          "base_uri": "https://localhost:8080/"
        },
        "id": "_xJjraZc6PRS",
        "outputId": "bff2bf2b-01fa-4095-f990-5b5853fd6093"
      },
      "outputs": [
        {
          "data": {
            "text/plain": [
              "['hi i m looking to',\n",
              " 'i m looking to book',\n",
              " 'm looking to book a',\n",
              " 'looking to book a table',\n",
              " 'to book a table for',\n",
              " 'book a table for korean',\n",
              " 'somewhere in southern nyc maybe',\n",
              " 'in southern nyc maybe the',\n",
              " 'southern nyc maybe the east',\n",
              " 'we don t want to',\n",
              " 'don t want to sit',\n",
              " 't want to sit at',\n",
              " 'want to sit at the',\n",
              " 'to sit at the bar',\n",
              " 'sit at the bar but']"
            ]
          },
          "execution_count": 74,
          "metadata": {},
          "output_type": "execute_result"
        }
      ],
      "source": [
        "seqs[:15]"
      ]
    },
    {
      "cell_type": "code",
      "execution_count": 106,
      "metadata": {
        "colab": {
          "base_uri": "https://localhost:8080/"
        },
        "id": "hZtZy-Lu6TzG",
        "outputId": "8f7a8a32-bdee-4849-f39e-2f106397e031"
      },
      "outputs": [
        {
          "output_type": "execute_result",
          "data": {
            "text/plain": [
              "215963"
            ]
          },
          "metadata": {},
          "execution_count": 106
        }
      ],
      "source": [
        "len(seqs)"
      ]
    },
    {
      "cell_type": "code",
      "execution_count": null,
      "metadata": {
        "id": "vTsx0bkh6aCW"
      },
      "outputs": [],
      "source": [
        "# create input and target seqs\n",
        "x=[]\n",
        "y=[]\n",
        "for i in seqs:\n",
        "  x.append(\" \".join(i.split()[:-1]))\n",
        "  y.append(\" \".join(i.split()[1:]))"
      ]
    },
    {
      "cell_type": "code",
      "execution_count": null,
      "metadata": {
        "colab": {
          "base_uri": "https://localhost:8080/"
        },
        "id": "bdGswP1E9Ff1",
        "outputId": "9c5400ed-0dce-4e99-a328-f69df5c14c01"
      },
      "outputs": [
        {
          "data": {
            "text/plain": [
              "('hi i m looking', 'i m looking to')"
            ]
          },
          "execution_count": 30,
          "metadata": {},
          "output_type": "execute_result"
        }
      ],
      "source": [
        "#to show the input and target of teh 1st sentence\n",
        "x[0],y[0]"
      ]
    },
    {
      "cell_type": "code",
      "execution_count": null,
      "metadata": {
        "colab": {
          "base_uri": "https://localhost:8080/"
        },
        "id": "WVQtwneh_knI",
        "outputId": "f7c70379-e02e-405c-e436-79c7863b1568"
      },
      "outputs": [
        {
          "data": {
            "text/plain": [
              "('you get tickets to', 'get tickets to roma')"
            ]
          },
          "execution_count": 76,
          "metadata": {},
          "output_type": "execute_result"
        }
      ],
      "source": [
        "x[5583],y[5583]"
      ]
    },
    {
      "cell_type": "markdown",
      "metadata": {
        "id": "rV_3r9vHBnnT"
      },
      "source": [
        "4.2 Create-Token Integer mappings"
      ]
    },
    {
      "cell_type": "code",
      "execution_count": null,
      "metadata": {
        "id": "nME5sCm7_ktf"
      },
      "outputs": [],
      "source": [
        "int2token={}\n",
        "cnt=1\n",
        "for w in set(\" \".join(dialogs_clean_v2).split()):\n",
        "  int2token[cnt]=w\n",
        "  cnt+=1\n",
        "token2int={t:i for i,t in int2token.items()}\n"
      ]
    },
    {
      "cell_type": "code",
      "execution_count": null,
      "metadata": {
        "colab": {
          "base_uri": "https://localhost:8080/"
        },
        "id": "HfI93Y5MEzaY",
        "outputId": "3b7ff7f1-75b2-46d8-9bb6-864af002d195"
      },
      "outputs": [
        {
          "data": {
            "text/plain": [
              "('served', 7)"
            ]
          },
          "execution_count": 79,
          "metadata": {},
          "output_type": "execute_result"
        }
      ],
      "source": [
        "int2token[7],token2int['served']"
      ]
    },
    {
      "cell_type": "code",
      "execution_count": null,
      "metadata": {
        "id": "iuPLRHI2FSWJ"
      },
      "outputs": [],
      "source": []
    },
    {
      "cell_type": "markdown",
      "metadata": {
        "id": "1e4SvutoFWMd"
      },
      "source": [
        "# 4.3 split data in to train and validation sets"
      ]
    },
    {
      "cell_type": "code",
      "execution_count": null,
      "metadata": {
        "id": "ts-uI4F1FdAW"
      },
      "outputs": [],
      "source": [
        "# imput sequences\n",
        "x_train=x[:15000]\n",
        "x_val=x[15000:]\n",
        "#target sequences\n",
        "y_train=y[:15000]\n",
        "y_val=y[15000:]\n"
      ]
    },
    {
      "cell_type": "markdown",
      "metadata": {
        "id": "V_nzfSBuG8hy"
      },
      "source": [
        "# 4.4 pad sequences"
      ]
    },
    {
      "cell_type": "code",
      "execution_count": null,
      "metadata": {
        "colab": {
          "base_uri": "https://localhost:8080/",
          "height": 448
        },
        "id": "Vt_AYVJRHAGa",
        "outputId": "4a4c8847-e469-4f2e-b775-737e94cc0a97"
      },
      "outputs": [
        {
          "data": {
            "text/plain": [
              "<Axes: >"
            ]
          },
          "execution_count": 81,
          "metadata": {},
          "output_type": "execute_result"
        },
        {
          "data": {
            "image/png": "[encoded data removed]",
            "text/plain": [
              "<Figure size 640x480 with 1 Axes>"
            ]
          },
          "metadata": {},
          "output_type": "display_data"
        }
      ],
      "source": [
        "#plot sequences length in train set\n",
        "text_word_count=[]\n",
        "for i in x_train:\n",
        "  text_word_count.append(len(i.split()))\n",
        "pd.Series(text_word_count).hist(bins=30,range=(0,30))\n"
      ]
    },
    {
      "cell_type": "code",
      "execution_count": null,
      "metadata": {
        "id": "J-p_ZthkIBZn"
      },
      "outputs": [],
      "source": [
        "#we can observe that some of them have length less than 5 so we need to pad them in both train and validation set\n",
        "max_text_len=5\n",
        "def pad_sequence(seq,n):\n",
        "  seq=seq.split()\n",
        "  if len(seq)<n:\n",
        "    pad_len=n-len(seq)\n",
        "    for i in range(pad_len):\n",
        "      seq.append(\"<pad>\")\n",
        "  return \" \".join(seq)\n",
        "#pad train seq\n",
        "x_train_padded=[pad_sequence(s,max_text_len) for s in x_train]\n",
        "y_train_padded=[pad_sequence(s,max_text_len) for s in y_train]\n",
        "#pad val seq\n",
        "x_val_padded=[pad_sequence(s,max_text_len) for s in x_val]\n",
        "y_val_padded=[pad_sequence(s,max_text_len) for s in y_val]"
      ]
    },
    {
      "cell_type": "code",
      "execution_count": null,
      "metadata": {
        "colab": {
          "base_uri": "https://localhost:8080/"
        },
        "id": "IIDu1cnCKERg",
        "outputId": "3b3ec567-2c95-4206-cd2a-ac9517cd28c0"
      },
      "outputs": [
        {
          "data": {
            "text/plain": [
              "['hi i m looking <pad>',\n",
              " 'i m looking to <pad>',\n",
              " 'm looking to book <pad>',\n",
              " 'looking to book a <pad>',\n",
              " 'to book a table <pad>',\n",
              " 'book a table for <pad>',\n",
              " 'somewhere in southern nyc <pad>',\n",
              " 'in southern nyc maybe <pad>',\n",
              " 'southern nyc maybe the <pad>',\n",
              " 'we don t want <pad>']"
            ]
          },
          "execution_count": 83,
          "metadata": {},
          "output_type": "execute_result"
        }
      ],
      "source": [
        "x_train_padded[:10]"
      ]
    },
    {
      "cell_type": "code",
      "execution_count": null,
      "metadata": {
        "colab": {
          "base_uri": "https://localhost:8080/"
        },
        "id": "AES1OsjRMeW3",
        "outputId": "d1fdf7f5-de0c-4636-ebaf-56ce46a9926a"
      },
      "outputs": [
        {
          "data": {
            "text/plain": [
              "['want to add whip <pad>',\n",
              " 'to add whip cream <pad>',\n",
              " 'add whip cream on <pad>',\n",
              " 'please place the order <pad>',\n",
              " 'no problem <pad> <pad> <pad>',\n",
              " 'that is all <pad> <pad>',\n",
              " 'd like to order <pad>',\n",
              " 'like to order a <pad>',\n",
              " 'order online and restaurant <pad>',\n",
              " 'online and restaurant and <pad>']"
            ]
          },
          "execution_count": 53,
          "metadata": {},
          "output_type": "execute_result"
        }
      ],
      "source": [
        "y_train_padded[-10:]"
      ]
    },
    {
      "cell_type": "code",
      "execution_count": null,
      "metadata": {
        "colab": {
          "base_uri": "https://localhost:8080/",
          "height": 448
        },
        "id": "iu9PuLncKOcI",
        "outputId": "bda39943-3e7f-4dc7-e8ef-4b94b3ef3a0d"
      },
      "outputs": [
        {
          "data": {
            "text/plain": [
              "<Axes: >"
            ]
          },
          "execution_count": 84,
          "metadata": {},
          "output_type": "execute_result"
        },
        {
          "data": {
            "image/png": "[encoded data removed]",
            "text/plain": [
              "<Figure size 640x480 with 1 Axes>"
            ]
          },
          "metadata": {},
          "output_type": "display_data"
        }
      ],
      "source": [
        "text_word_count=[]\n",
        "for i in x_train_padded:\n",
        "  text_word_count.append(len(i.split()))\n",
        "pd.Series(text_word_count).hist(bins=30,range=(0,30))"
      ]
    },
    {
      "cell_type": "code",
      "execution_count": null,
      "metadata": {
        "id": "RWa34yYOKTWB"
      },
      "outputs": [],
      "source": [
        "#update mapping dictionaries\n",
        "int2token[0]=\"<pad>\"\n",
        "token2int[\"<pad>\"]=0\n",
        "#set vocabulary size\n",
        "vocab_size=len(int2token)"
      ]
    },
    {
      "cell_type": "code",
      "execution_count": null,
      "metadata": {
        "id": "xeXmA99sLONG"
      },
      "outputs": [],
      "source": []
    },
    {
      "cell_type": "markdown",
      "metadata": {
        "id": "UkWEbj61LPyd"
      },
      "source": [
        "# Convert text sequence to integer sequences"
      ]
    },
    {
      "cell_type": "code",
      "execution_count": null,
      "metadata": {
        "id": "3_JdvsnGLTWw"
      },
      "outputs": [],
      "source": [
        "def get_integer_seq(seq):\n",
        "  return [token2int[w] for w in seq.split()]"
      ]
    },
    {
      "cell_type": "code",
      "execution_count": null,
      "metadata": {
        "id": "fDHaPbVeLpil"
      },
      "outputs": [],
      "source": [
        "#convert text seq to integer seq\n",
        "x_train_int=[get_integer_seq(s) for s in x_train_padded]\n",
        "y_train_int=[get_integer_seq(s) for s in y_train_padded]\n",
        "\n",
        "x_val_int=[get_integer_seq(s) for s in x_val_padded]\n",
        "y_val_int=[get_integer_seq(s) for s in y_val_padded]\n"
      ]
    },
    {
      "cell_type": "code",
      "execution_count": null,
      "metadata": {
        "colab": {
          "base_uri": "https://localhost:8080/"
        },
        "id": "y3Gq5taZMETU",
        "outputId": "5587e55f-d66b-42a1-c8b1-a4667c6d88f3"
      },
      "outputs": [
        {
          "data": {
            "text/plain": [
              "[[3282, 759, 485, 268, 0],\n",
              " [759, 485, 268, 3233, 0],\n",
              " [485, 268, 3233, 1234, 0],\n",
              " [268, 3233, 1234, 121, 0],\n",
              " [3233, 1234, 121, 131, 0],\n",
              " [1234, 121, 131, 276, 0],\n",
              " [2120, 1252, 2525, 1207, 0],\n",
              " [1252, 2525, 1207, 785, 0],\n",
              " [2525, 1207, 785, 2607, 0],\n",
              " [744, 3320, 916, 3086, 0]]"
            ]
          },
          "execution_count": 50,
          "metadata": {},
          "output_type": "execute_result"
        }
      ],
      "source": [
        "x_train_int[:10]"
      ]
    },
    {
      "cell_type": "code",
      "execution_count": null,
      "metadata": {
        "colab": {
          "base_uri": "https://localhost:8080/"
        },
        "id": "H6zSx-U_NTlW",
        "outputId": "431e7329-230c-4b8e-a160-02e7a8e1465a"
      },
      "outputs": [
        {
          "data": {
            "text/plain": [
              "[[759, 485, 268, 3233, 0],\n",
              " [485, 268, 3233, 1234, 0],\n",
              " [268, 3233, 1234, 121, 0],\n",
              " [3233, 1234, 121, 131, 0],\n",
              " [1234, 121, 131, 276, 0],\n",
              " [121, 131, 276, 2384, 0],\n",
              " [1252, 2525, 1207, 785, 0],\n",
              " [2525, 1207, 785, 2607, 0],\n",
              " [1207, 785, 2607, 45, 0],\n",
              " [3320, 916, 3086, 3233, 0]]"
            ]
          },
          "execution_count": 54,
          "metadata": {},
          "output_type": "execute_result"
        }
      ],
      "source": [
        "y_train_int[:10]"
      ]
    },
    {
      "cell_type": "code",
      "execution_count": null,
      "metadata": {
        "colab": {
          "base_uri": "https://localhost:8080/"
        },
        "id": "_dFdfs_lMP-9",
        "outputId": "a8cbf83b-0665-406d-ec34-fe2062f8bd57"
      },
      "outputs": [
        {
          "data": {
            "text/plain": [
              "((15000, 5), (15000, 5), (200963, 5), (200963, 5))"
            ]
          },
          "execution_count": 88,
          "metadata": {},
          "output_type": "execute_result"
        }
      ],
      "source": [
        "#convert these lists in to numpy arrays\n",
        "x_train_int=np.array(x_train_int)\n",
        "y_train_int=np.array(y_train_int)\n",
        "\n",
        "\n",
        "x_val_int=np.array(x_val_int)\n",
        "y_val_int=np.array(y_val_int)\n",
        "\n",
        "x_train_int.shape,y_train_int.shape,x_val_int.shape,y_val_int.shape"
      ]
    },
    {
      "cell_type": "markdown",
      "metadata": {
        "id": "yp35yR6jNmo3"
      },
      "source": [
        "# now this is ready to pass in to deep learning model-lstm"
      ]
    },
    {
      "cell_type": "markdown",
      "metadata": {
        "id": "TG1eMrHjOmuV"
      },
      "source": [
        "# 5.1 define model architecture"
      ]
    },
    {
      "cell_type": "code",
      "execution_count": null,
      "metadata": {
        "id": "EzPHGkG7NS9L"
      },
      "outputs": [],
      "source": [
        "# model will 1st take input integer sequences ,which will be passed through embedding layer\n",
        "# and the o/p dim of the o/p of embedding layer would be 200 i.e it would generate word embedings or word vectors of len 200\n",
        "\n",
        "\n",
        "#define model architecture\n",
        "\n",
        "## embedding layer:\n",
        "## input dim=vocab_size,\n",
        "## ouput dim=200\n",
        "\n",
        "## LSTM Layer:\n",
        "## input dim 200\n",
        "## hidden units = 256\n",
        "## layers = 2\n",
        "## output dim = 256\n",
        "\n",
        "## Dropout Layer\n",
        "## input dim=256\n",
        "## output dim = 256\n",
        "\n",
        "## fully connected layer\n",
        "## input dim=256\n",
        "## ouput dim=vocab_size\n",
        "\n",
        "\n",
        "###in pytorchhhh\n",
        "class WordLSTM(nn.Module):\n",
        "\n",
        "  def __init__(self, n_hidden=256, n_layers=2, drop_prob=0.3, lr=0.001): #lr-learning rate\n",
        "   super().__init__()\n",
        "   self.drop_prob=drop_prob\n",
        "   self.n_layers=n_layers\n",
        "   self.n_hidden=n_hidden\n",
        "   self.lr=lr\n",
        "\n",
        "   self.emb_layer=nn.Embedding(vocab_size,200)\n",
        "   ##define teh LSTM\n",
        "   #input data is of shape (batch size,sequence len,no.of features)...\n",
        "   #by default lstm considers 1st parameter as seq len ,howe ever the batches we pass to this model 1st dim is batch size and 2nd is seq len ,so we need batch_first=True to have batch size 1st\n",
        "   self.lstm=nn.LSTM(200,n_hidden,n_layers,dropout=drop_prob,batch_first=True)\n",
        "   ##define the dropout\n",
        "   self.dropout=nn.Dropout(drop_prob)\n",
        "   ##define the fully connected layer\n",
        "   self.fc=nn.Linear(n_hidden,vocab_size)\n",
        "\n",
        "  def forward(self,x,hidden):\n",
        "    ''' forward pass through the network\n",
        "      these inputs are x,and the hidden/cell state is hidden '''\n",
        "\n",
        "    ## embeddings and lstm_out\n",
        "    #pass i/p trough embedding layer\n",
        "    embedded=self.emb_layer(x)\n",
        "    #get o/p and new hidden state from lstm\n",
        "    lstm_out,hidden=self.lstm(embedded,hidden) #lstm_out is the tensor of hidden states from all the time steps since we are passing batches of tensors a i/p, hidden is the hidden state from last time step\n",
        "    ## pass lstm_out through dropout layer\n",
        "    out=self.dropout(lstm_out)\n",
        "    #reshape the tensor to the shape(batch-size*seq len,hidden units)\n",
        "    out=out.reshape(-1,self.n_hidden)\n",
        "    ## put out through fully connected layer\n",
        "    out=self.fc(out)\n",
        "    return out,hidden\n",
        "  def init_hidden(self,batch_size):\n",
        "    ''' initialize hiden state '''\n",
        "    #create two new tensors with sizes n_layers * batch_size * n_hidden,\n",
        "    #initialised to zero,for hidden state and cell state of LSTM\n",
        "    weight=next(self.parameters()).data\n",
        "    if(torch.cuda.is_available()):\n",
        "        hidden=(weight.new(self.n_layers,batch_size,self.n_hidden).zero_().cuda(),\n",
        "                weight.new(self.n_layers,batch_size,self.n_hidden).zero_().cuda())\n",
        "    else:\n",
        "        hidden=(weight.new(self.n_layers,batch_size,self.n_hidden).zero_(),\n",
        "                weight.new(self.n_layers,batch_size,self.n_hidden).zero_())\n",
        "    return hidden\n",
        "\n",
        "\n",
        "\n"
      ]
    },
    {
      "cell_type": "code",
      "execution_count": null,
      "metadata": {
        "colab": {
          "base_uri": "https://localhost:8080/"
        },
        "id": "YhRKGmCyl9EC",
        "outputId": "bff18ff7-4698-4da1-9b62-cb79a904d311"
      },
      "outputs": [
        {
          "name": "stdout",
          "output_type": "stream",
          "text": [
            "WordLSTM(\n",
            "  (emb_layer): Embedding(3409, 200)\n",
            "  (lstm): LSTM(200, 256, num_layers=2, batch_first=True, dropout=0.3)\n",
            "  (dropout): Dropout(p=0.3, inplace=False)\n",
            "  (fc): Linear(in_features=256, out_features=3409, bias=True)\n",
            ")\n"
          ]
        }
      ],
      "source": [
        "#define and print model\n",
        "net=WordLSTM()\n",
        "print(net)"
      ]
    },
    {
      "cell_type": "code",
      "execution_count": null,
      "metadata": {
        "id": "PV04AQTAmPpN"
      },
      "outputs": [],
      "source": [
        "#as we will be passing batches of tensors as i/p to model\n",
        "#function to generate subsequent batches\n",
        "def get_batches(arr_x,arr_y,batch_size):\n",
        "  # iterate through arrays\n",
        "  prev=0\n",
        "  for n in range(batch_size,arr_x.shape[0],batch_size):\n",
        "    #batch for i/p seq\n",
        "    x=arr_x[prev:n,:]\n",
        "    #batch for o/p seq\n",
        "    y=arr_y[prev:n,:]\n",
        "    prev=n\n",
        "    yield x,y\n",
        "\n"
      ]
    },
    {
      "cell_type": "markdown",
      "metadata": {
        "id": "t6mhvU_IxLX9"
      },
      "source": [
        "# 5.2 start training model"
      ]
    },
    {
      "cell_type": "markdown",
      "metadata": {
        "id": "pLSKkT5L9wdZ"
      },
      "source": [
        "Why tensors?\n",
        "\n",
        "GPU acceleration: PyTorch tensors can be easily moved to GPUs, which can significantly speed up the training process, especially for large datasets.\n",
        "Automatic differentiation: PyTorch uses tensors to compute gradients automatically, which is crucial for training deep learning models.\n",
        "Framework integration: Tensors are the primary data structure used in PyTorch, so using them allows for seamless integration with other parts of the framework.\n",
        "In summary, torch.from_numpy(x) and torch.from_numpy(y) convert the input and target data from NumPy arrays to PyTorch tensors for use in training a deep learning model. This conversion enables GPU acceleration, automatic differentiation, and efficient model training within the PyTorch framework.\n",
        "\n"
      ]
    },
    {
      "cell_type": "code",
      "execution_count": null,
      "metadata": {
        "id": "D9IftKUmxPCx"
      },
      "outputs": [],
      "source": [
        "def train(net,epochs=10,batch_size=32,lr=0.001,print_every=32 ):\n",
        "  #set initial loss to infinite\n",
        "  best_val_loss=float('inf')\n",
        "  #optimizer\n",
        "  opt=torch.optim.Adam(net.parameters(),lr=lr)\n",
        "  #loss function\n",
        "  criterion=nn.CrossEntropyLoss() #in pytorch the way cross entropy is defined is that it also applies softmax operations to it so we dont use softmax Act.fxn at final layer of the model architecture\n",
        "\n",
        "  #checking if GPU is available\n",
        "  if(torch.cuda.is_available()):\n",
        "    #push model to GPU\n",
        "    net.cuda()\n",
        "  counter=0\n",
        "  #set model to train mode\n",
        "  net.train()\n",
        "\n",
        "  for e in range(epochs):\n",
        "    #iterate over batches\n",
        "    for x,y in get_batches(x_train_int,y_train_int,batch_size):\n",
        "      counter+=1\n",
        "\n",
        "      #convert arrays to tensors\n",
        "      inputs,targets=torch.from_numpy(x),torch.from_numpy(y)\n",
        "      #push tensors to GPU\n",
        "      if(torch.cuda.is_available()):\n",
        "        inputs,targets=inputs.cuda(),targets.cuda()\n",
        "      #initialise to hidden state\n",
        "      h=net.init_hidden(batch_size)\n",
        "      #zero gradients\n",
        "      net.zero_grad()\n",
        "      #get the o/p from the model\n",
        "      output,h=net(inputs,h) # first the o/p at each timestep of all the sequences in the batch and 2nd final hidden states of all the seq in the batch\n",
        "\n",
        "      #calculate loss and perform backup\n",
        "      loss=criterion(output,targets.view(-1))\n",
        "      loss.backward()\n",
        "      opt.step()\n",
        "      if counter%print_every==0:  #for every 30 sec step all the validation batches will be passed to the model\n",
        "        #get validation loss\n",
        "        val_losses=[]\n",
        "        net.eval()\n",
        "        for x,y in get_batches(x_val_int,y_val_int,batch_size):\n",
        "          x,y=torch.from_numpy(x),torch.from_numpy(y)\n",
        "          val_h=net.init_hidden(batch_size)\n",
        "\n",
        "          inputs,targets=x,y\n",
        "          if(torch.cuda.is_available()):\n",
        "           inputs,targets=inputs.cuda(),targets.cuda()\n",
        "          output,val_h=net(inputs,val_h)\n",
        "          val_loss=criterion(output,targets.view(-1))\n",
        "          val_losses.append(val_loss.item())\n",
        "        #save the best model\n",
        "        if np.mean(val_losses)<best_val_loss:\n",
        "          best_val_loss=np.mean(val_losses)\n",
        "          torch.save(net.state_dict(),'saved_weights.pt')\n",
        "        net.train()\n",
        "        print(\"Epoch: {}/{}...\".format(e+1,epochs),\n",
        "      \"step: {}...\".format(counter),\n",
        "      \"Loss: {:.4f}...\".format(loss.item()),\n",
        "      \"ppl: {:.4f}\".format(np.exp(np.mean(val_losses))),\n",
        "      \"Val Loss: {:.4f}\".format(np.mean(val_losses)))"
      ]
    },
    {
      "cell_type": "code",
      "execution_count": 105,
      "metadata": {
        "colab": {
          "base_uri": "https://localhost:8080/"
        },
        "id": "M2YDVYkJGDxB",
        "outputId": "ab42674f-da5c-412f-a7b1-bf353c40dc49"
      },
      "outputs": [
        {
          "output_type": "stream",
          "name": "stdout",
          "text": [
            "Epoch: 1/10... step: 32... Loss: 4.5815... ppl: 102.6336 Val Loss: 4.6312\n",
            "Epoch: 1/10... step: 64... Loss: 4.4283... ppl: 85.8321 Val Loss: 4.4524\n",
            "Epoch: 1/10... step: 96... Loss: 4.4815... ppl: 76.5579 Val Loss: 4.3380\n",
            "Epoch: 1/10... step: 128... Loss: 4.5919... ppl: 68.5763 Val Loss: 4.2279\n",
            "Epoch: 1/10... step: 160... Loss: 3.6620... ppl: 62.1521 Val Loss: 4.1296\n",
            "Epoch: 1/10... step: 192... Loss: 3.7073... ppl: 57.2231 Val Loss: 4.0470\n",
            "Epoch: 1/10... step: 224... Loss: 4.1686... ppl: 52.4211 Val Loss: 3.9593\n",
            "Epoch: 2/10... step: 256... Loss: 3.5922... ppl: 50.4070 Val Loss: 3.9201\n",
            "Epoch: 2/10... step: 288... Loss: 3.6222... ppl: 46.8505 Val Loss: 3.8470\n",
            "Epoch: 2/10... step: 320... Loss: 3.6351... ppl: 44.5128 Val Loss: 3.7958\n",
            "Epoch: 2/10... step: 352... Loss: 3.1086... ppl: 42.5712 Val Loss: 3.7512\n",
            "Epoch: 2/10... step: 384... Loss: 3.4433... ppl: 40.0133 Val Loss: 3.6892\n",
            "Epoch: 2/10... step: 416... Loss: 3.3343... ppl: 38.3846 Val Loss: 3.6477\n",
            "Epoch: 2/10... step: 448... Loss: 3.6310... ppl: 37.1862 Val Loss: 3.6159\n",
            "Epoch: 3/10... step: 480... Loss: 3.3300... ppl: 36.4775 Val Loss: 3.5967\n",
            "Epoch: 3/10... step: 512... Loss: 3.4004... ppl: 35.5018 Val Loss: 3.5696\n",
            "Epoch: 3/10... step: 544... Loss: 3.3162... ppl: 34.7202 Val Loss: 3.5473\n",
            "Epoch: 3/10... step: 576... Loss: 3.4692... ppl: 34.1777 Val Loss: 3.5316\n",
            "Epoch: 3/10... step: 608... Loss: 3.3452... ppl: 33.3359 Val Loss: 3.5066\n",
            "Epoch: 3/10... step: 640... Loss: 2.6428... ppl: 32.7618 Val Loss: 3.4893\n",
            "Epoch: 3/10... step: 672... Loss: 2.9711... ppl: 32.5522 Val Loss: 3.4828\n",
            "Epoch: 4/10... step: 704... Loss: 2.7526... ppl: 31.7105 Val Loss: 3.4566\n",
            "Epoch: 4/10... step: 736... Loss: 2.9373... ppl: 31.7763 Val Loss: 3.4587\n",
            "Epoch: 4/10... step: 768... Loss: 3.2030... ppl: 30.9224 Val Loss: 3.4315\n",
            "Epoch: 4/10... step: 800... Loss: 2.8845... ppl: 31.1555 Val Loss: 3.4390\n",
            "Epoch: 4/10... step: 832... Loss: 3.6905... ppl: 30.7912 Val Loss: 3.4272\n",
            "Epoch: 4/10... step: 864... Loss: 2.6899... ppl: 30.2473 Val Loss: 3.4094\n",
            "Epoch: 4/10... step: 896... Loss: 2.9030... ppl: 30.4140 Val Loss: 3.4149\n",
            "Epoch: 4/10... step: 928... Loss: 2.7790... ppl: 30.1083 Val Loss: 3.4048\n",
            "Epoch: 5/10... step: 960... Loss: 2.8845... ppl: 30.4673 Val Loss: 3.4167\n",
            "Epoch: 5/10... step: 992... Loss: 2.7744... ppl: 29.7060 Val Loss: 3.3913\n",
            "Epoch: 5/10... step: 1024... Loss: 2.6659... ppl: 29.6348 Val Loss: 3.3889\n",
            "Epoch: 5/10... step: 1056... Loss: 2.3369... ppl: 29.6403 Val Loss: 3.3891\n",
            "Epoch: 5/10... step: 1088... Loss: 2.4956... ppl: 29.2816 Val Loss: 3.3770\n",
            "Epoch: 5/10... step: 1120... Loss: 2.8566... ppl: 29.2926 Val Loss: 3.3773\n",
            "Epoch: 5/10... step: 1152... Loss: 2.7620... ppl: 29.4533 Val Loss: 3.3828\n",
            "Epoch: 6/10... step: 1184... Loss: 2.9981... ppl: 29.5665 Val Loss: 3.3866\n",
            "Epoch: 6/10... step: 1216... Loss: 2.7440... ppl: 29.1856 Val Loss: 3.3737\n",
            "Epoch: 6/10... step: 1248... Loss: 2.8549... ppl: 29.0659 Val Loss: 3.3696\n",
            "Epoch: 6/10... step: 1280... Loss: 2.5038... ppl: 29.1044 Val Loss: 3.3709\n",
            "Epoch: 6/10... step: 1312... Loss: 2.8033... ppl: 28.9999 Val Loss: 3.3673\n",
            "Epoch: 6/10... step: 1344... Loss: 2.5411... ppl: 29.3039 Val Loss: 3.3777\n",
            "Epoch: 6/10... step: 1376... Loss: 2.0533... ppl: 29.5732 Val Loss: 3.3869\n",
            "Epoch: 7/10... step: 1408... Loss: 1.9003... ppl: 29.4635 Val Loss: 3.3832\n",
            "Epoch: 7/10... step: 1440... Loss: 2.5318... ppl: 29.5887 Val Loss: 3.3874\n",
            "Epoch: 7/10... step: 1472... Loss: 2.4900... ppl: 28.8680 Val Loss: 3.3627\n",
            "Epoch: 7/10... step: 1504... Loss: 2.4183... ppl: 29.3553 Val Loss: 3.3795\n",
            "Epoch: 7/10... step: 1536... Loss: 2.6893... ppl: 29.3210 Val Loss: 3.3783\n",
            "Epoch: 7/10... step: 1568... Loss: 2.1513... ppl: 29.3940 Val Loss: 3.3808\n",
            "Epoch: 7/10... step: 1600... Loss: 2.2785... ppl: 29.7796 Val Loss: 3.3938\n",
            "Epoch: 7/10... step: 1632... Loss: 3.0843... ppl: 29.9822 Val Loss: 3.4006\n",
            "Epoch: 8/10... step: 1664... Loss: 1.9561... ppl: 30.6254 Val Loss: 3.4218\n",
            "Epoch: 8/10... step: 1696... Loss: 2.4966... ppl: 29.5772 Val Loss: 3.3870\n",
            "Epoch: 8/10... step: 1728... Loss: 2.2816... ppl: 29.8011 Val Loss: 3.3945\n",
            "Epoch: 8/10... step: 1760... Loss: 2.1379... ppl: 30.0398 Val Loss: 3.4025\n",
            "Epoch: 8/10... step: 1792... Loss: 2.3429... ppl: 29.8558 Val Loss: 3.3964\n",
            "Epoch: 8/10... step: 1824... Loss: 2.3431... ppl: 30.4618 Val Loss: 3.4165\n",
            "Epoch: 8/10... step: 1856... Loss: 2.3711... ppl: 30.4908 Val Loss: 3.4174\n",
            "Epoch: 9/10... step: 1888... Loss: 2.4651... ppl: 31.1408 Val Loss: 3.4385\n",
            "Epoch: 9/10... step: 1920... Loss: 2.5558... ppl: 30.7235 Val Loss: 3.4250\n",
            "Epoch: 9/10... step: 1952... Loss: 2.3014... ppl: 30.3914 Val Loss: 3.4142\n",
            "Epoch: 9/10... step: 1984... Loss: 1.9208... ppl: 30.4435 Val Loss: 3.4159\n",
            "Epoch: 9/10... step: 2016... Loss: 2.0463... ppl: 30.7121 Val Loss: 3.4247\n",
            "Epoch: 9/10... step: 2048... Loss: 2.3053... ppl: 30.9133 Val Loss: 3.4312\n",
            "Epoch: 9/10... step: 2080... Loss: 2.0471... ppl: 31.5560 Val Loss: 3.4518\n",
            "Epoch: 10/10... step: 2112... Loss: 1.9109... ppl: 31.7970 Val Loss: 3.4594\n",
            "Epoch: 10/10... step: 2144... Loss: 2.0457... ppl: 31.9071 Val Loss: 3.4628\n",
            "Epoch: 10/10... step: 2176... Loss: 2.2181... ppl: 31.0986 Val Loss: 3.4372\n",
            "Epoch: 10/10... step: 2208... Loss: 2.2133... ppl: 31.6140 Val Loss: 3.4536\n",
            "Epoch: 10/10... step: 2240... Loss: 1.8444... ppl: 31.7709 Val Loss: 3.4586\n",
            "Epoch: 10/10... step: 2272... Loss: 1.8956... ppl: 31.8019 Val Loss: 3.4595\n",
            "Epoch: 10/10... step: 2304... Loss: 2.1860... ppl: 32.3059 Val Loss: 3.4753\n",
            "Epoch: 10/10... step: 2336... Loss: 2.0561... ppl: 32.5855 Val Loss: 3.4839\n"
          ]
        }
      ],
      "source": [
        "batch_size=64\n",
        "# tran the model\n",
        "train(net,batch_size=batch_size,epochs=10)"
      ]
    },
    {
      "cell_type": "markdown",
      "metadata": {
        "id": "Res9KS0bVsAQ"
      },
      "source": [
        "# 6. Text Generation"
      ]
    },
    {
      "cell_type": "code",
      "execution_count": 108,
      "metadata": {
        "id": "nVZUBihDVvrZ",
        "colab": {
          "base_uri": "https://localhost:8080/"
        },
        "outputId": "f26b706c-ccc9-4496-eef0-abf8065cb4d0"
      },
      "outputs": [
        {
          "output_type": "stream",
          "name": "stderr",
          "text": [
            "<ipython-input-108-a79878dffbd4>:3: FutureWarning: You are using `torch.load` with `weights_only=False` (the current default value), which uses the default pickle module implicitly. It is possible to construct malicious pickle data which will execute arbitrary code during unpickling (See https://github.com/pytorch/pytorch/blob/main/SECURITY.md#untrusted-models for more details). In a future release, the default value for `weights_only` will be flipped to `True`. This limits the functions that could be executed during unpickling. Arbitrary objects will no longer be allowed to be loaded via this mode unless they are explicitly allowlisted by the user via `torch.serialization.add_safe_globals`. We recommend you start setting `weights_only=True` for any use case where you don't have full control of the loaded file. Please open an issue on GitHub for any issues related to this experimental feature.\n",
            "  net.load_state_dict(torch.load(path))\n"
          ]
        },
        {
          "output_type": "execute_result",
          "data": {
            "text/plain": [
              "<All keys matched successfully>"
            ]
          },
          "metadata": {},
          "execution_count": 108
        }
      ],
      "source": [
        "# load weights of best model\n",
        "path='saved_weights.pt'\n",
        "net.load_state_dict(torch.load(path))"
      ]
    },
    {
      "cell_type": "code",
      "source": [
        " #fxn to generate one token\n",
        "def predict(net,tkn,h=None):\n",
        "  x=np.array([[token2int[tkn]]])\n",
        "  inputs=torch.from_numpy(x)\n",
        "  if(torch.cuda.is_available()):\n",
        "    inputs=inputs.cuda() #passing to GPU\n",
        "  #get o/p of the model\n",
        "  out,h=net(inputs,h)\n",
        "\n",
        "  #get the token prob\n",
        "  p=F.softmax(out,dim=1).data\n",
        "\n",
        "  if(torch.cuda.is_available()):\n",
        "    p=p.cpu()\n",
        "  p=p.numpy()\n",
        "  sampled_token_index=np.argmax(p,axis=1)[0]#heighest probability score is extracted and it is mapped to corresponding token with the help with the help of int to token mapping\n",
        "  #return encoded value of predicted char and the hidden state\n",
        "  return int2token[sampled_token_index],h"
      ],
      "metadata": {
        "id": "hbdUop4wylH4"
      },
      "execution_count": 109,
      "outputs": []
    },
    {
      "cell_type": "code",
      "source": [
        "#fxn to fetch genearted seq\n",
        "def sample(net,size=2,seed_text='it is'): #default passing seed_text as 'it is'\n",
        "  if(torch.cuda.is_available()):\n",
        "    net=net.cuda()\n",
        "  net.eval() #set model in evaluation mode-it will turn off drop out layers\n",
        "#batch size is 1 bcs there would be only one i/p seq\n",
        "  h=net.init_hidden(1) #initialise hidden state\n",
        "\n",
        "  toks=seed_text.split()\n",
        "   #predict next token\n",
        "  for t in toks:\n",
        "   token,h=predict(net,t,h)\n",
        "   toks.append(token)\n",
        "\n",
        "   #predict subsequent tokens\n",
        "   for i in range(size-1):\n",
        "    token,h=predict(net,token,h)\n",
        "    toks.append(token)\n",
        "   return ' '.join(toks)\n",
        "\n",
        "\n",
        "\n"
      ],
      "metadata": {
        "id": "orQuAmMg4XDK"
      },
      "execution_count": 115,
      "outputs": []
    },
    {
      "cell_type": "code",
      "source": [
        "#seed texts\n",
        "seeds=[\"they went\",\n",
        "       \"i want to\",\n",
        "       \"how about a cup\",\n",
        "       \"my car\",\n",
        "       \"i dont want\",\n",
        "       \"it is\",\n",
        "        \"help me\"]\n",
        "#no.of tokens to generate\n",
        "num_toks=6\n",
        "#text generation\n",
        "for s in seeds:\n",
        "  #get generated text from model\n",
        "  text_gen=sample(net,num_toks,seed_text=s)\n",
        "  #print result\n",
        "  print(\"seed text:\", s,\">> output:\",text_gen)\n",
        "  print(\"\\n\")"
      ],
      "metadata": {
        "colab": {
          "base_uri": "https://localhost:8080/"
        },
        "id": "5avO9dnP7oMg",
        "outputId": "c99c980f-b43b-4fa6-c9f4-4cdbabe5c601"
      },
      "execution_count": 126,
      "outputs": [
        {
          "output_type": "stream",
          "name": "stdout",
          "text": [
            "seed text: they went >> output: they went have a good day for me\n",
            "\n",
            "\n",
            "seed text: i want to >> output: i want to want to order a coffee from\n",
            "\n",
            "\n",
            "seed text: how about a cup >> output: how about a cup much is the uber x if\n",
            "\n",
            "\n",
            "seed text: my car >> output: my car car is starting to the office\n",
            "\n",
            "\n",
            "seed text: i dont want >> output: i dont want want to order a coffee from\n",
            "\n",
            "\n",
            "seed text: it is >> output: it is s not going to be the\n",
            "\n",
            "\n",
            "seed text: help me >> output: help me me order a coffee from starbucks\n",
            "\n",
            "\n"
          ]
        }
      ]
    }
  ],
  "metadata": {
    "accelerator": "GPU",
    "colab": {
      "gpuType": "T4",
      "provenance": []
    },
    "kernelspec": {
      "display_name": "Python 3",
      "name": "python3"
    },
    "language_info": {
      "name": "python"
    },
    "widgets": {
      "application/vnd.jupyter.widget-state+json": {
        "02542c3504dd4f1196b564319805c6c3": {
          "model_module": "@jupyter-widgets/controls",
          "model_module_version": "1.5.0",
          "model_name": "ProgressStyleModel",
          "state": {
            "_model_module": "@jupyter-widgets/controls",
            "_model_module_version": "1.5.0",
            "_model_name": "ProgressStyleModel",
            "_view_count": null,
            "_view_module": "@jupyter-widgets/base",
            "_view_module_version": "1.2.0",
            "_view_name": "StyleView",
            "bar_color": null,
            "description_width": ""
          }
        },
        "0f1d9b0267d243bdbb4380ccb1863532": {
          "model_module": "@jupyter-widgets/base",
          "model_module_version": "1.2.0",
          "model_name": "LayoutModel",
          "state": {
            "_model_module": "@jupyter-widgets/base",
            "_model_module_version": "1.2.0",
            "_model_name": "LayoutModel",
            "_view_count": null,
            "_view_module": "@jupyter-widgets/base",
            "_view_module_version": "1.2.0",
            "_view_name": "LayoutView",
            "align_content": null,
            "align_items": null,
            "align_self": null,
            "border": null,
            "bottom": null,
            "display": null,
            "flex": null,
            "flex_flow": null,
            "grid_area": null,
            "grid_auto_columns": null,
            "grid_auto_flow": null,
            "grid_auto_rows": null,
            "grid_column": null,
            "grid_gap": null,
            "grid_row": null,
            "grid_template_areas": null,
            "grid_template_columns": null,
            "grid_template_rows": null,
            "height": null,
            "justify_content": null,
            "justify_items": null,
            "left": null,
            "margin": null,
            "max_height": null,
            "max_width": null,
            "min_height": null,
            "min_width": null,
            "object_fit": null,
            "object_position": null,
            "order": null,
            "overflow": null,
            "overflow_x": null,
            "overflow_y": null,
            "padding": null,
            "right": null,
            "top": null,
            "visibility": null,
            "width": null
          }
        },
        "1a284191aaa245e48c7c4f19f88c4675": {
          "model_module": "@jupyter-widgets/controls",
          "model_module_version": "1.5.0",
          "model_name": "HTMLModel",
          "state": {
            "_dom_classes": [],
            "_model_module": "@jupyter-widgets/controls",
            "_model_module_version": "1.5.0",
            "_model_name": "HTMLModel",
            "_view_count": null,
            "_view_module": "@jupyter-widgets/controls",
            "_view_module_version": "1.5.0",
            "_view_name": "HTMLView",
            "description": "",
            "description_tooltip": null,
            "layout": "IPY_MODEL_9bac8019543c481aaf488b8c0249605b",
            "placeholder": "​",
            "style": "IPY_MODEL_4e897ef5210447aca513c41adc7e80d9",
            "value": " 64776/64776 [00:47&lt;00:00, 1429.48it/s]"
          }
        },
        "205acc9ccfda46b2ae8eae96af39ceca": {
          "model_module": "@jupyter-widgets/controls",
          "model_module_version": "1.5.0",
          "model_name": "ProgressStyleModel",
          "state": {
            "_model_module": "@jupyter-widgets/controls",
            "_model_module_version": "1.5.0",
            "_model_name": "ProgressStyleModel",
            "_view_count": null,
            "_view_module": "@jupyter-widgets/base",
            "_view_module_version": "1.2.0",
            "_view_name": "StyleView",
            "bar_color": null,
            "description_width": ""
          }
        },
        "2defa7e946754116bc6baf4d94c9030f": {
          "model_module": "@jupyter-widgets/base",
          "model_module_version": "1.2.0",
          "model_name": "LayoutModel",
          "state": {
            "_model_module": "@jupyter-widgets/base",
            "_model_module_version": "1.2.0",
            "_model_name": "LayoutModel",
            "_view_count": null,
            "_view_module": "@jupyter-widgets/base",
            "_view_module_version": "1.2.0",
            "_view_name": "LayoutView",
            "align_content": null,
            "align_items": null,
            "align_self": null,
            "border": null,
            "bottom": null,
            "display": null,
            "flex": null,
            "flex_flow": null,
            "grid_area": null,
            "grid_auto_columns": null,
            "grid_auto_flow": null,
            "grid_auto_rows": null,
            "grid_column": null,
            "grid_gap": null,
            "grid_row": null,
            "grid_template_areas": null,
            "grid_template_columns": null,
            "grid_template_rows": null,
            "height": null,
            "justify_content": null,
            "justify_items": null,
            "left": null,
            "margin": null,
            "max_height": null,
            "max_width": null,
            "min_height": null,
            "min_width": null,
            "object_fit": null,
            "object_position": null,
            "order": null,
            "overflow": null,
            "overflow_x": null,
            "overflow_y": null,
            "padding": null,
            "right": null,
            "top": null,
            "visibility": null,
            "width": null
          }
        },
        "2f9c50a4e1424525be44baf1867e2ae0": {
          "model_module": "@jupyter-widgets/controls",
          "model_module_version": "1.5.0",
          "model_name": "HBoxModel",
          "state": {
            "_dom_classes": [],
            "_model_module": "@jupyter-widgets/controls",
            "_model_module_version": "1.5.0",
            "_model_name": "HBoxModel",
            "_view_count": null,
            "_view_module": "@jupyter-widgets/controls",
            "_view_module_version": "1.5.0",
            "_view_name": "HBoxView",
            "box_style": "",
            "children": [
              "IPY_MODEL_64742b1b7beb4c4c85b239c3084cd8f2",
              "IPY_MODEL_79c451672ba94d3eb246382c8860ccab",
              "IPY_MODEL_1a284191aaa245e48c7c4f19f88c4675"
            ],
            "layout": "IPY_MODEL_fe36ab74afae41feb290fc4633ebed20"
          }
        },
        "3b4278ce9466441f86b354f1941ea852": {
          "model_module": "@jupyter-widgets/controls",
          "model_module_version": "1.5.0",
          "model_name": "HTMLModel",
          "state": {
            "_dom_classes": [],
            "_model_module": "@jupyter-widgets/controls",
            "_model_module_version": "1.5.0",
            "_model_name": "HTMLModel",
            "_view_count": null,
            "_view_module": "@jupyter-widgets/controls",
            "_view_module_version": "1.5.0",
            "_view_name": "HTMLView",
            "description": "",
            "description_tooltip": null,
            "layout": "IPY_MODEL_ae0222229af649dea6d0f33e950bbc4e",
            "placeholder": "​",
            "style": "IPY_MODEL_d2b92f95b6464169a13a9c0e8eec2616",
            "value": "100%"
          }
        },
        "4e897ef5210447aca513c41adc7e80d9": {
          "model_module": "@jupyter-widgets/controls",
          "model_module_version": "1.5.0",
          "model_name": "DescriptionStyleModel",
          "state": {
            "_model_module": "@jupyter-widgets/controls",
            "_model_module_version": "1.5.0",
            "_model_name": "DescriptionStyleModel",
            "_view_count": null,
            "_view_module": "@jupyter-widgets/base",
            "_view_module_version": "1.2.0",
            "_view_name": "StyleView",
            "description_width": ""
          }
        },
        "5486a056b4704e5fa2d7fb6691d21793": {
          "model_module": "@jupyter-widgets/controls",
          "model_module_version": "1.5.0",
          "model_name": "DescriptionStyleModel",
          "state": {
            "_model_module": "@jupyter-widgets/controls",
            "_model_module_version": "1.5.0",
            "_model_name": "DescriptionStyleModel",
            "_view_count": null,
            "_view_module": "@jupyter-widgets/base",
            "_view_module_version": "1.2.0",
            "_view_name": "StyleView",
            "description_width": ""
          }
        },
        "64742b1b7beb4c4c85b239c3084cd8f2": {
          "model_module": "@jupyter-widgets/controls",
          "model_module_version": "1.5.0",
          "model_name": "HTMLModel",
          "state": {
            "_dom_classes": [],
            "_model_module": "@jupyter-widgets/controls",
            "_model_module_version": "1.5.0",
            "_model_name": "HTMLModel",
            "_view_count": null,
            "_view_module": "@jupyter-widgets/controls",
            "_view_module_version": "1.5.0",
            "_view_name": "HTMLView",
            "description": "",
            "description_tooltip": null,
            "layout": "IPY_MODEL_b3ac5b689d2a4b2dae41d2815fad5273",
            "placeholder": "​",
            "style": "IPY_MODEL_5486a056b4704e5fa2d7fb6691d21793",
            "value": "100%"
          }
        },
        "79c451672ba94d3eb246382c8860ccab": {
          "model_module": "@jupyter-widgets/controls",
          "model_module_version": "1.5.0",
          "model_name": "FloatProgressModel",
          "state": {
            "_dom_classes": [],
            "_model_module": "@jupyter-widgets/controls",
            "_model_module_version": "1.5.0",
            "_model_name": "FloatProgressModel",
            "_view_count": null,
            "_view_module": "@jupyter-widgets/controls",
            "_view_module_version": "1.5.0",
            "_view_name": "ProgressView",
            "bar_style": "success",
            "description": "",
            "description_tooltip": null,
            "layout": "IPY_MODEL_ea3d9e0170024a2aae4584ee09d0a5e2",
            "max": 64776,
            "min": 0,
            "orientation": "horizontal",
            "style": "IPY_MODEL_205acc9ccfda46b2ae8eae96af39ceca",
            "value": 64776
          }
        },
        "9bac8019543c481aaf488b8c0249605b": {
          "model_module": "@jupyter-widgets/base",
          "model_module_version": "1.2.0",
          "model_name": "LayoutModel",
          "state": {
            "_model_module": "@jupyter-widgets/base",
            "_model_module_version": "1.2.0",
            "_model_name": "LayoutModel",
            "_view_count": null,
            "_view_module": "@jupyter-widgets/base",
            "_view_module_version": "1.2.0",
            "_view_name": "LayoutView",
            "align_content": null,
            "align_items": null,
            "align_self": null,
            "border": null,
            "bottom": null,
            "display": null,
            "flex": null,
            "flex_flow": null,
            "grid_area": null,
            "grid_auto_columns": null,
            "grid_auto_flow": null,
            "grid_auto_rows": null,
            "grid_column": null,
            "grid_gap": null,
            "grid_row": null,
            "grid_template_areas": null,
            "grid_template_columns": null,
            "grid_template_rows": null,
            "height": null,
            "justify_content": null,
            "justify_items": null,
            "left": null,
            "margin": null,
            "max_height": null,
            "max_width": null,
            "min_height": null,
            "min_width": null,
            "object_fit": null,
            "object_position": null,
            "order": null,
            "overflow": null,
            "overflow_x": null,
            "overflow_y": null,
            "padding": null,
            "right": null,
            "top": null,
            "visibility": null,
            "width": null
          }
        },
        "a60a8a51281d436fa79a6a224407d586": {
          "model_module": "@jupyter-widgets/controls",
          "model_module_version": "1.5.0",
          "model_name": "HBoxModel",
          "state": {
            "_dom_classes": [],
            "_model_module": "@jupyter-widgets/controls",
            "_model_module_version": "1.5.0",
            "_model_name": "HBoxModel",
            "_view_count": null,
            "_view_module": "@jupyter-widgets/controls",
            "_view_module_version": "1.5.0",
            "_view_name": "HBoxView",
            "box_style": "",
            "children": [
              "IPY_MODEL_3b4278ce9466441f86b354f1941ea852",
              "IPY_MODEL_e6fe49f9e7cd4e1f89567b50102d7e47",
              "IPY_MODEL_dd3d342668934dbd905767835df5a96f"
            ],
            "layout": "IPY_MODEL_0f1d9b0267d243bdbb4380ccb1863532"
          }
        },
        "ae0222229af649dea6d0f33e950bbc4e": {
          "model_module": "@jupyter-widgets/base",
          "model_module_version": "1.2.0",
          "model_name": "LayoutModel",
          "state": {
            "_model_module": "@jupyter-widgets/base",
            "_model_module_version": "1.2.0",
            "_model_name": "LayoutModel",
            "_view_count": null,
            "_view_module": "@jupyter-widgets/base",
            "_view_module_version": "1.2.0",
            "_view_name": "LayoutView",
            "align_content": null,
            "align_items": null,
            "align_self": null,
            "border": null,
            "bottom": null,
            "display": null,
            "flex": null,
            "flex_flow": null,
            "grid_area": null,
            "grid_auto_columns": null,
            "grid_auto_flow": null,
            "grid_auto_rows": null,
            "grid_column": null,
            "grid_gap": null,
            "grid_row": null,
            "grid_template_areas": null,
            "grid_template_columns": null,
            "grid_template_rows": null,
            "height": null,
            "justify_content": null,
            "justify_items": null,
            "left": null,
            "margin": null,
            "max_height": null,
            "max_width": null,
            "min_height": null,
            "min_width": null,
            "object_fit": null,
            "object_position": null,
            "order": null,
            "overflow": null,
            "overflow_x": null,
            "overflow_y": null,
            "padding": null,
            "right": null,
            "top": null,
            "visibility": null,
            "width": null
          }
        },
        "b3ac5b689d2a4b2dae41d2815fad5273": {
          "model_module": "@jupyter-widgets/base",
          "model_module_version": "1.2.0",
          "model_name": "LayoutModel",
          "state": {
            "_model_module": "@jupyter-widgets/base",
            "_model_module_version": "1.2.0",
            "_model_name": "LayoutModel",
            "_view_count": null,
            "_view_module": "@jupyter-widgets/base",
            "_view_module_version": "1.2.0",
            "_view_name": "LayoutView",
            "align_content": null,
            "align_items": null,
            "align_self": null,
            "border": null,
            "bottom": null,
            "display": null,
            "flex": null,
            "flex_flow": null,
            "grid_area": null,
            "grid_auto_columns": null,
            "grid_auto_flow": null,
            "grid_auto_rows": null,
            "grid_column": null,
            "grid_gap": null,
            "grid_row": null,
            "grid_template_areas": null,
            "grid_template_columns": null,
            "grid_template_rows": null,
            "height": null,
            "justify_content": null,
            "justify_items": null,
            "left": null,
            "margin": null,
            "max_height": null,
            "max_width": null,
            "min_height": null,
            "min_width": null,
            "object_fit": null,
            "object_position": null,
            "order": null,
            "overflow": null,
            "overflow_x": null,
            "overflow_y": null,
            "padding": null,
            "right": null,
            "top": null,
            "visibility": null,
            "width": null
          }
        },
        "bb85b4f5551c49508bb66ff11e5d5898": {
          "model_module": "@jupyter-widgets/controls",
          "model_module_version": "1.5.0",
          "model_name": "DescriptionStyleModel",
          "state": {
            "_model_module": "@jupyter-widgets/controls",
            "_model_module_version": "1.5.0",
            "_model_name": "DescriptionStyleModel",
            "_view_count": null,
            "_view_module": "@jupyter-widgets/base",
            "_view_module_version": "1.2.0",
            "_view_name": "StyleView",
            "description_width": ""
          }
        },
        "c620d486f91845e2b276f241548e7657": {
          "model_module": "@jupyter-widgets/base",
          "model_module_version": "1.2.0",
          "model_name": "LayoutModel",
          "state": {
            "_model_module": "@jupyter-widgets/base",
            "_model_module_version": "1.2.0",
            "_model_name": "LayoutModel",
            "_view_count": null,
            "_view_module": "@jupyter-widgets/base",
            "_view_module_version": "1.2.0",
            "_view_name": "LayoutView",
            "align_content": null,
            "align_items": null,
            "align_self": null,
            "border": null,
            "bottom": null,
            "display": null,
            "flex": null,
            "flex_flow": null,
            "grid_area": null,
            "grid_auto_columns": null,
            "grid_auto_flow": null,
            "grid_auto_rows": null,
            "grid_column": null,
            "grid_gap": null,
            "grid_row": null,
            "grid_template_areas": null,
            "grid_template_columns": null,
            "grid_template_rows": null,
            "height": null,
            "justify_content": null,
            "justify_items": null,
            "left": null,
            "margin": null,
            "max_height": null,
            "max_width": null,
            "min_height": null,
            "min_width": null,
            "object_fit": null,
            "object_position": null,
            "order": null,
            "overflow": null,
            "overflow_x": null,
            "overflow_y": null,
            "padding": null,
            "right": null,
            "top": null,
            "visibility": null,
            "width": null
          }
        },
        "d2b92f95b6464169a13a9c0e8eec2616": {
          "model_module": "@jupyter-widgets/controls",
          "model_module_version": "1.5.0",
          "model_name": "DescriptionStyleModel",
          "state": {
            "_model_module": "@jupyter-widgets/controls",
            "_model_module_version": "1.5.0",
            "_model_name": "DescriptionStyleModel",
            "_view_count": null,
            "_view_module": "@jupyter-widgets/base",
            "_view_module_version": "1.2.0",
            "_view_name": "StyleView",
            "description_width": ""
          }
        },
        "dd3d342668934dbd905767835df5a96f": {
          "model_module": "@jupyter-widgets/controls",
          "model_module_version": "1.5.0",
          "model_name": "HTMLModel",
          "state": {
            "_dom_classes": [],
            "_model_module": "@jupyter-widgets/controls",
            "_model_module_version": "1.5.0",
            "_model_name": "HTMLModel",
            "_view_count": null,
            "_view_module": "@jupyter-widgets/controls",
            "_view_module_version": "1.5.0",
            "_view_name": "HTMLView",
            "description": "",
            "description_tooltip": null,
            "layout": "IPY_MODEL_2defa7e946754116bc6baf4d94c9030f",
            "placeholder": "​",
            "style": "IPY_MODEL_bb85b4f5551c49508bb66ff11e5d5898",
            "value": " 64776/64776 [00:44&lt;00:00, 1291.52it/s]"
          }
        },
        "e6fe49f9e7cd4e1f89567b50102d7e47": {
          "model_module": "@jupyter-widgets/controls",
          "model_module_version": "1.5.0",
          "model_name": "FloatProgressModel",
          "state": {
            "_dom_classes": [],
            "_model_module": "@jupyter-widgets/controls",
            "_model_module_version": "1.5.0",
            "_model_name": "FloatProgressModel",
            "_view_count": null,
            "_view_module": "@jupyter-widgets/controls",
            "_view_module_version": "1.5.0",
            "_view_name": "ProgressView",
            "bar_style": "success",
            "description": "",
            "description_tooltip": null,
            "layout": "IPY_MODEL_c620d486f91845e2b276f241548e7657",
            "max": 64776,
            "min": 0,
            "orientation": "horizontal",
            "style": "IPY_MODEL_02542c3504dd4f1196b564319805c6c3",
            "value": 64776
          }
        },
        "ea3d9e0170024a2aae4584ee09d0a5e2": {
          "model_module": "@jupyter-widgets/base",
          "model_module_version": "1.2.0",
          "model_name": "LayoutModel",
          "state": {
            "_model_module": "@jupyter-widgets/base",
            "_model_module_version": "1.2.0",
            "_model_name": "LayoutModel",
            "_view_count": null,
            "_view_module": "@jupyter-widgets/base",
            "_view_module_version": "1.2.0",
            "_view_name": "LayoutView",
            "align_content": null,
            "align_items": null,
            "align_self": null,
            "border": null,
            "bottom": null,
            "display": null,
            "flex": null,
            "flex_flow": null,
            "grid_area": null,
            "grid_auto_columns": null,
            "grid_auto_flow": null,
            "grid_auto_rows": null,
            "grid_column": null,
            "grid_gap": null,
            "grid_row": null,
            "grid_template_areas": null,
            "grid_template_columns": null,
            "grid_template_rows": null,
            "height": null,
            "justify_content": null,
            "justify_items": null,
            "left": null,
            "margin": null,
            "max_height": null,
            "max_width": null,
            "min_height": null,
            "min_width": null,
            "object_fit": null,
            "object_position": null,
            "order": null,
            "overflow": null,
            "overflow_x": null,
            "overflow_y": null,
            "padding": null,
            "right": null,
            "top": null,
            "visibility": null,
            "width": null
          }
        },
        "fe36ab74afae41feb290fc4633ebed20": {
          "model_module": "@jupyter-widgets/base",
          "model_module_version": "1.2.0",
          "model_name": "LayoutModel",
          "state": {
            "_model_module": "@jupyter-widgets/base",
            "_model_module_version": "1.2.0",
            "_model_name": "LayoutModel",
            "_view_count": null,
            "_view_module": "@jupyter-widgets/base",
            "_view_module_version": "1.2.0",
            "_view_name": "LayoutView",
            "align_content": null,
            "align_items": null,
            "align_self": null,
            "border": null,
            "bottom": null,
            "display": null,
            "flex": null,
            "flex_flow": null,
            "grid_area": null,
            "grid_auto_columns": null,
            "grid_auto_flow": null,
            "grid_auto_rows": null,
            "grid_column": null,
            "grid_gap": null,
            "grid_row": null,
            "grid_template_areas": null,
            "grid_template_columns": null,
            "grid_template_rows": null,
            "height": null,
            "justify_content": null,
            "justify_items": null,
            "left": null,
            "margin": null,
            "max_height": null,
            "max_width": null,
            "min_height": null,
            "min_width": null,
            "object_fit": null,
            "object_position": null,
            "order": null,
            "overflow": null,
            "overflow_x": null,
            "overflow_y": null,
            "padding": null,
            "right": null,
            "top": null,
            "visibility": null,
            "width": null
          }
        }
      }
    }
  },
  "nbformat": 4,
  "nbformat_minor": 0
}